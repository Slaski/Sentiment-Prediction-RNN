{
 "cells": [
  {
   "cell_type": "markdown",
   "metadata": {
    "deletable": true,
    "editable": true
   },
   "source": [
    "# Sentiment Analysis with an RNN\n",
    "\n",
    "In this notebook, you'll implement a recurrent neural network that performs sentiment analysis. Using an RNN rather than a feedfoward network is more accurate since we can include information about the *sequence* of words. Here we'll use a dataset of movie reviews, accompanied by labels.\n",
    "\n",
    "The architecture for this network is shown below.\n",
    "\n",
    "<img src=\"assets/network_diagram.png\" width=400px>\n",
    "\n",
    "Here, we'll pass in words to an embedding layer. We need an embedding layer because we have tens of thousands of words, so we'll need a more efficient representation for our input data than one-hot encoded vectors. You should have seen this before from the word2vec lesson. You can actually train up an embedding with word2vec and use it here. But it's good enough to just have an embedding layer and let the network learn the embedding table on it's own.\n",
    "\n",
    "From the embedding layer, the new representations will be passed to LSTM cells. These will add recurrent connections to the network so we can include information about the sequence of words in the data. Finally, the LSTM cells will go to a sigmoid output layer here. We're using the sigmoid because we're trying to predict if this text has positive or negative sentiment. The output layer will just be a single unit then, with a sigmoid activation function.\n",
    "\n",
    "We don't care about the sigmoid outputs except for the very last one, we can ignore the rest. We'll calculate the cost from the output of the last step and the training label."
   ]
  },
  {
   "cell_type": "code",
   "execution_count": 33,
   "metadata": {
    "collapsed": true,
    "deletable": true,
    "editable": true
   },
   "outputs": [],
   "source": [
    "import numpy as np\n",
    "import tensorflow as tf"
   ]
  },
  {
   "cell_type": "code",
   "execution_count": 34,
   "metadata": {
    "collapsed": false,
    "deletable": true,
    "editable": true
   },
   "outputs": [],
   "source": [
    "with open('data/reviews.txt', 'r') as f:\n",
    "    reviews = f.read()\n",
    "with open('data/labels.txt', 'r') as f:\n",
    "    labels = f.read()"
   ]
  },
  {
   "cell_type": "code",
   "execution_count": 35,
   "metadata": {
    "collapsed": false,
    "deletable": true,
    "editable": true
   },
   "outputs": [
    {
     "data": {
      "text/plain": [
       "'bromwell high is a cartoon comedy . it ran at the same time as some other programs about school life  such as  teachers  . my   years in the teaching profession lead me to believe that bromwell high  s satire is much closer to reality than is  teachers  . the scramble to survive financially  the insightful students who can see right through their pathetic teachers  pomp  the pettiness of the whole situation  all remind me of the schools i knew and their students . when i saw the episode in which a student repeatedly tried to burn down the school  i immediately recalled . . . . . . . . . at . . . . . . . . . . high . a classic line inspector i  m here to sack one of your teachers . student welcome to bromwell high . i expect that many adults of my age think that bromwell high is far fetched . what a pity that it isn  t   \\nstory of a man who has unnatural feelings for a pig . starts out with a opening scene that is a terrific example of absurd comedy . a formal orchestra audience is turned into an insane  violent mob by the crazy chantings of it  s singers . unfortunately it stays absurd the whole time with no general narrative eventually making it just too off putting . even those from the era should be turned off . the cryptic dialogue would make shakespeare seem easy to a third grader . on a technical level it  s better than you might think with some good cinematography by future great vilmos zsigmond . future stars sally kirkland and frederic forrest can be seen briefly .  \\nhomelessness  or houselessness as george carlin stated  has been an issue for years but never a plan to help those on the street that were once considered human who did everything from going to school  work  or vote for the matter . most people think of the homeless as just a lost cause while worrying about things such as racism  the war on iraq  pressuring kids to succeed  technology  the elections  inflation  or worrying if they  ll be next to end up on the streets .  br    br   but what if y'"
      ]
     },
     "execution_count": 35,
     "metadata": {},
     "output_type": "execute_result"
    }
   ],
   "source": [
    "reviews[:2000]"
   ]
  },
  {
   "cell_type": "markdown",
   "metadata": {
    "deletable": true,
    "editable": true
   },
   "source": [
    "## Data preprocessing\n",
    "\n",
    "The first step when building a neural network model is getting your data into the proper form to feed into the network. Since we're using embedding layers, we'll need to encode each word with an integer. We'll also want to clean it up a bit.\n",
    "\n",
    "You can see an example of the reviews data above. We'll want to get rid of those periods. Also, you might notice that the reviews are delimited with newlines `\\n`. To deal with those, I'm going to split the text into each review using `\\n` as the delimiter. Then I can combined all the reviews back together into one big string.\n",
    "\n",
    "First, let's remove all punctuation. Then get all the text without the newlines and split it into individual words."
   ]
  },
  {
   "cell_type": "code",
   "execution_count": 36,
   "metadata": {
    "collapsed": true,
    "deletable": true,
    "editable": true
   },
   "outputs": [],
   "source": [
    "from string import punctuation\n",
    "all_text = ''.join([c for c in reviews if c not in punctuation])\n",
    "reviews = all_text.split('\\n')\n",
    "\n",
    "all_text = ' '.join(reviews)\n",
    "words = all_text.split()"
   ]
  },
  {
   "cell_type": "code",
   "execution_count": 37,
   "metadata": {
    "collapsed": false,
    "deletable": true,
    "editable": true
   },
   "outputs": [
    {
     "data": {
      "text/plain": [
       "'bromwell high is a cartoon comedy  it ran at the same time as some other programs about school life  such as  teachers   my   years in the teaching profession lead me to believe that bromwell high  s satire is much closer to reality than is  teachers   the scramble to survive financially  the insightful students who can see right through their pathetic teachers  pomp  the pettiness of the whole situation  all remind me of the schools i knew and their students  when i saw the episode in which a student repeatedly tried to burn down the school  i immediately recalled          at           high  a classic line inspector i  m here to sack one of your teachers  student welcome to bromwell high  i expect that many adults of my age think that bromwell high is far fetched  what a pity that it isn  t    story of a man who has unnatural feelings for a pig  starts out with a opening scene that is a terrific example of absurd comedy  a formal orchestra audience is turned into an insane  violent mob by the crazy chantings of it  s singers  unfortunately it stays absurd the whole time with no general narrative eventually making it just too off putting  even those from the era should be turned off  the cryptic dialogue would make shakespeare seem easy to a third grader  on a technical level it  s better than you might think with some good cinematography by future great vilmos zsigmond  future stars sally kirkland and frederic forrest can be seen briefly    homelessness  or houselessness as george carlin stated  has been an issue for years but never a plan to help those on the street that were once considered human who did everything from going to school  work  or vote for the matter  most people think of the homeless as just a lost cause while worrying about things such as racism  the war on iraq  pressuring kids to succeed  technology  the elections  inflation  or worrying if they  ll be next to end up on the streets   br    br   but what if you were given a bet to live on the st'"
      ]
     },
     "execution_count": 37,
     "metadata": {},
     "output_type": "execute_result"
    }
   ],
   "source": [
    "all_text[:2000]"
   ]
  },
  {
   "cell_type": "code",
   "execution_count": 38,
   "metadata": {
    "collapsed": false,
    "deletable": true,
    "editable": true
   },
   "outputs": [
    {
     "data": {
      "text/plain": [
       "['bromwell',\n",
       " 'high',\n",
       " 'is',\n",
       " 'a',\n",
       " 'cartoon',\n",
       " 'comedy',\n",
       " 'it',\n",
       " 'ran',\n",
       " 'at',\n",
       " 'the',\n",
       " 'same',\n",
       " 'time',\n",
       " 'as',\n",
       " 'some',\n",
       " 'other',\n",
       " 'programs',\n",
       " 'about',\n",
       " 'school',\n",
       " 'life',\n",
       " 'such',\n",
       " 'as',\n",
       " 'teachers',\n",
       " 'my',\n",
       " 'years',\n",
       " 'in',\n",
       " 'the',\n",
       " 'teaching',\n",
       " 'profession',\n",
       " 'lead',\n",
       " 'me',\n",
       " 'to',\n",
       " 'believe',\n",
       " 'that',\n",
       " 'bromwell',\n",
       " 'high',\n",
       " 's',\n",
       " 'satire',\n",
       " 'is',\n",
       " 'much',\n",
       " 'closer',\n",
       " 'to',\n",
       " 'reality',\n",
       " 'than',\n",
       " 'is',\n",
       " 'teachers',\n",
       " 'the',\n",
       " 'scramble',\n",
       " 'to',\n",
       " 'survive',\n",
       " 'financially',\n",
       " 'the',\n",
       " 'insightful',\n",
       " 'students',\n",
       " 'who',\n",
       " 'can',\n",
       " 'see',\n",
       " 'right',\n",
       " 'through',\n",
       " 'their',\n",
       " 'pathetic',\n",
       " 'teachers',\n",
       " 'pomp',\n",
       " 'the',\n",
       " 'pettiness',\n",
       " 'of',\n",
       " 'the',\n",
       " 'whole',\n",
       " 'situation',\n",
       " 'all',\n",
       " 'remind',\n",
       " 'me',\n",
       " 'of',\n",
       " 'the',\n",
       " 'schools',\n",
       " 'i',\n",
       " 'knew',\n",
       " 'and',\n",
       " 'their',\n",
       " 'students',\n",
       " 'when',\n",
       " 'i',\n",
       " 'saw',\n",
       " 'the',\n",
       " 'episode',\n",
       " 'in',\n",
       " 'which',\n",
       " 'a',\n",
       " 'student',\n",
       " 'repeatedly',\n",
       " 'tried',\n",
       " 'to',\n",
       " 'burn',\n",
       " 'down',\n",
       " 'the',\n",
       " 'school',\n",
       " 'i',\n",
       " 'immediately',\n",
       " 'recalled',\n",
       " 'at',\n",
       " 'high']"
      ]
     },
     "execution_count": 38,
     "metadata": {},
     "output_type": "execute_result"
    }
   ],
   "source": [
    "words[:100]"
   ]
  },
  {
   "cell_type": "markdown",
   "metadata": {
    "deletable": true,
    "editable": true
   },
   "source": [
    "### Encoding the words\n",
    "\n",
    "The embedding lookup requires that we pass in integers to our network. The easiest way to do this is to create dictionaries that map the words in the vocabulary to integers. Then we can convert each of our reviews into integers so they can be passed into the network.\n",
    "\n",
    "> **Exercise:** Now you're going to encode the words with integers. Build a dictionary that maps words to integers. Later we're going to pad our input vectors with zeros, so make sure the integers **start at 1, not 0**.\n",
    "> Also, convert the reviews to integers and store the reviews in a new list called `reviews_ints`. "
   ]
  },
  {
   "cell_type": "code",
   "execution_count": 39,
   "metadata": {
    "collapsed": false,
    "deletable": true,
    "editable": true
   },
   "outputs": [],
   "source": [
    "# Create your dictionary that maps vocab words to integers here\n",
    "word_set = set(words)\n",
    "vocab_to_int = {word: number for word, number in zip(word_set, range(1, len(word_set) + 1))}\n",
    "\n",
    "# Convert the reviews to integers, same shape as reviews list, but with integers\n",
    "reviews_ints = [[vocab_to_int[word] for word in review.split()] for review in reviews]"
   ]
  },
  {
   "cell_type": "code",
   "execution_count": 40,
   "metadata": {
    "collapsed": false
   },
   "outputs": [
    {
     "name": "stdout",
     "output_type": "stream",
     "text": [
      "{'onboard': 1, 'edition': 2, 'loulla': 4, 'indescretion': 5, 'rangers': 7, 'cubs': 8, 'yvette': 9, 'exercise': 41, 'barn': 13, 'klaang': 15, 'confucian': 16, 'niece': 17, 'hallgren': 3, 'savage': 18, 'baddies': 19, 'unknowns': 20, 'eyeroller': 21, 'fraudulently': 22, 'leith': 10, 'becoming': 23, 'maelstrm': 24, 'kitne': 25, 'empahsise': 26, 'eliminated': 27, 'clings': 28, 'aldofo': 29, 'frazer': 30, 'dramatic': 31, 'earie': 33, 'sordie': 34, 'wildsmith': 36, 'drivvle': 39, 'bs': 38, 'intergender': 12, 'deckard': 40, 'intention': 42, 'offing': 44, 'teenaged': 45, 'pointsthe': 47, 'jayston': 11, 'esqe': 48, 'shinning': 37, 'unoriginal': 49, 'books': 50, 'legislature': 43, 'membrane': 35, 'hellspawn': 46, 'sereneness': 6, 'bleeth': 14, 'shurka': 32}\n"
     ]
    }
   ],
   "source": [
    "print({key: number for key, number in vocab_to_int.items() if number <= 50})"
   ]
  },
  {
   "cell_type": "markdown",
   "metadata": {
    "collapsed": false,
    "deletable": true,
    "editable": true
   },
   "source": [
    "### Encoding the labels\n",
    "\n",
    "Our labels are \"positive\" or \"negative\". To use these labels in our network, we need to convert them to 0 and 1.\n",
    "\n",
    "> **Exercise:** Convert labels from `positive` and `negative` to 1 and 0, respectively."
   ]
  },
  {
   "cell_type": "code",
   "execution_count": 41,
   "metadata": {
    "collapsed": false,
    "deletable": true,
    "editable": true
   },
   "outputs": [],
   "source": [
    "# Convert labels to 1s and 0s for 'positive' and 'negative'\n",
    "labels = [1 if label == 'positive' else 0 for label in labels.split('\\n') ]"
   ]
  },
  {
   "cell_type": "code",
   "execution_count": 42,
   "metadata": {
    "collapsed": false
   },
   "outputs": [
    {
     "name": "stdout",
     "output_type": "stream",
     "text": [
      "[1, 0, 1, 0, 1, 0, 1, 0, 1, 0, 1, 0, 1, 0, 1, 0, 1, 0, 1, 0, 1, 0, 1, 0, 1, 0, 1, 0, 1, 0, 1, 0, 1, 0, 1, 0, 1, 0, 1, 0, 1, 0, 1, 0, 1, 0, 1, 0, 1, 0, 1, 0, 1, 0, 1, 0, 1, 0, 1, 0, 1, 0, 1, 0, 1, 0, 1, 0, 1, 0, 1, 0, 1, 0, 1, 0, 1, 0, 1, 0, 1, 0, 1, 0, 1, 0, 1, 0, 1, 0, 1, 0, 1, 0, 1, 0, 1, 0, 1, 0, 1, 0, 1, 0, 1, 0, 1, 0, 1, 0, 1, 0, 1, 0, 1, 0, 1, 0, 1, 0, 1, 0, 1, 0, 1, 0, 1, 0, 1, 0, 1, 0, 1, 0, 1, 0, 1, 0, 1, 0, 1, 0, 1, 0, 1, 0, 1, 0, 1, 0, 1, 0, 1, 0, 1, 0, 1, 0, 1, 0, 1, 0, 1, 0, 1, 0, 1, 0, 1, 0, 1, 0, 1, 0, 1, 0, 1, 0, 1, 0, 1, 0, 1, 0, 1, 0, 1, 0, 1, 0, 1, 0, 1, 0, 1, 0, 1, 0, 1, 0]\n"
     ]
    }
   ],
   "source": [
    "print(labels[:200])"
   ]
  },
  {
   "cell_type": "markdown",
   "metadata": {},
   "source": [
    "If you built `labels` correctly, you should see the next output."
   ]
  },
  {
   "cell_type": "code",
   "execution_count": 44,
   "metadata": {
    "collapsed": false,
    "deletable": true,
    "editable": true
   },
   "outputs": [
    {
     "name": "stdout",
     "output_type": "stream",
     "text": [
      "Zero-length reviews: 1\n",
      "Minimun review length: 0\n",
      "Maximum review length: 2514\n"
     ]
    }
   ],
   "source": [
    "from collections import Counter\n",
    "review_lens = Counter([len(x) for x in reviews_ints])\n",
    "print(\"Zero-length reviews: {}\".format(review_lens[0]))\n",
    "print(\"Minimun review length: {}\".format(min(review_lens)))\n",
    "print(\"Maximum review length: {}\".format(max(review_lens)))"
   ]
  },
  {
   "cell_type": "markdown",
   "metadata": {
    "deletable": true,
    "editable": true
   },
   "source": [
    "Okay, a couple issues here. We seem to have one review with zero length. And, the maximum review length is way too many steps for our RNN. Let's truncate to 200 steps. For reviews shorter than 200, we'll pad with 0s. For reviews longer than 200, we can truncate them to the first 200 characters.\n",
    "\n",
    "> **Exercise:** First, remove the review with zero length from the `reviews_ints` list."
   ]
  },
  {
   "cell_type": "code",
   "execution_count": 45,
   "metadata": {
    "collapsed": false,
    "deletable": true,
    "editable": true
   },
   "outputs": [],
   "source": [
    "# Filter out that review with 0 length\n",
    "reviews_ints, labels = zip(*[(review, label) for review, label in zip(reviews_ints, labels) if len(review) > 0])"
   ]
  },
  {
   "cell_type": "code",
   "execution_count": 46,
   "metadata": {
    "collapsed": false
   },
   "outputs": [
    {
     "name": "stdout",
     "output_type": "stream",
     "text": [
      "Zero-length reviews: 0\n",
      "Minimun review length: 10\n",
      "Maximum review length: 2514\n"
     ]
    }
   ],
   "source": [
    "from collections import Counter\n",
    "review_lens = Counter([len(x) for x in reviews_ints])\n",
    "print(\"Zero-length reviews: {}\".format(review_lens[0]))\n",
    "print(\"Minimun review length: {}\".format(min(review_lens)))\n",
    "print(\"Maximum review length: {}\".format(max(review_lens)))"
   ]
  },
  {
   "cell_type": "markdown",
   "metadata": {
    "deletable": true,
    "editable": true
   },
   "source": [
    "> **Exercise:** Now, create an array `features` that contains the data we'll pass to the network. The data should come from `review_ints`, since we want to feed integers to the network. Each row should be 200 elements long. For reviews shorter than 200 words, left pad with 0s. That is, if the review is `['best', 'movie', 'ever']`, `[117, 18, 128]` as integers, the row will look like `[0, 0, 0, ..., 0, 117, 18, 128]`. For reviews longer than 200, use on the first 200 words as the feature vector.\n",
    "\n",
    "This isn't trivial and there are a bunch of ways to do this. But, if you're going to be building your own deep learning networks, you're going to have to get used to preparing your data.\n",
    "\n"
   ]
  },
  {
   "cell_type": "code",
   "execution_count": 71,
   "metadata": {
    "collapsed": false,
    "deletable": true,
    "editable": true
   },
   "outputs": [],
   "source": [
    "import math\n",
    "\n",
    "def truncate_review(review, seq_len=200):\n",
    "    \"\"\"\n",
    "    Truncate a review to a specified size.\n",
    "    The reviews are padded to the left with zeros when they are smaller than the specified size.\n",
    "    \n",
    "    Arguments:\n",
    "        review: The review to be truncated\n",
    "        seq_len: Size of the truncated reviews\n",
    "    \n",
    "    Returns:\n",
    "        The truncated review array.\n",
    "    \"\"\"\n",
    "    for i in range(math.ceil(len(review) / seq_len)):\n",
    "        if len(review) <= seq_len:\n",
    "            return ([0] * (seq_len - len(review))) + review\n",
    "        else:\n",
    "            return review[:seq_len]"
   ]
  },
  {
   "cell_type": "code",
   "execution_count": 74,
   "metadata": {
    "collapsed": false
   },
   "outputs": [
    {
     "data": {
      "text/plain": [
       "[0, 0, 0, 0, 0, 0, 1, 2, 3, 4]"
      ]
     },
     "execution_count": 74,
     "metadata": {},
     "output_type": "execute_result"
    }
   ],
   "source": [
    "truncate_review([1, 2, 3, 4], 10)"
   ]
  },
  {
   "cell_type": "code",
   "execution_count": 76,
   "metadata": {
    "collapsed": false
   },
   "outputs": [],
   "source": [
    "seq_len = 200\n",
    "features = [truncate_review(review) for review in reviews_ints]"
   ]
  },
  {
   "cell_type": "code",
   "execution_count": 77,
   "metadata": {
    "collapsed": false
   },
   "outputs": [
    {
     "name": "stdout",
     "output_type": "stream",
     "text": [
      "Zero-length reviews: 0\n",
      "Minimun review length: 200\n",
      "Maximum review length: 200\n"
     ]
    }
   ],
   "source": [
    "from collections import Counter\n",
    "review_lens = Counter([len(x) for x in features])\n",
    "print(\"Zero-length reviews: {}\".format(review_lens[0]))\n",
    "print(\"Minimun review length: {}\".format(min(review_lens)))\n",
    "print(\"Maximum review length: {}\".format(max(review_lens)))"
   ]
  },
  {
   "cell_type": "markdown",
   "metadata": {},
   "source": [
    "If you build features correctly, it should look like that cell output below."
   ]
  },
  {
   "cell_type": "code",
   "execution_count": 78,
   "metadata": {
    "collapsed": false,
    "deletable": true,
    "editable": true
   },
   "outputs": [
    {
     "name": "stdout",
     "output_type": "stream",
     "text": [
      "[[0, 0, 0, 0, 0, 0, 0, 0, 0, 0, 0, 0, 0, 0, 0, 0, 0, 0, 0, 0, 0, 0, 0, 0, 0, 0, 0, 0, 0, 0, 0, 0, 0, 0, 0, 0, 0, 0, 0, 0, 0, 0, 0, 0, 0, 0, 0, 0, 0, 0, 0, 0, 0, 0, 0, 0, 0, 0, 0, 0, 42463, 37396, 54592, 52704, 8733, 28055, 34622, 41551, 24015, 63225, 50030, 20718, 58544, 24861, 55619, 54774, 11489, 35154, 24872, 68939, 58544, 35887, 24610, 66462, 3008, 63225, 342, 10215, 13399, 28117, 38934, 34684, 62594, 42463, 37396, 18641, 38445, 54592, 4153, 39827, 38934, 45793, 37202, 54592, 35887, 63225, 55566, 38934, 40600, 30491, 63225, 19271, 36514, 7676, 72393, 9461, 19190, 69761, 44719, 35293, 35887, 44807, 63225, 7602, 20658, 63225, 44468, 68765, 2879, 59191, 28117, 20658, 63225, 33429, 51299, 39494, 42363, 44719, 36514, 9277, 51299, 67699, 63225, 63736, 3008, 4500, 52704, 54208, 66797, 19973, 38934, 16490, 73358, 63225, 35154, 51299, 22125, 40689, 24015, 37396, 52704, 44107, 58507, 63865, 51299, 65855, 7811, 38934, 21717, 46588, 20658, 70495, 35887, 54208, 73264, 38934, 42463, 37396, 51299, 16451, 62594, 47449, 4339, 20658, 24610, 18460, 13458, 62594, 42463, 37396, 54592, 14714, 60504, 64203, 52704, 23939, 62594, 34622, 68212, 4840], [0, 0, 0, 0, 0, 0, 0, 0, 0, 0, 0, 0, 0, 0, 0, 0, 0, 0, 0, 0, 0, 0, 0, 0, 0, 0, 0, 0, 0, 0, 0, 0, 0, 0, 0, 0, 0, 0, 0, 0, 0, 0, 0, 0, 0, 0, 0, 0, 0, 0, 0, 0, 0, 0, 0, 0, 0, 0, 0, 0, 0, 0, 0, 0, 0, 0, 0, 0, 0, 0, 0, 0, 0, 0, 0, 0, 0, 0, 0, 0, 0, 0, 0, 0, 0, 0, 71984, 20658, 52704, 41367, 7676, 56121, 55074, 15077, 41483, 52704, 27505, 64019, 13688, 35701, 52704, 10185, 63985, 62594, 54592, 52704, 43901, 73903, 20658, 17449, 28055, 52704, 20776, 57236, 61416, 54592, 16338, 43385, 4617, 46239, 16087, 60976, 8769, 63225, 46313, 23733, 20658, 34622, 18641, 56058, 14972, 34622, 5168, 17449, 63225, 44468, 20718, 35701, 64928, 65315, 29300, 52394, 26880, 34622, 49943, 7521, 5958, 29612, 69439, 4288, 55955, 63225, 53822, 68486, 34402, 16338, 5958, 63225, 8815, 48433, 35397, 13137, 54757, 36505, 61852, 38934, 52704, 28505, 42394, 6107, 52704, 35583, 64691, 34622, 18641, 33469, 37202, 61563, 5625, 13458, 35701, 24861, 20149, 36457, 8769, 52312, 70161, 7142, 47797, 52312, 27670, 9188, 50746, 42363, 16672, 60819, 72393, 34402, 7618, 70749], [7836, 53031, 11921, 58544, 23170, 39967, 7769, 56121, 50923, 4617, 60804, 41483, 66462, 8657, 17223, 52704, 18982, 38934, 73018, 4288, 6107, 63225, 16739, 62594, 55073, 239, 46370, 57065, 7676, 37475, 60096, 55955, 52159, 38934, 35154, 11180, 53031, 65239, 41483, 63225, 39871, 32921, 1686, 13458, 20658, 63225, 11913, 58544, 49943, 52704, 69560, 26292, 39355, 8189, 11489, 24018, 68939, 58544, 18856, 63225, 9820, 6107, 70002, 15528, 6861, 38934, 25541, 18145, 63225, 38535, 18203, 53031, 8189, 39771, 56583, 41181, 34402, 20551, 38934, 34294, 13291, 6107, 63225, 41575, 70230, 70230, 8657, 64203, 39771, 61563, 55073, 53184, 52704, 13171, 38934, 17995, 6107, 63225, 41575, 41483, 52704, 62347, 23209, 63225, 33682, 61563, 239, 38569, 55955, 52704, 40303, 63225, 73071, 57188, 52704, 73240, 50014, 6107, 63225, 19674, 52704, 63784, 42363, 60096, 61563, 239, 63135, 38934, 9461, 64203, 34622, 18641, 36401, 38934, 34402, 11913, 62594, 54592, 37176, 1684, 18641, 34657, 70230, 70230, 29914, 33074, 7676, 62227, 7676, 27670, 58544, 1684, 57954, 52704, 71156, 41367, 7676, 56121, 60096, 3008, 63225, 62209, 40297, 11721, 38934, 13137, 52704, 13171, 35701, 52704, 47336, 39329, 27303, 26644, 38934, 9461, 39771, 28097, 72393, 17995, 3008, 63225, 41575, 41483, 15912, 70515, 23209, 63225, 33682, 39771, 1684, 25542, 28097, 72393, 212, 64203, 28097, 13838, 35701, 52704], [40632, 64019, 58544, 52704, 27618, 8262, 47478, 22873, 54592, 43071, 13291, 35701, 69961, 13890, 68939, 40084, 38934, 71156, 56526, 14419, 5094, 18624, 41868, 7676, 54592, 33635, 39336, 52704, 54941, 20658, 45892, 18641, 38934, 3649, 52658, 3008, 48323, 20658, 34622, 40652, 66559, 38934, 63225, 19057, 58544, 52704, 57187, 27981, 6107, 72498, 54592, 5094, 30450, 42119, 4859, 4196, 63027, 69121, 63225, 47478, 65155, 26543, 5958, 58544, 54249, 8657, 54402, 67144, 63225, 22873, 54592, 63515, 38653, 8769, 63225, 36507, 69040, 44912, 42942, 42512, 3649, 6377, 48105, 18641, 10201, 1984, 55323, 37617, 67100, 62614, 7676, 37895, 63225, 38762, 69947, 13688, 35701, 24504, 51251, 56583, 18982, 38934, 13427, 63225, 69961, 44363, 34370, 6107, 52704, 20013, 22873, 21883, 6107, 4617, 19756, 27174, 8657, 39355, 26880, 3649, 208, 44912, 27876, 49800, 4617, 45575, 63491, 3008, 63225, 48611, 66408, 67923, 20658, 63225, 22873, 18207, 34622, 45376, 43385, 63225, 13731, 72898, 34622, 959, 38934, 63225, 14253, 19190, 516, 3008, 63225, 58076, 20658, 63225, 68359, 34603, 35701, 67144, 3008, 8259, 46055, 17109, 54329, 3008, 47628, 16964, 9435, 53304, 5958, 38618, 63225, 13223, 68126, 41483, 63225, 31691, 18641, 58544, 56583, 62799, 73018, 35701, 20718, 52928, 73356, 13688, 70230, 70230, 27981, 61758, 3854, 63225, 52351, 53713, 30527, 40632, 42467, 67018, 22874, 38934], [0, 0, 0, 0, 0, 0, 0, 0, 0, 0, 0, 0, 0, 0, 0, 0, 0, 0, 0, 0, 0, 0, 0, 0, 0, 0, 0, 0, 0, 0, 0, 0, 0, 0, 0, 0, 0, 0, 0, 0, 0, 0, 0, 0, 0, 0, 0, 0, 0, 0, 57386, 9435, 25331, 8769, 7868, 50816, 43526, 17857, 31, 2621, 18798, 51299, 36510, 26218, 7618, 42363, 44101, 46187, 3008, 32185, 19083, 4923, 67018, 38934, 58253, 63225, 57944, 6107, 42411, 54592, 52704, 44107, 58544, 20149, 58544, 56493, 3008, 36416, 48241, 63225, 15228, 6107, 12026, 54592, 27981, 60347, 68260, 40652, 26780, 20658, 40652, 52704, 44823, 18316, 13688, 3649, 31810, 42363, 40652, 73537, 63225, 21650, 20658, 58770, 1684, 60518, 68948, 51299, 65855, 52704, 21650, 28097, 18267, 38406, 36218, 53463, 6393, 26644, 52704, 17023, 55955, 63225, 23461, 12651, 59039, 51712, 54592, 26913, 7811, 7521, 58544, 52704, 36407, 13072, 7676, 13838, 38934, 19287, 63225, 55932, 3649, 10506, 54592, 35393, 28379, 37202, 71405, 63225, 60678, 63985, 42363, 63225, 63985, 72898, 63225, 11913, 7170, 52704, 21226, 6476, 4923, 2879, 20718, 2842, 72580, 41483, 63225, 8466, 63985, 42363, 63225, 6377, 37552, 55204, 58409, 46588, 41341, 42467, 65480, 28053, 33469, 57758, 20718, 51299, 9461, 34622, 4500, 54592, 53502, 55502], [0, 0, 0, 0, 0, 0, 0, 0, 0, 0, 0, 0, 0, 0, 0, 0, 0, 0, 0, 0, 0, 0, 0, 0, 0, 0, 0, 0, 0, 0, 0, 0, 0, 0, 0, 0, 0, 0, 0, 0, 0, 0, 0, 0, 0, 0, 0, 0, 0, 0, 0, 0, 0, 0, 42467, 34078, 69531, 3861, 51299, 64973, 4840, 58906, 24610, 43470, 6107, 24015, 56450, 15850, 6107, 63225, 26148, 20658, 63225, 62964, 29499, 42467, 38115, 492, 38934, 38895, 20658, 6248, 9277, 13101, 25767, 63225, 43213, 35701, 63027, 62964, 41367, 69439, 63225, 3338, 46187, 46108, 48639, 58544, 40652, 19740, 63225, 23468, 24015, 28229, 34622, 64474, 4906, 30871, 36510, 50923, 63225, 13929, 7676, 17788, 64203, 28097, 43839, 55955, 63225, 23468, 51299, 49943, 7076, 4840, 65037, 70230, 70230, 8657, 64474, 34622, 36510, 50923, 63225, 14705, 49943, 42784, 7676, 57984, 63225, 29285, 3008, 44101, 35701, 28097, 3370, 35393, 62847, 20658, 3649, 69318, 70695, 42363, 23958, 42363, 59777, 20658, 47029, 42363, 3649, 67164, 53130, 37202, 20658, 64360, 53031, 56493, 16973, 28097, 17223, 1998, 28117, 28097, 57984, 3008, 44101, 35701, 63225, 59034, 70230, 70230, 51299, 57984, 73615, 3008, 42467, 65480, 8657, 7076, 4840, 54765, 34622, 57984, 56345, 41483, 4617, 27898, 3990, 14094, 41483, 44615], [0, 0, 0, 0, 0, 0, 0, 0, 0, 0, 0, 0, 0, 0, 0, 0, 0, 0, 0, 0, 0, 0, 0, 0, 0, 0, 0, 0, 0, 0, 0, 0, 0, 0, 0, 0, 0, 0, 0, 0, 0, 0, 0, 0, 0, 0, 0, 0, 0, 0, 0, 0, 0, 0, 0, 0, 0, 0, 0, 0, 0, 0, 0, 0, 0, 0, 0, 0, 0, 0, 0, 0, 0, 0, 0, 0, 42467, 54592, 49477, 63225, 32921, 54646, 34078, 59040, 63225, 33074, 14688, 51009, 60476, 24282, 34622, 24554, 28475, 30706, 52704, 66922, 55067, 20658, 7836, 16331, 24086, 8316, 54021, 59210, 31688, 52704, 66922, 55067, 20658, 46728, 56058, 53031, 60865, 31688, 52704, 66922, 55067, 20658, 27508, 61563, 57506, 47449, 20658, 63225, 5191, 71725, 23276, 8657, 19684, 42467, 34078, 54592, 4906, 33858, 3008, 52704, 65659, 47449, 55729, 4923, 28475, 42363, 38934, 48099, 62594, 5958, 3008, 52704, 71984, 11489, 24861, 20658, 63225, 32921, 71495, 23206, 6882, 20658, 31878, 54592, 34095, 57406, 60476, 28475, 63225, 31481, 68303, 8657, 60476, 28475, 706, 22932, 24610, 55418, 42537, 54592, 62594, 33074, 68486, 36510, 50623, 68691, 16973, 3008, 63225, 13399, 51299, 44101, 29914, 58544, 52704, 13929, 42363, 60217, 28475, 3990, 4153, 58544, 52704, 13399], [0, 0, 0, 0, 0, 0, 0, 0, 0, 0, 0, 0, 0, 0, 0, 0, 0, 0, 0, 0, 0, 0, 0, 0, 0, 0, 0, 0, 0, 0, 0, 0, 0, 0, 0, 0, 0, 0, 0, 0, 0, 0, 0, 0, 0, 0, 0, 43474, 38331, 51299, 65037, 42467, 54592, 20861, 38934, 34402, 4617, 69682, 34078, 8657, 18199, 56583, 68486, 36510, 5451, 13688, 64831, 24015, 63225, 39328, 3990, 1686, 64474, 17047, 44719, 58990, 13688, 42363, 28475, 64110, 26860, 63225, 63985, 1398, 42363, 9429, 45092, 57984, 11113, 42467, 71984, 54592, 7521, 14220, 38934, 64110, 63225, 11692, 20658, 52704, 40561, 44364, 57984, 38767, 63225, 34153, 793, 55073, 7521, 27314, 8316, 27314, 72393, 61563, 64110, 6377, 1686, 49943, 42285, 3029, 42363, 58162, 26586, 9277, 63225, 48433, 54592, 6377, 1686, 59618, 51299, 51592, 38569, 52704, 41055, 20718, 49943, 8268, 69761, 42467, 34078, 63225, 45036, 55073, 11113, 8657, 8316, 4153, 20658, 62594, 19665, 5554, 45156, 18849, 72393, 61563, 15228, 63225, 55418, 62537, 51299, 39415, 57984, 58972, 44751, 42363, 63027, 1634, 60477, 42363, 39301, 63985, 69030, 42467, 57984, 52704, 7780, 20658, 50412, 42363, 51299, 65855, 64928, 14281, 67425, 3649, 22932, 51299, 13458, 18692, 7676, 18267, 56583, 16938, 37104, 20658, 42467, 54592, 30871, 15047], [0, 0, 0, 0, 0, 0, 0, 0, 0, 0, 0, 0, 0, 0, 0, 0, 0, 0, 0, 0, 0, 0, 0, 0, 0, 0, 0, 0, 0, 0, 0, 0, 0, 0, 0, 0, 0, 0, 0, 0, 0, 0, 0, 0, 0, 0, 0, 0, 0, 0, 0, 0, 0, 0, 0, 0, 0, 0, 0, 0, 0, 0, 0, 0, 0, 0, 0, 0, 0, 0, 0, 0, 0, 0, 0, 0, 0, 0, 0, 42467, 54592, 28475, 63225, 52591, 29914, 33074, 34078, 34622, 57984, 4153, 72375, 27548, 37202, 32921, 20658, 3649, 53557, 42363, 38917, 38569, 52704, 41440, 62594, 57984, 56373, 72402, 50816, 43526, 22651, 63225, 65480, 13101, 54592, 68939, 52704, 26913, 3854, 30155, 29499, 3029, 55073, 24861, 30989, 62594, 64474, 36510, 50923, 68496, 13688, 52704, 12504, 35393, 42363, 24861, 46187, 62594, 64474, 35957, 36510, 50923, 43229, 38934, 13137, 63225, 37505, 38934, 212, 3990, 8657, 2879, 3008, 2879, 42467, 54592, 20537, 63225, 29240, 38934, 3779, 42363, 9461, 34622, 63225, 25331, 57984, 20149, 32526, 33074, 47029, 37475, 52704, 20149, 42930, 23209, 3649, 69, 27952, 38934, 67196, 38934, 63225, 61416, 6933, 43526, 57984, 63225, 17857, 7078, 3008, 63225, 65480, 8657, 32339, 42363, 17431, 20710, 45245, 44719, 52083, 30871], [9277, 51299, 57984, 33282, 24610, 4044, 61765, 28117, 6764, 38934, 63225, 5935, 38934, 9461, 26083, 34622, 57984, 46588, 20658, 47449, 53557, 51299, 58362, 35701, 24610, 4044, 8657, 42467, 57984, 63225, 55418, 46588, 64377, 71366, 13688, 20658, 56800, 63341, 51299, 38569, 17223, 7618, 26083, 40297, 49943, 30061, 42363, 51299, 64474, 36510, 55026, 13688, 63225, 12689, 20658, 24610, 24872, 23209, 34622, 64203, 52704, 46991, 42880, 42363, 5231, 7394, 65852, 20658, 18641, 31502, 42363, 26414, 16279, 58785, 27884, 54592, 46588, 20658, 24610, 17023, 48589, 8657, 26083, 54592, 8769, 14714, 63225, 27712, 65852, 20658, 706, 20658, 3649, 29117, 3008, 63225, 24311, 44599, 20658, 69382, 49514, 27884, 11527, 52369, 52704, 19665, 24060, 32337, 19386, 3008, 38934, 63225, 18976, 20658, 52704, 47075, 49919, 8769, 63225, 56225, 58794, 26962, 8769, 52257, 4801, 29117, 44101, 35024, 44101, 10800, 1333, 63225, 34078, 65497, 56121, 64928, 29863, 40313, 64928, 23516, 42363, 54592, 26211, 3008, 57800, 11442, 42467, 34078, 44599, 72393, 34402, 17857, 4072, 58544, 4197, 3008, 47129, 26467, 4617, 46087, 54881, 20658, 48433, 38934, 18546, 52704, 35393, 46848, 42451, 20658, 7310, 42363, 31942, 8657, 58785, 27884, 54592, 64928, 69382, 50412, 63225, 34078, 54592, 5231, 35963, 42363, 13185, 8657, 59529, 62594, 51299, 529, 38569, 64928, 71169, 35701, 53031, 18890, 41483, 49663], [0, 0, 0, 0, 0, 0, 0, 0, 0, 0, 0, 0, 0, 0, 0, 0, 42467, 68212, 4840, 63225, 64353, 9903, 23494, 62183, 54592, 34622, 63225, 21251, 46239, 9903, 23494, 20658, 52213, 10491, 20452, 42467, 54592, 52704, 64640, 20658, 63225, 44107, 49042, 23209, 9435, 66515, 68301, 35701, 9903, 18641, 8262, 44101, 20658, 63225, 10491, 8657, 42467, 68212, 4840, 52704, 10491, 23964, 34666, 42467, 54592, 35393, 52704, 11656, 16454, 3673, 69761, 4500, 23494, 15306, 38934, 8936, 52704, 58537, 70142, 42363, 3649, 34018, 70230, 70230, 27981, 73244, 13598, 10885, 42363, 68540, 9418, 42467, 16454, 49042, 57954, 64568, 4153, 36401, 52704, 13283, 39377, 40297, 17426, 18641, 10506, 28053, 32060, 38934, 11187, 3649, 16704, 70230, 70230, 51299, 70826, 24086, 62594, 51299, 57984, 35081, 59325, 2362, 42467, 65480, 57730, 38934, 26776, 7344, 57776, 53031, 1046, 34622, 46686, 35393, 36401, 51299, 57984, 47366, 52704, 22187, 23494, 58544, 28097, 57984, 38917, 21305, 63225, 58254, 55955, 52704, 28505, 61549, 59838, 3008, 55619, 53463, 34622, 46686, 57241, 42363, 51299, 57984, 33485, 38934, 62957, 38934, 63225, 58024, 20658, 63225, 71984, 70230, 70230, 2879, 3008, 2879, 34622, 18641, 20537, 52704, 64110, 2362, 34622, 18641, 67059, 28475, 45328, 5133, 14637, 5121, 70230, 70230, 34622, 4647, 52704, 55955, 70230, 70230, 63225, 68269], [0, 0, 0, 0, 0, 0, 0, 0, 0, 0, 0, 0, 0, 0, 0, 0, 0, 0, 0, 0, 0, 0, 0, 0, 0, 0, 0, 0, 0, 0, 0, 0, 0, 0, 0, 0, 0, 0, 0, 0, 0, 0, 0, 0, 0, 0, 0, 0, 0, 0, 0, 0, 0, 0, 0, 0, 0, 0, 0, 0, 0, 0, 0, 0, 0, 0, 0, 0, 0, 0, 0, 0, 0, 0, 0, 0, 0, 0, 0, 0, 0, 0, 0, 0, 0, 0, 0, 0, 0, 0, 0, 0, 0, 0, 0, 0, 34622, 20594, 62594, 47449, 44194, 52596, 63225, 16112, 20658, 52704, 58785, 27884, 49042, 12255, 42363, 41483, 20149, 58238, 56583, 4923, 27403, 67011, 42363, 46991, 43828, 20658, 50412, 42363, 62549, 18641, 28475, 45914, 66964, 44194, 55073, 64391, 57158, 20658, 27884, 18641, 50412, 29137, 27884, 18641, 26868, 14328, 38934, 63225, 12560, 25990, 64203, 51299, 7076, 4840, 64792, 54592, 42467, 43600, 57984, 27884, 22987, 28874, 41483, 3649, 37471, 3008, 46256, 50412, 8657, 63225, 28664, 49175, 4234, 57984, 45070, 41483, 29005, 5958, 30482, 3008, 3649, 16454, 53626, 63290, 3008, 9903, 7897, 18641, 55067, 34622, 18641, 52704, 34387, 21525, 20658, 70640, 47689, 51299, 35397, 36510, 38934, 37462, 35701, 62594], [0, 0, 0, 0, 0, 0, 0, 0, 0, 0, 0, 0, 0, 0, 0, 0, 0, 0, 0, 0, 0, 0, 0, 0, 0, 0, 0, 0, 0, 0, 0, 0, 0, 0, 0, 0, 0, 0, 0, 0, 0, 0, 0, 0, 0, 0, 0, 0, 0, 0, 0, 0, 0, 0, 0, 0, 0, 0, 0, 0, 0, 0, 0, 0, 0, 0, 0, 0, 0, 0, 0, 0, 0, 0, 0, 0, 0, 0, 0, 0, 0, 0, 0, 0, 0, 0, 0, 0, 25321, 60476, 4617, 69682, 38934, 61610, 13137, 52704, 35963, 21381, 10491, 70230, 70230, 63225, 71984, 62574, 3008, 26317, 20909, 39355, 61563, 7076, 4840, 69439, 16943, 34622, 13899, 70230, 70230, 23573, 33073, 8769, 9903, 23494, 63225, 71999, 40314, 3008, 63225, 34078, 72393, 36505, 6827, 42363, 72393, 35957, 1205, 8316, 4153, 61563, 39953, 63225, 34078, 20327, 63225, 9193, 41440, 54592, 4906, 5187, 63225, 65480, 12277, 4840, 63261, 59205, 61563, 42363, 19684, 62502, 61563, 1942, 38934, 12460, 61563, 42376, 63225, 45092, 54592, 20149, 14799, 20658, 54767, 38934, 32850, 25028, 34564, 20658, 16454, 42363, 30440, 54592, 20149, 70230, 70230, 4906, 26317, 20718, 64110, 39771, 61563, 4923, 5249, 38934, 20953, 50070, 42363, 56469, 52704, 62035, 8259, 71984], [63225, 67018, 57163, 8769, 52704, 8262, 4629, 5348, 3008, 72375, 37202, 66462, 38934, 13137, 52704, 55863, 34078, 63225, 56450, 40652, 38965, 17154, 18641, 16379, 15214, 4500, 57984, 22651, 3008, 25584, 35701, 55863, 23468, 64928, 72375, 63225, 41463, 27898, 60356, 53116, 34622, 17857, 3008, 60734, 38934, 72872, 63225, 49447, 19364, 48996, 46588, 35397, 36510, 38934, 36510, 52704, 9786, 20658, 54932, 28475, 38934, 5415, 13688, 72138, 24015, 63225, 52859, 20658, 33282, 71716, 64568, 4153, 63225, 50030, 62537, 7811, 26083, 54592, 54002, 37649, 20658, 69387, 25259, 25500, 51299, 65855, 43323, 20658, 24610, 34017, 5249, 43385, 63225, 58076, 72038, 51299, 7076, 4840, 36401, 7676, 51299, 65855, 23, 63225, 73496, 30515, 38934, 14799, 52704, 5541, 4705, 55955, 50412, 4923, 32060, 38934, 34881, 63225, 44259, 64280, 34066, 47075, 12460, 47434, 52369, 20658, 8316, 57386, 42363, 12409, 56583, 4923, 38934, 63225, 19110, 20658, 21765, 51299, 57972, 52704, 35132, 20658, 17048, 63225, 55619, 52728, 34622, 57984, 3008, 51299, 7076, 4840, 65037, 63225, 8262, 49251, 10885, 62594, 57984, 4617, 49447, 35132, 51299, 58955, 34622, 14714, 55955, 28475, 61102, 11489, 34346, 1686, 20327, 51299, 66994, 39336, 53502, 52010, 4153, 20658, 63225, 44482, 54592, 42784, 36401, 63225, 36218, 18849, 55955, 27884, 18641, 4526, 63290, 55418, 28097, 18641, 25953, 3649, 23468, 38934], [3008, 42467, 8211, 70648, 56225, 10491, 57308, 6107, 68993, 39332, 60873, 9903, 23494, 52704, 29928, 60217, 42363, 30223, 14637, 4671, 51712, 47593, 37527, 57263, 8769, 63225, 31394, 71984, 20658, 52704, 21434, 11611, 42363, 3649, 33157, 39655, 32285, 37269, 9277, 6875, 38289, 41297, 11489, 42467, 70142, 18641, 71984, 20327, 60873, 17032, 47029, 66858, 43385, 52704, 13853, 11656, 62594, 15595, 52704, 4129, 34972, 63475, 38934, 34078, 18641, 4251, 57981, 70230, 70230, 61563, 51592, 68486, 58722, 35843, 34346, 56878, 42363, 64110, 63225, 34078, 1174, 70230, 70230, 63225, 8316, 37475, 28097, 38763, 3649, 50323, 7224, 35701, 63254, 37269, 2302, 63027, 8262, 24872, 68486, 34402, 32432, 5958, 42363, 1886, 38934, 31159, 46187, 34370, 34622, 18641, 56651, 63225, 68993, 47129, 20658, 63027, 53707, 42363, 20907, 18764, 68486, 34402, 18599, 8769, 63225, 20718, 64052, 23494, 21766, 38934, 8262, 4629, 39925, 63027, 63869, 64474, 34402, 3008, 51242, 8657, 52704, 38867, 64474, 36510, 34402, 22651, 59344, 3008, 22932, 63225, 36012, 53031, 48243, 8005, 46187, 63225, 34078, 35397, 20238, 55955, 52704, 52699, 72295, 8316, 11489, 52704, 13929, 18641, 43229, 70230, 70230, 23494, 42363, 23755, 35227, 58544, 22665, 7076, 4840, 36505, 68199, 45859, 58544, 52704, 28463, 52704, 63985, 53031, 6377, 60789, 44719, 32465, 5625, 36510, 43830, 19219, 63225, 14347, 69030, 63225], [0, 0, 0, 0, 0, 0, 0, 0, 0, 0, 0, 0, 0, 0, 0, 0, 0, 0, 0, 0, 0, 0, 0, 0, 0, 0, 0, 0, 0, 0, 0, 0, 0, 0, 0, 0, 0, 0, 0, 0, 0, 51299, 7076, 4840, 65037, 7676, 38934, 39136, 63225, 65494, 13149, 53031, 63225, 26879, 13929, 34622, 3370, 38934, 34402, 46588, 20658, 4288, 53557, 72898, 3990, 4153, 57984, 3217, 38934, 63225, 27670, 35271, 43135, 64041, 23682, 42363, 24874, 62594, 3029, 3814, 4840, 1942, 55958, 38934, 51592, 13137, 52704, 65480, 42467, 64474, 36510, 50923, 4906, 32787, 8657, 3029, 57984, 52704, 67400, 20658, 25376, 69439, 26519, 62594, 55384, 9435, 57758, 63985, 56800, 34622, 55627, 4617, 24356, 10082, 51013, 43600, 57984, 63225, 2504, 35752, 66568, 63985, 71955, 35701, 52704, 19963, 49447, 34572, 42363, 28475, 35271, 60917, 43600, 24554, 21162, 35548, 69761, 38546, 31075, 3722, 35701, 6377, 20658, 63225, 32921, 60859, 42363, 73431, 53789, 3008, 63225, 62209, 39771, 56583, 55073, 55418, 5249, 41483, 12572, 43600, 28475, 50623, 60772, 44981, 42363, 72522, 27749, 67767, 42467, 57984, 3990, 46229, 51299, 57984, 39187, 38934, 52596, 62594, 63225, 13929, 3814, 4840, 52704, 45845, 19963, 49447, 64203, 52704, 64329, 28475, 49943, 41483, 63225, 44474, 8657, 41483, 63225, 23468, 58544, 30871], [63225, 14637, 11611, 9903, 23494, 32285, 37269, 23755, 35227, 68540, 9418, 70217, 48931, 13598, 10885, 38904, 22616, 10898, 43915, 63866, 50816, 32615, 56509, 39737, 55881, 70230, 70230, 18293, 70780, 11527, 23494, 52704, 44179, 13688, 53274, 4309, 33073, 70230, 70230, 64203, 54592, 34622, 11489, 8678, 42363, 39127, 64203, 54592, 63225, 69350, 6395, 46588, 30578, 35701, 63225, 55619, 42363, 43600, 54592, 34622, 27876, 63225, 70862, 70230, 70230, 3008, 63225, 26723, 34181, 14281, 33246, 57308, 6107, 68993, 39332, 64928, 72375, 23494, 27670, 58544, 52704, 4671, 9402, 73461, 31021, 60873, 64928, 46588, 7676, 70929, 43133, 28097, 18641, 9410, 9435, 63225, 54266, 42363, 56121, 71513, 4617, 67897, 14281, 3008, 63225, 21525, 20658, 52704, 21434, 70142, 31021, 2010, 47387, 9418, 7676, 56121, 49722, 52704, 35030, 11489, 63225, 35400, 20658, 3649, 67237, 26137, 38934, 64928, 46588, 18641, 1418, 62496, 48931, 7676, 11527, 34622, 38934, 64928, 46588, 38934, 57972, 41483, 47029, 70230, 70230, 64928, 46588, 54592, 69176, 53419, 8657, 59777, 27466, 11489, 63225, 65653, 60558, 20658, 2010, 40652, 69331, 42363, 63360, 21220, 41483, 66462, 40297, 28097, 57984, 22586, 28709, 8769, 52704, 1224, 31021, 9554, 37269, 41962, 4617, 11113, 33073, 7676, 56121, 17528, 63225, 70142, 8657, 63027, 28285, 35701, 64928, 46588, 37491, 62594, 2010, 54592, 43584, 55955, 64146, 69176], [0, 0, 0, 0, 0, 0, 0, 0, 0, 0, 0, 0, 0, 0, 0, 0, 0, 0, 0, 0, 0, 0, 0, 0, 0, 0, 0, 0, 0, 0, 0, 0, 0, 0, 0, 0, 0, 0, 0, 0, 0, 0, 0, 0, 0, 0, 0, 0, 0, 0, 0, 0, 0, 0, 0, 0, 0, 0, 0, 0, 0, 0, 0, 0, 0, 0, 0, 0, 0, 0, 0, 0, 0, 0, 0, 0, 0, 0, 0, 0, 0, 0, 0, 0, 0, 0, 0, 0, 0, 0, 0, 0, 0, 0, 0, 0, 0, 0, 0, 0, 0, 0, 0, 0, 0, 0, 0, 0, 0, 0, 0, 0, 0, 0, 0, 0, 0, 0, 0, 0, 0, 0, 0, 0, 0, 0, 0, 0, 0, 0, 0, 0, 42467, 34078, 54592, 20702, 24015, 17857, 35271, 60917, 54592, 58544, 36218, 58544, 52704, 65375, 20658, 55034, 63027, 14415, 40038, 55955, 29645, 42363, 59167, 7471, 9435, 3008, 52704, 50580, 57163, 24015, 28055, 43135, 21162, 54592, 63225, 55418, 46588, 38934, 17894, 13688, 47923, 3008, 42467, 517, 16969, 28055, 63225, 55418, 27309, 62537, 38934, 17894, 13688, 20658, 42467, 53025, 54592, 43135, 42363, 64041, 18641, 23674, 73906, 62594, 37145, 69953, 33469, 41463], [61563, 65037, 9903, 23494, 60030, 31411, 2932, 54592, 2609, 1253, 47029, 3008, 63225, 59607, 47637, 35701, 2879, 34346, 19994, 55729, 28097, 56121, 23217, 42467, 36637, 35701, 49395, 63225, 61302, 20658, 52859, 38934, 39570, 4500, 29745, 9277, 34622, 46108, 13688, 8657, 54592, 1174, 52704, 21051, 44107, 63225, 54204, 28097, 56121, 22651, 47637, 36510, 50923, 26913, 26586, 26238, 42363, 46588, 73843, 9569, 63225, 14637, 11611, 59668, 20702, 55176, 42363, 52704, 5929, 17515, 73466, 54592, 32398, 3649, 17857, 11180, 29590, 70230, 70230, 42467, 54592, 52704, 4906, 21014, 71984, 69439, 2362, 34622, 12277, 4840, 61940, 52704, 42514, 66343, 53031, 18692, 62594, 38349, 37318, 41483, 62594, 39871, 63225, 5377, 20658, 63225, 34078, 54592, 57308, 6107, 4617, 27999, 62354, 20658, 21576, 62594, 19684, 56121, 27679, 38934, 34402, 24960, 46258, 3008, 37396, 35154, 51299, 57972, 4617, 54434, 8769, 52704, 69686, 31021, 59286, 68586, 54283, 7676, 32685, 61210, 12166, 42363, 52394, 72177, 64146, 58544, 52704, 42414, 51299, 57984, 37246, 8769, 63225, 71984, 40297, 51299, 57972, 41530, 34167, 62594, 54283, 6090, 28475, 38917, 44761, 9277, 51299, 67699, 42467, 65480, 63225, 12943, 15077, 62594, 9903, 23494, 3990, 62451, 9720, 23385, 3008, 24610, 28511, 70230, 70230, 32285, 37269, 35957, 11527, 63027, 17857, 31, 33073, 7521, 58544, 63225, 59777, 4283, 37183, 63027], [63225, 34078, 54592, 36622, 3029, 54592, 64928, 55619, 65659, 38934, 24086, 34622, 63225, 71984, 54592, 12011, 42363, 18417, 26586, 41483, 42467, 50224, 51299, 7076, 4840, 13458, 32921, 1686, 65037, 64203, 52704, 35204, 54592, 53031, 5120, 51592, 31759, 51299, 46686, 58544, 39771, 51299, 57984, 47366, 52704, 65480, 55955, 63225, 18641, 63225, 43580, 57984, 49943, 28475, 45859, 41483, 63225, 19963, 69439, 40652, 19219, 3008, 41447, 51299, 13458, 42467, 49736, 68993, 41483, 38331, 16973, 7676, 58362, 34622, 7521, 58544, 63225, 31629, 55073, 53274, 42363, 5929, 24015, 63225, 34294, 32921, 38826, 4840, 50215, 41483, 63225, 44765, 22932, 70230, 70230, 51299, 7076, 4840, 13458, 67851, 51592, 4630, 63225, 34078, 13688, 33557, 20658, 20718, 47449, 20658, 63225, 46187, 3370, 38934, 34402, 43229, 8259, 58544, 39771, 56583, 55073, 17223, 23214, 53031, 28097, 49943, 38826, 4840, 65037, 8316, 38934, 63614, 39336, 28097, 3299, 55955, 46588, 63985, 38934, 63225, 20551, 42363, 61563, 38569, 38934, 42595, 42363, 68922, 13688, 53031, 14378, 64203, 57984, 52159, 6107, 51299, 51592, 38826, 4840, 64792, 58785, 18641, 24642, 11313, 24872, 53031, 22740, 22932, 64203, 55073, 2879, 63225, 59814, 41666, 9570, 42363, 68311, 50014, 55955, 70002, 7225, 11489, 64203, 57984, 28097, 11027, 51299, 13458, 34622, 57984, 3649, 4906, 11485, 57163, 24015, 41704, 38934, 68214, 42467, 19665], [9277, 51299, 56450, 57972, 26199, 54623, 71984, 51299, 57984, 52061, 3008, 8769, 63225, 57065, 49042, 52804, 8769, 60873, 64928, 46588, 42363, 4288, 28097, 46937, 11489, 42363, 49142, 62594, 40652, 53116, 64377, 36510, 1174, 50923, 53184, 63225, 34078, 14323, 20658, 4617, 11113, 71984, 42363, 4923, 17139, 38934, 9461, 13763, 63225, 16858, 20658, 18572, 70230, 70230, 60217, 26199, 15117, 42363, 13929, 39737, 55881, 36510, 34095, 61933, 70230, 70230, 35701, 49943, 63225, 19190, 54382, 20658, 41024, 9903, 23494, 47120, 63225, 29244, 67, 20658, 60873, 42363, 46699, 52369, 9461, 3649, 13615, 35701, 16754, 20658, 2410, 20710, 3008, 3649, 7736, 24872, 22665, 42363, 63225, 62209, 9730, 2932, 9554, 70230, 70230, 58544, 64377, 4923, 6265, 38934, 63225, 12997, 3008, 42467, 49042, 64377, 4923, 12000, 62594, 8223, 54592, 26218, 58544, 34622, 20804, 42363, 62594, 63225, 25477, 66836, 72393, 41685, 49301, 18976, 25171, 63225, 66939, 38934, 14975, 52704, 698, 58510, 8769, 52704, 21434, 41367, 25714, 43385, 52704, 24872, 64556, 66836, 62594, 11771, 60873, 52596, 63225, 55393, 49830, 47029, 38934, 73273, 6107, 42363, 29994, 69031, 70230, 70230, 34622, 18641, 38934, 36622, 62594, 32921, 1686, 5120, 6489, 42467, 34078, 51299, 55418, 24086, 62594, 40951, 63225, 58486, 46347, 5120, 35957, 13458, 9903, 23494, 3008, 52704, 44159, 14145, 62594, 38826, 4840, 11180], [42467, 34078, 54592, 46588, 11708, 31819, 31509, 67154, 67851, 54592, 21454, 69560, 3008, 3649, 1884, 36622, 14705, 42363, 3649, 1380, 54592, 11489, 58544, 4016, 58544, 34622, 72393, 34402, 23209, 3649, 38917, 47628, 50923, 11709, 9650, 63225, 18601, 70230, 70230, 63225, 27712, 2362, 54592, 58785, 5353, 27467, 51299, 45841, 36401, 9277, 28097, 18641, 11151, 50623, 28097, 57954, 63225, 35204, 52704, 49864, 41367, 3008, 28954, 13817, 7676, 57954, 60213, 13846, 38934, 63225, 71811, 26553, 20658, 63225, 17286, 27099, 28097, 64973, 4840, 36510, 50923, 35393, 46588, 43759, 39771, 28097, 38569, 50923, 43229, 13688, 20658, 52704, 51999, 42363, 33515, 9730, 3008, 23938, 20658, 63225, 5611, 6107, 52704, 9032, 21818, 3649, 18057, 59155, 54592, 62594, 5958, 63225, 10253, 14323, 62594, 43720, 55955, 63225, 39716, 38934, 63225, 34294, 20658, 60492, 58507, 28097, 20272, 58544, 2362, 63225, 935, 42363, 67668, 20658, 63225, 57185, 54592, 19684, 72184, 2932, 20658, 60492, 47681, 20658, 38776, 28097, 56121, 34622, 54592, 57412, 8657, 3649, 54592, 28475, 63225, 27712, 59155, 3008, 63225, 65480, 3649, 22740, 45245, 8769, 55759, 820, 15306, 38934, 1205, 24861, 22804, 20658, 52704, 54402, 19651, 59155, 62594, 54592, 3990, 56915, 28097, 72393, 68801, 24194, 63225, 36622, 18030, 58510, 41483, 2932, 28097, 54592, 29768, 20658, 64817, 3649, 24356, 18641, 3008, 10071], [0, 0, 0, 0, 0, 0, 0, 0, 0, 0, 0, 0, 0, 0, 0, 0, 0, 0, 0, 0, 0, 0, 0, 0, 0, 0, 0, 0, 0, 0, 0, 0, 0, 0, 0, 0, 0, 0, 0, 0, 0, 0, 0, 0, 0, 0, 0, 0, 0, 0, 0, 0, 0, 0, 0, 0, 0, 0, 0, 0, 0, 0, 0, 0, 0, 0, 0, 0, 0, 0, 0, 0, 0, 0, 0, 0, 0, 0, 0, 0, 0, 0, 0, 0, 0, 0, 0, 0, 0, 0, 0, 0, 0, 0, 0, 0, 0, 0, 0, 0, 0, 0, 0, 0, 0, 0, 0, 0, 0, 0, 0, 0, 0, 0, 51299, 39415, 63225, 34078, 24861, 20658, 63225, 72346, 46187, 55073, 4906, 67897, 24096, 42363, 30871, 23217, 51299, 26586, 39415, 63225, 10185, 63985, 4500, 38569, 52704, 71562, 36418, 3008, 34622, 52704, 4906, 24096, 72346, 63985, 62594, 3370, 30871, 23217, 70230, 70230, 24861, 20658, 63225, 50311, 46187, 55073, 42430, 3008, 67897, 36973, 68939, 58544, 20718, 15752, 73202, 64307, 6770, 53031, 67897, 40314, 27981, 63225, 34078, 54592, 36218, 54592, 1484, 52083, 51299, 27981, 39415, 8316, 63225, 50540, 22187, 57984, 9720, 7521, 51299, 28954, 30706, 63225, 34078, 4617, 13688, 20658], [0, 0, 0, 0, 0, 0, 0, 0, 0, 0, 0, 0, 0, 0, 0, 0, 0, 0, 0, 0, 0, 0, 0, 0, 0, 0, 0, 0, 0, 0, 0, 0, 0, 0, 0, 0, 0, 0, 0, 0, 0, 0, 0, 0, 0, 0, 0, 0, 0, 0, 0, 0, 63225, 41440, 41483, 208, 39771, 34622, 38917, 72393, 34402, 18812, 52704, 41440, 56121, 6377, 64324, 39332, 46588, 69350, 63225, 39716, 46588, 24015, 63225, 34294, 28178, 34346, 39332, 13137, 13291, 68292, 20658, 63225, 41424, 65480, 20718, 60096, 42363, 51299, 48199, 60096, 3008, 73316, 54592, 37757, 63225, 13929, 18641, 42163, 37145, 38934, 12464, 3008, 63225, 62709, 51299, 36401, 23913, 53557, 51299, 36401, 19665, 53557, 42363, 51299, 7076, 4840, 64792, 67237, 8769, 67169, 46187, 8657, 39771, 61563, 16451, 28117, 38934, 55554, 69761, 62709, 20658, 25256, 19665, 70633, 46187, 35701, 64928, 4214, 61563, 36510, 54168, 62537, 22027, 1072, 35458, 46588, 20658, 24610, 17023, 53789, 54592, 62376, 52097, 7811, 42363, 64928, 13101, 12277, 4840, 64792, 26914, 28475, 69439, 3008, 63225, 994, 14323, 4500, 51299, 67699, 70230, 70230, 39771, 61563, 36510, 52704, 28463, 20658, 37104, 38934, 14478, 55641, 42363, 34433, 38934, 64110, 208, 15228, 52704, 63737, 67767, 61563, 41181, 35957, 36510, 35393, 67897, 67972], [3029, 4923, 47449, 35296, 63827, 3008, 63225, 28511, 20658, 41367, 4500, 36510, 50923, 53184, 24872, 3008, 68883, 25530, 15119, 73991, 53031, 60402, 27133, 3008, 63225, 5501, 20658, 59596, 36510, 31284, 44195, 56224, 42363, 53085, 36597, 35701, 1942, 11180, 38934, 29964, 39336, 7957, 37149, 24861, 20658, 34346, 20907, 29084, 4923, 56871, 8769, 4288, 35701, 64928, 19425, 20658, 44719, 55466, 53031, 69439, 20658, 44719, 60558, 62594, 54592, 63225, 58024, 20658, 63225, 34078, 71421, 63225, 14637, 73378, 34622, 40020, 63225, 71984, 20658, 52704, 5193, 9402, 47593, 18812, 60873, 42129, 9903, 23494, 7676, 19473, 3649, 48720, 41312, 3649, 6589, 35701, 11643, 43133, 11489, 6417, 29917, 49395, 60476, 40951, 3649, 51712, 54592, 52899, 34622, 18641, 12423, 64836, 4500, 39514, 42129, 38934, 15514, 28097, 54592, 64928, 16238, 47029, 48090, 22133, 8769, 20710, 3649, 31619, 22665, 23755, 35227, 42363, 3649, 42363, 17857, 54069, 70217, 48931, 28097, 47181, 13885, 3008, 3649, 41517, 65575, 42363, 31923, 34622, 54592, 7811, 52704, 66346, 64803, 3008, 63225, 14637, 48625, 2932, 41483, 73018, 42129, 10356, 38934, 22123, 22723, 42363, 29711, 13688, 38934, 63225, 42163, 64803, 4500, 22253, 38934, 52704, 19963, 49447, 70142, 18812, 17917, 68540, 9418, 3008, 35843, 63225, 70142, 18641, 31394, 35030, 4500, 52987, 63225, 60125, 24872, 42363, 9753, 12166, 24015, 63225], [0, 0, 0, 0, 0, 0, 0, 0, 0, 0, 0, 0, 0, 0, 0, 0, 0, 0, 0, 0, 0, 0, 0, 0, 0, 0, 0, 0, 0, 0, 0, 0, 0, 0, 0, 0, 0, 0, 0, 0, 0, 0, 0, 0, 0, 0, 0, 0, 0, 0, 0, 0, 0, 0, 0, 0, 0, 0, 0, 0, 0, 0, 0, 0, 0, 0, 0, 0, 0, 0, 0, 0, 0, 0, 0, 0, 0, 0, 0, 0, 0, 0, 0, 0, 0, 0, 0, 0, 0, 0, 0, 0, 0, 0, 0, 41440, 54592, 28475, 20537, 71968, 69439, 39771, 34622, 43716, 24015, 42549, 60203, 42977, 42363, 63225, 12689, 20658, 10491, 47962, 54710, 30347, 4923, 67897, 2362, 51577, 28475, 66922, 8657, 67897, 47721, 70230, 70230, 45246, 54592, 35963, 36401, 45857, 14389, 17203, 61869, 28475, 3773, 8657, 20149, 1942, 38934, 69621, 63225, 61295, 15095, 20149, 65480, 38934, 64110, 68260, 31311, 57687, 52159, 38934, 1547, 8223, 28276, 7521, 4153, 8223, 57544, 65480, 38491, 44599, 70230, 70230, 51299, 39415, 58785, 11113, 33073, 38569, 38934, 50985, 63225, 41440, 44963, 42363, 37475, 63225, 42930, 64568, 20149, 63225, 12689, 4923, 45803, 2362, 4906, 46229, 63225, 44468, 54592, 48002, 42363, 33469, 37202, 32921, 35695, 15488], [51299, 16938, 63225, 14637, 11611, 4906, 4153, 34622, 18641, 46588, 20658, 63225, 33469, 53557, 20658, 63225, 5254, 70230, 70230, 9903, 23494, 11527, 46588, 20658, 3649, 17857, 45036, 3008, 46426, 63225, 71835, 50623, 57984, 4906, 20149, 2879, 45245, 49943, 63225, 19190, 43631, 41483, 44719, 30347, 28475, 7521, 4153, 42363, 28475, 7521, 33282, 13598, 10885, 47924, 52704, 14990, 29863, 16772, 32285, 37269, 54592, 70161, 58544, 63225, 58416, 42363, 17223, 52152, 9435, 63225, 10420, 38331, 54592, 4906, 45859, 70230, 70230, 34622, 18641, 52704, 8259, 65480, 49943, 3854, 4617, 73843, 42363, 52704, 65579, 51299, 3679, 63225, 65315, 73466, 14323, 54592, 6961, 62709, 40887, 37202, 63225, 31489, 14323, 51299, 57892, 39771, 24861, 20658, 63225, 35393, 23913, 53003, 55073, 43229, 55955, 63225, 65480, 70230, 70230, 63225, 13929, 45394, 52704, 71984, 42363, 37475, 34622, 3008, 59778, 1765, 4500, 54592, 52704, 49283, 41685, 55955, 47449, 48589, 34346, 70515, 7676, 36505, 38934, 13458, 44719, 42930, 54592, 38934, 28688, 63225, 61416, 55175, 37202, 3446, 52704, 71984, 42363, 3446, 34622, 30871, 70230, 70230, 212, 28475, 34402, 61860, 71870, 8769, 63225, 9850, 42363, 10394, 34622, 54592, 28475, 52704, 18293, 10491, 9461, 63225, 14637, 11611, 40951, 61563, 34433, 38934, 9461, 52704, 20149, 71984, 45394, 30871, 39771, 61563, 52572, 44197, 30482, 61563, 5120, 34402], [0, 0, 0, 0, 0, 0, 0, 0, 0, 0, 0, 0, 0, 0, 0, 0, 0, 0, 0, 0, 0, 0, 0, 0, 0, 0, 0, 0, 0, 0, 0, 0, 0, 0, 0, 0, 0, 0, 0, 0, 0, 0, 0, 0, 0, 0, 0, 0, 0, 0, 0, 0, 0, 0, 0, 0, 42467, 34078, 54592, 11489, 52704, 41666, 27419, 8268, 34066, 3008, 52704, 60203, 57980, 62594, 4071, 3008, 63225, 49018, 20658, 18114, 10315, 18641, 26553, 70230, 70230, 51299, 4630, 63225, 35204, 35397, 34402, 62035, 42363, 5187, 8657, 51299, 57984, 3990, 59382, 63225, 41252, 54592, 5231, 42363, 62291, 35963, 62594, 69439, 68260, 62709, 20658, 63225, 34078, 8223, 13926, 4153, 64851, 63225, 56450, 73843, 64474, 34402, 25198, 43385, 50674, 62709, 62594, 18641, 8316, 35963, 34622, 54592, 70230, 70230, 63225, 46426, 62594, 34622, 70224, 49663, 16946, 53031, 72346, 46187, 60936, 63225, 14143, 34622, 18641, 27876, 28276, 62594, 69439, 14839, 46187, 4923, 3990, 22694, 42363, 19992, 20658, 34076, 68292, 34622, 54592, 40951, 20658, 63225, 41878, 43896, 4609, 20658, 63225, 10255, 60213, 48074, 70230, 70230, 34622, 18641, 6478, 62594, 63225, 35204, 37527, 68939, 52704, 7394, 53025, 59668, 68939, 52704, 16228, 50623, 39136, 34622, 6107, 63225, 11485, 41440, 42363, 69439, 34189, 41252], [0, 0, 0, 0, 0, 0, 0, 0, 0, 0, 0, 0, 0, 0, 0, 0, 0, 0, 0, 0, 0, 0, 0, 0, 0, 0, 0, 0, 0, 0, 0, 0, 0, 0, 0, 0, 0, 0, 0, 0, 0, 0, 0, 0, 0, 0, 0, 0, 0, 0, 0, 0, 63225, 14637, 11611, 54592, 35957, 28475, 46588, 20658, 17426, 18641, 17857, 48825, 8657, 28097, 42395, 52704, 4906, 67897, 10506, 3008, 52704, 51021, 25831, 8657, 4906, 53713, 65480, 51299, 72393, 43268, 61563, 62594, 61563, 36510, 17223, 7618, 42467, 22804, 20658, 65480, 57687, 24861, 1686, 68292, 29550, 4840, 36401, 63225, 35963, 41252, 20658, 42467, 65480, 8657, 51299, 13458, 34622, 18641, 63225, 70161, 31081, 20658, 63225, 65480, 34622, 54592, 67059, 46588, 20658, 63225, 10420, 53557, 62594, 36510, 17894, 13688, 63225, 19963, 34622, 56121, 52704, 18124, 33073, 3008, 52704, 65480, 35701, 52704, 70161, 72123, 31, 48090, 42467, 54592, 64928, 5058, 65480, 28352, 54592, 34622, 52704, 46229, 65480, 61563, 49943, 22123, 62594, 34622, 54592, 52704, 65480, 62594, 56121, 6711, 4500, 61563, 36510, 52704, 41055, 20718, 38934, 21316, 64203, 63225, 53302, 20658, 34622, 6090, 34402, 42467, 54592, 64928, 11113, 65480, 62594, 56121, 60096, 8657, 40017, 34622, 18641, 52704, 38526, 20149, 42363, 4906, 28718, 65480], [0, 0, 0, 0, 0, 0, 0, 0, 0, 0, 0, 0, 0, 0, 0, 0, 0, 0, 0, 0, 42467, 65480, 70826, 34402, 3008, 58507, 41483, 63225, 32921, 7394, 65480, 3008, 66462, 28475, 69439, 58785, 19878, 72393, 32570, 42467, 65480, 55955, 70661, 38934, 63225, 14253, 70230, 70230, 63225, 60203, 3008, 42467, 65480, 4923, 20861, 38934, 34402, 63225, 19110, 20658, 65897, 3008, 42467, 65480, 8657, 54592, 28475, 8223, 54592, 20658, 49663, 65897, 63225, 50623, 4923, 28475, 38934, 36622, 8657, 63225, 70718, 4923, 49943, 22694, 40366, 51299, 49943, 24769, 3008, 13498, 24590, 9650, 42467, 65480, 11027, 8316, 6107, 63971, 72393, 18692, 52596, 42467, 65480, 32787, 70230, 70230, 63225, 54073, 20658, 42467, 65480, 55073, 4906, 72447, 56583, 22651, 52704, 7394, 65480, 8657, 43888, 34622, 30871, 35701, 63225, 56192, 20658, 20149, 23468, 42363, 53789, 6107, 44719, 50623, 1686, 5120, 52572, 38934, 63225, 60901, 42363, 35957, 9461, 42467, 65480, 42363, 13458, 58785, 19878, 69194, 65863, 18633, 42363, 58698, 58402, 42467, 70826, 34402, 20149, 42363, 3779, 42467, 65480, 70142, 4923, 56583, 3008, 41483, 52704, 517, 20718, 70230, 70230, 39771, 61563, 36401, 8268, 30640, 5958, 52572, 42363, 3779, 42467, 65480, 24861, 1686, 38917, 37475, 16938, 42467, 65480, 8657, 51299, 36401, 38934, 64110, 52704, 65480, 35701, 7310], [0, 0, 0, 0, 0, 0, 0, 0, 0, 0, 0, 0, 0, 0, 0, 0, 0, 0, 0, 0, 0, 0, 0, 0, 0, 0, 0, 0, 0, 0, 0, 0, 0, 0, 0, 0, 0, 0, 36401, 46588, 20658, 63225, 8101, 39625, 53116, 42467, 38569, 63225, 30560, 20658, 52704, 70161, 65480, 8657, 3861, 4071, 6107, 63225, 65659, 38934, 27490, 68939, 52704, 64329, 40951, 37269, 18641, 33073, 57984, 65434, 42363, 23494, 57984, 45859, 51299, 49943, 31284, 46594, 41483, 34622, 38934, 64792, 33469, 51299, 7076, 4840, 13458, 34622, 57984, 36622, 72295, 53031, 43839, 54168, 13929, 34622, 64474, 36510, 49943, 50923, 63225, 34078, 34622, 46108, 48639, 58544, 52704, 39592, 65480, 3861, 36401, 63225, 56450, 72967, 67765, 20658, 23519, 6858, 28475, 2275, 49943, 59637, 27981, 34622, 43839, 52704, 33282, 35393, 16454, 3861, 62594, 42395, 61563, 70665, 5958, 70495, 21131, 63225, 65480, 10518, 62594, 16370, 63341, 427, 55641, 22804, 20658, 36401, 52704, 65404, 20707, 51299, 72393, 9461, 8316, 40652, 7521, 41586, 35397, 36510, 52061, 55641, 55955, 63225, 45793, 20658, 63225, 71984, 8657, 51299, 4630, 62594, 26148, 57984, 10518, 9277, 60873, 57984, 3008, 63225, 60678, 5249, 41483, 63225, 70142, 42467, 65480, 10356, 38934, 36510, 52704, 13929, 18641, 43229, 62594, 8324, 38934, 18242, 34346, 13223], [0, 0, 0, 0, 0, 0, 0, 0, 0, 0, 0, 0, 0, 0, 0, 0, 0, 0, 0, 0, 0, 0, 0, 0, 0, 0, 0, 0, 0, 0, 0, 0, 0, 0, 0, 0, 0, 0, 0, 0, 0, 0, 0, 0, 0, 0, 0, 0, 0, 0, 0, 0, 0, 0, 0, 0, 0, 0, 0, 0, 52704, 6896, 13688, 41440, 20658, 52704, 41367, 7676, 26543, 63225, 66000, 41483, 52704, 34572, 3008, 52704, 60203, 62354, 63225, 9303, 6896, 13688, 41440, 20658, 4617, 31999, 6107, 63225, 60148, 7676, 52394, 54592, 61728, 13688, 70230, 70230, 35701, 68939, 4617, 52578, 62354, 46588, 35397, 13458, 63225, 34078, 35397, 9689, 71611, 60476, 41636, 72062, 8657, 63985, 68260, 63985, 46257, 8769, 35701, 64928, 41685, 3008, 44470, 64928, 10506, 72830, 42363, 32915, 8280, 70230, 70230, 63225, 18072, 12674, 57984, 62376, 6827, 53031, 6107, 63225, 55619, 5259, 62376, 27082, 34622, 3370, 38934, 34402, 67099, 55418, 38934, 6177, 63225, 44474, 9277, 5120, 18572, 71008, 62594, 47628, 6417, 30347, 24554, 28475, 24990, 13137, 52704, 35393, 21764, 19996, 70230, 70230, 52704, 24914, 5147, 65480, 9277, 5120, 6126, 36139, 30965, 52704, 20149, 46588, 51299, 17139, 33469, 20658, 63027, 42363, 69194, 65863, 18633, 42467, 46588, 54592, 67059, 46588, 38934, 73985], [0, 0, 0, 0, 63225, 14637, 11611, 49493, 24610, 2032, 35701, 9903, 23494, 17692, 58544, 52704, 8262, 4629, 4722, 9402, 47593, 7676, 37527, 62847, 35701, 3649, 5444, 35701, 52704, 19963, 49447, 70142, 68540, 9418, 7676, 54592, 4906, 976, 23494, 56121, 17223, 59737, 63225, 70142, 3008, 61549, 58544, 56583, 36510, 55418, 50923, 3008, 48500, 8769, 58162, 6107, 63225, 62342, 20327, 23494, 10042, 22740, 26317, 42930, 55955, 23755, 35227, 45902, 16925, 11489, 63225, 70142, 4500, 66604, 23494, 38934, 73813, 52704, 21832, 35701, 2932, 3008, 61549, 64203, 64786, 42395, 52704, 5544, 12127, 6107, 23494, 3008, 52704, 65659, 28097, 24554, 28475, 16451, 51299, 5120, 52056, 34622, 24015, 62594, 32285, 37269, 27981, 27670, 70230, 70230, 51299, 16938, 42467, 34078, 35701, 32285, 37269, 41962, 52704, 25116, 42705, 20658, 9418, 18641, 33157, 39655, 13598, 10885, 27981, 15716, 58544, 23494, 54069, 63225, 14637, 11611, 54592, 45183, 8769, 27999, 39332, 42363, 34622, 56121, 52704, 30580, 27876, 15851, 47917, 53601, 24015, 25530, 34622, 54592, 46229, 64928, 48797, 38934, 24861, 20658, 63225, 55176, 51299, 57972, 57687, 65993, 63225, 65480, 42363, 49943, 70792, 38934, 40793, 8657, 51299, 39415, 34622, 51013, 51299, 39953, 23494, 3008, 48825, 36401, 42467, 35393, 3990, 37202, 3649, 64353, 30347, 3990, 62594, 57984, 4617, 38746, 16066, 41483, 28117, 55359], [0, 0, 0, 0, 0, 0, 0, 0, 0, 0, 0, 0, 0, 0, 0, 0, 0, 0, 0, 0, 0, 0, 0, 0, 0, 0, 0, 0, 0, 0, 0, 0, 0, 0, 0, 0, 0, 0, 0, 0, 0, 0, 0, 0, 0, 0, 0, 0, 0, 0, 0, 0, 0, 0, 0, 0, 0, 0, 0, 0, 0, 0, 0, 0, 0, 0, 0, 0, 0, 0, 0, 0, 0, 0, 0, 0, 0, 0, 0, 0, 0, 0, 0, 0, 0, 0, 0, 0, 0, 0, 0, 0, 0, 0, 0, 0, 0, 0, 0, 0, 0, 0, 0, 0, 0, 0, 0, 0, 0, 0, 0, 0, 0, 0, 0, 0, 0, 0, 0, 0, 0, 0, 0, 0, 0, 0, 0, 0, 0, 0, 0, 0, 0, 51299, 67699, 42467, 65480, 24015, 52704, 24803, 3008, 3008, 40297, 17066, 63225, 21255, 51299, 46370, 42467, 63225, 27712, 65480, 51299, 38569, 26218, 7618, 42467, 65480, 19973, 38934, 63168, 2879, 63225, 33401, 3008, 46588, 28055, 53626, 51792, 50145, 42363, 63225, 31075, 67679, 62594, 70826, 36510, 43722, 24610, 39655, 63225, 29204, 68292, 34622, 52648, 52704, 67018, 39241, 38934, 9461, 39771, 34622, 54592, 4617, 52104, 65700, 20658, 34622, 18641, 20718], [5193, 9402, 55274, 60873, 64928, 46588, 9903, 23494, 35449, 42363, 27952, 3008, 1303, 760, 11297, 37527, 58233, 42363, 57438, 35701, 52704, 6379, 19963, 49447, 70142, 55955, 37113, 31021, 2010, 47387, 68540, 9418, 7676, 56121, 58510, 52704, 698, 36198, 9753, 12166, 55955, 3649, 4044, 38934, 46216, 2010, 56121, 64146, 42363, 42467, 42594, 60873, 15534, 19684, 56800, 3649, 55239, 22665, 23755, 35227, 20149, 13926, 38934, 34402, 52704, 31691, 20658, 34100, 47029, 70230, 70230, 28097, 27981, 53782, 47029, 35701, 2010, 18641, 57489, 52704, 34572, 31021, 9554, 32285, 37269, 57386, 42363, 9277, 60873, 20037, 28097, 13838, 38934, 18196, 42363, 4671, 38934, 63225, 6377, 20658, 39336, 3008, 61549, 42363, 52152, 38934, 37113, 28097, 72245, 24861, 6711, 28097, 57984, 69176, 28475, 7232, 38934, 52596, 70230, 70230, 57308, 6107, 57241, 39332, 62594, 4071, 38934, 26199, 15117, 7676, 36507, 41036, 63225, 14705, 35701, 39037, 52635, 42363, 25953, 8769, 39737, 57215, 42467, 34078, 71760, 52704, 67949, 3843, 39382, 68292, 52704, 72967, 62709, 16238, 37202, 46588, 5625, 13458, 52704, 65480, 20658, 42467, 33662, 35397, 51804, 62594, 18641, 20149, 3008, 62594, 34622, 47693, 63225, 72346, 42363, 4214, 5953, 42363, 56597, 34622, 18641, 36622, 3008, 62594, 34622, 14592, 48896, 39221, 3008, 63225, 41440, 42363, 12277, 4840, 21590, 13291, 49663, 20658, 63225, 41440], [0, 0, 0, 0, 0, 0, 0, 0, 0, 0, 0, 0, 0, 0, 0, 0, 0, 0, 0, 0, 0, 0, 0, 0, 0, 0, 0, 0, 0, 0, 0, 0, 0, 0, 0, 0, 0, 0, 0, 0, 0, 0, 0, 0, 0, 0, 0, 0, 0, 0, 0, 0, 0, 0, 0, 0, 0, 0, 0, 0, 0, 0, 0, 0, 0, 0, 0, 0, 0, 0, 0, 0, 0, 0, 0, 0, 0, 0, 0, 0, 0, 0, 0, 0, 0, 0, 0, 0, 0, 0, 0, 0, 0, 0, 0, 0, 0, 0, 0, 0, 0, 0, 0, 0, 0, 0, 0, 0, 0, 0, 0, 0, 0, 21520, 20658, 27520, 30610, 54592, 52704, 52591, 18641, 54980, 3008, 68005, 65480, 34622, 54592, 28475, 52704, 53626, 53031, 7293, 55961, 65480, 41440, 47791, 52704, 31769, 20658, 54980, 7676, 4923, 11489, 38934, 64792, 15875, 13688, 20658, 44719, 31075, 67679, 325, 40951, 56583, 59220, 18196, 63225, 3779, 239, 15875, 13688, 56583, 38495, 38934, 42595, 4617, 49447, 10122, 12046, 63225, 55418, 1946, 58434, 41483, 63225, 34078, 54592, 62594, 63225, 21520, 67154, 22618, 3008, 63225, 13101, 35931, 22553, 25714, 13688, 38934, 34402, 4617, 13688, 20658, 11180, 65480, 23405, 45245, 8769, 22618], [0, 0, 0, 0, 0, 0, 0, 0, 0, 0, 0, 0, 0, 0, 0, 0, 0, 0, 0, 0, 0, 0, 0, 0, 0, 0, 0, 0, 0, 0, 0, 0, 0, 0, 0, 0, 0, 0, 0, 0, 0, 0, 0, 0, 0, 0, 0, 0, 0, 0, 0, 0, 0, 0, 0, 0, 0, 0, 0, 0, 0, 0, 0, 0, 0, 0, 0, 0, 39771, 3029, 54592, 46588, 62537, 38934, 23735, 11489, 42467, 34078, 54592, 62594, 34622, 54592, 18124, 63225, 58024, 38862, 70011, 63225, 61416, 3008, 40951, 34622, 54592, 52704, 11656, 42363, 53601, 63225, 34078, 3029, 4923, 43716, 62594, 3029, 54592, 3861, 19665, 3311, 11489, 20327, 3029, 54592, 28475, 4153, 20097, 42363, 23494, 49796, 30519, 42705, 12277, 4840, 212, 4153, 38934, 42395, 52369, 4052, 38934, 3649, 65314, 35701, 63225, 70142, 70230, 70230, 3279, 45221, 4153, 33469, 58544, 63225, 34572, 34454, 68993, 47129, 42363, 35676, 4923, 28475, 4906, 56597, 63225, 8438, 46686, 41143, 42363, 39221, 4923, 14387, 34622, 38862, 24273, 36401, 52704, 47220, 41483, 52704, 4153, 35393, 43501, 42363, 33469, 37145, 63225, 698, 54592, 35957, 33469, 70230, 70230, 46588, 62537, 54592, 59344, 20657, 70826, 36510, 58510, 3861, 34095, 20149, 38934, 36510, 45183, 24015, 8272, 46588, 16283, 37145], [0, 0, 0, 0, 0, 0, 0, 0, 0, 0, 0, 0, 0, 0, 0, 0, 0, 0, 0, 0, 0, 0, 0, 0, 0, 0, 0, 0, 0, 0, 0, 0, 0, 0, 0, 0, 0, 0, 0, 0, 0, 0, 0, 0, 0, 0, 0, 0, 0, 0, 0, 0, 0, 0, 0, 0, 0, 0, 0, 0, 0, 0, 0, 0, 0, 0, 21520, 20658, 27520, 30610, 57984, 46588, 20658, 63225, 47449, 18641, 53557, 11489, 31075, 30311, 54980, 52812, 63225, 52583, 3008, 42467, 62354, 63225, 54980, 72393, 4840, 11784, 63225, 3779, 41483, 44719, 1212, 42363, 64792, 32331, 35701, 11258, 16973, 38934, 52572, 56583, 38495, 6107, 4617, 28912, 10122, 12046, 58544, 61563, 6090, 36510, 18743, 239, 56583, 42672, 24861, 47986, 24018, 2551, 13899, 42363, 3029, 18641, 52704, 34758, 24015, 63225, 34294, 70230, 70230, 3029, 18641, 8223, 3008, 42467, 65480, 62594, 61563, 21972, 4840, 7618, 3008, 55619, 53557, 8657, 34622, 18641, 26317, 73071, 3259, 24610, 17023, 10506, 57984, 63225, 63326, 9808, 27956, 30871, 62549, 28117, 42984, 62594, 28097, 38826, 4840, 4671, 36401, 52704, 10506, 3008, 52704, 62258, 5101, 65480, 8657, 28097, 53116, 24018, 62594, 64377, 7076, 4840, 16451, 13688, 20658, 52704, 3659, 63225, 65480, 18641, 66888, 14293, 8657, 51399], [0, 0, 0, 0, 0, 0, 0, 0, 0, 0, 0, 0, 0, 0, 0, 0, 0, 0, 0, 0, 0, 0, 0, 0, 0, 0, 0, 0, 0, 0, 0, 0, 0, 0, 0, 0, 0, 0, 0, 0, 0, 0, 0, 0, 0, 51299, 50856, 7810, 42467, 34078, 51299, 212, 28475, 24015, 2879, 4052, 38934, 2879, 63225, 55619, 56878, 51299, 36510, 57972, 11489, 34622, 51299, 57984, 62376, 65319, 69761, 60492, 67018, 70230, 70230, 51299, 66994, 63225, 71984, 2667, 63225, 25331, 53685, 42363, 63225, 45092, 51951, 6107, 51299, 35397, 70633, 70665, 60492, 20718, 63225, 47984, 35397, 49182, 32060, 38934, 63225, 34294, 20658, 63225, 65480, 69439, 2362, 3029, 57984, 8223, 40744, 11489, 63225, 71984, 52836, 51299, 57984, 7949, 6107, 50635, 69761, 63225, 44468, 65480, 42363, 41483, 63225, 12689, 20658, 24610, 57497, 70230, 70230, 51299, 66994, 62594, 3029, 55073, 3990, 47449, 8332, 10512, 22651, 63225, 32395, 63225, 70718, 63225, 33282, 17341, 20658, 41687, 39108, 3008, 34622, 3029, 55073, 3990, 47449, 22390, 72898, 63225, 34078, 64474, 41629, 72586, 41483, 63225, 2275, 13987, 8657, 34622, 17223, 37475, 42363, 62594, 41483, 28117, 58906, 42467, 65480, 71611, 3990, 47449, 20658, 63225, 20702, 31291, 62594, 36510, 17894, 13688, 47637, 42363, 41483, 63225, 29964, 41255, 20658, 66462], [0, 0, 0, 0, 0, 0, 0, 0, 0, 0, 0, 0, 0, 0, 0, 0, 0, 0, 0, 21520, 20658, 27520, 30610, 20594, 38934, 15228, 3570, 3008, 52704, 58846, 22761, 4617, 53822, 27314, 72586, 8769, 72898, 63225, 57949, 26756, 52704, 45914, 64474, 914, 35397, 34402, 3008, 27918, 63225, 29645, 42363, 8268, 52704, 41977, 17272, 34622, 34682, 35701, 52704, 21434, 8726, 50079, 37073, 8268, 63225, 41379, 55955, 63027, 36059, 39329, 7676, 45169, 63027, 43385, 52704, 29204, 23696, 62594, 18641, 11489, 34622, 41483, 63225, 2546, 53791, 42467, 59406, 55360, 54592, 64391, 1183, 35701, 48201, 20316, 53200, 41367, 63225, 36619, 24015, 46347, 56414, 55073, 56452, 40346, 20658, 1708, 30298, 54980, 7676, 39415, 38934, 43117, 42363, 27679, 38826, 4840, 28511, 4617, 16129, 13451, 3029, 4923, 52704, 72967, 46553, 67980, 52927, 42363, 32837, 35742, 27397, 45914, 64377, 4630, 64377, 28954, 17894, 13688, 41483, 24861, 36487, 67144, 63183, 72898, 37475, 61563, 13458, 61563, 28954, 52596, 34622, 73358, 63027, 5468, 8657, 63225, 21520, 54592, 52704, 33282, 30223, 3008, 33961, 15789, 24015, 62709, 63225, 65480, 5465, 52369, 35701, 52704, 40122, 29204, 23696, 62594, 38917, 26543, 3570, 5958, 43213, 42363, 52704, 55018, 49701, 59644, 38641, 12016, 4500, 42395, 64928, 20019, 20327, 41483, 46011, 51456, 24861, 67888, 69042, 55955], [42467, 14637, 11611, 54592, 33469, 37202, 1686, 4923, 22987, 52941, 34622, 56121, 56612, 42363, 34622, 20804, 38934, 34402, 47628, 52704, 33662, 48067, 45675, 64928, 16925, 8657, 51299, 13458, 60476, 15851, 46274, 42363, 18124, 45036, 13137, 13291, 41483, 42467, 63225, 44468, 62537, 24273, 36401, 46588, 20658, 4288, 17722, 42467, 4071, 38934, 52704, 54069, 20658, 52704, 54069, 20658, 17775, 21520, 43133, 46588, 37552, 42537, 11489, 63225, 65480, 54592, 63225, 41252, 8657, 63225, 35963, 42363, 51577, 74005, 41252, 54592, 33303, 60096, 62594, 62574, 3008, 42467, 65480, 54592, 31284, 30871, 49830, 63225, 5501, 20658, 5806, 42363, 57241, 24872, 49943, 25018, 20658, 50600, 322, 3990, 3029, 4923, 64928, 10553, 6068, 53031, 63971, 38628, 44323, 64928, 64944, 46187, 51050, 18275, 61563, 36510, 38934, 64792, 43385, 63225, 54188, 9277, 47366, 42467, 65480, 54765, 70495, 64987, 42363, 70495, 10834, 20658, 64203, 42395, 52704, 13278, 20149, 65480, 23494, 68212, 4840, 43901, 8657, 28097, 49477, 29752, 63225, 10356, 20658, 63225, 71984, 31081, 3649, 10506, 54592, 20861, 38934, 34402, 51021, 50443, 64928, 46588, 58544, 28097, 54592, 63225, 17388, 63225, 20507, 8769, 4500, 64377, 66964, 67431, 63225, 71984, 32285, 37269, 18641, 33073, 68486, 34402, 56345, 41483, 4617, 27898, 69439, 39771, 13101, 68292, 44383, 4840, 54239, 34622, 30706, 34622, 52704, 71955, 41483, 22501], [0, 0, 0, 0, 0, 0, 0, 0, 0, 0, 0, 0, 0, 0, 0, 0, 0, 0, 0, 0, 0, 0, 0, 0, 0, 0, 0, 0, 0, 0, 0, 0, 0, 0, 0, 0, 0, 0, 0, 0, 0, 0, 0, 0, 0, 0, 0, 0, 0, 0, 0, 0, 0, 0, 0, 0, 0, 0, 0, 0, 0, 0, 0, 0, 0, 0, 0, 0, 0, 0, 0, 0, 0, 0, 0, 0, 0, 0, 0, 0, 0, 0, 0, 0, 0, 0, 0, 0, 0, 0, 0, 0, 0, 0, 0, 0, 0, 0, 0, 0, 0, 0, 0, 0, 0, 0, 0, 0, 0, 0, 0, 0, 0, 0, 0, 0, 0, 0, 0, 0, 0, 0, 0, 0, 0, 0, 0, 0, 0, 0, 0, 0, 0, 0, 0, 0, 0, 0, 0, 0, 0, 0, 0, 0, 0, 0, 0, 0, 0, 0, 0, 0, 0, 0, 0, 0, 0, 0, 0, 0, 0, 0, 0, 0, 0, 0, 0, 0, 0, 0, 0, 0, 0, 0, 0, 0, 0, 0, 0, 0, 63225, 30347, 4923, 3915, 42363, 63225, 70718, 54592, 40366, 34622, 18641, 52704, 64329, 20658, 63225, 25835, 20658, 58308, 42363, 1937], [9277, 34622, 17991, 38934, 53557, 51299, 72393, 34402, 64568, 73984, 42363, 51299, 41181, 69968, 11489, 56493, 42363, 60096, 62594, 54592, 23217, 59382, 39355, 60492, 65480, 56121, 60476, 2227, 63225, 14637, 11611, 38569, 4617, 67984, 53274, 72031, 70230, 70230, 39771, 61563, 57972, 63225, 29964, 14975, 34622, 57984, 41055, 56800, 65579, 20658, 34622, 57984, 58510, 3008, 24148, 42363, 34622, 54737, 64928, 27999, 27133, 11489, 63225, 65480, 61563, 6090, 36510, 50923, 20062, 38934, 34684, 62594, 42467, 65480, 57984, 28475, 7521, 30871, 23217, 14972, 39771, 61563, 57972, 35393, 37202, 18030, 43385, 62594, 50030, 14975, 61563, 2543, 63225, 42706, 18641, 58238, 41483, 72698, 28097, 13101, 24554, 28475, 36401, 63225, 46426, 62594, 63225, 13929, 54592, 6417, 53031, 62594, 63225, 8438, 3150, 5709, 35911, 28912, 70230, 70230, 3990, 59668, 63225, 46426, 62594, 51299, 36510, 17223, 58510, 52704, 14975, 57687, 51299, 4630, 42467, 65480, 26706, 46588, 57308, 6107, 60476, 4300, 28475, 63225, 9753, 70426, 20658, 60476, 13929, 62549, 18641, 52572, 9435, 52704, 5929, 60228, 56450, 70161, 41440, 50856, 51299, 29550, 4840, 30706, 52704, 45736, 20658, 34622, 55641, 8657, 63225, 41440, 54592, 35081, 21764, 42363, 67059, 28475, 64203, 46588, 35397, 16451, 57308, 6107, 63225, 71289, 42467, 54592, 52704, 10491, 28475, 52704, 53626, 42363, 34622, 68486, 34402, 14348, 58544, 68939], [42872, 56000, 3008, 52704, 3022, 65701, 70230, 70230, 34772, 19470, 70230, 70230, 5833, 56000, 70230, 70230, 68292, 13966, 70230, 70230, 42872, 56000, 3008, 52704, 3022, 70230, 70230, 20149, 1166, 70230, 70230, 42872, 56000, 3008, 52704, 3022, 70230, 70230, 28475, 46588, 20149, 58238, 28475, 38934, 9461, 42467, 65480, 70230, 70230, 53031, 3990, 51299, 4630, 43441, 34346, 1686, 13137, 40990, 70230, 70230, 43600, 59848, 43600, 37475, 51299, 54765, 62594, 70230, 70230, 41483, 2879, 63225, 63175, 63225, 56450, 65579, 20658, 63225, 65480, 68212, 4840, 62594, 36622, 70230, 70230, 3029, 54592, 24861, 7281, 42363, 61563, 22123, 52704, 25018, 20658, 7428, 68301, 35701, 35121, 62594, 51299, 46686, 9277, 65993, 22187, 34452, 53557, 36401, 7132, 27236, 42363, 30920, 70230, 70230, 42872, 56000, 54592, 71118, 3008, 52704, 4906, 47370, 73658, 25018, 20658, 65659, 70230, 70230, 34772, 19470, 54592, 34772, 19470, 58544, 55418, 28097, 72393, 34402, 70230, 70230, 5833, 56000, 54592, 34595, 8657, 22804, 20658, 36218, 61563, 27876, 54765, 62594, 32921, 20658, 63225, 20718, 61563, 59220, 50398, 2932, 70230, 70230, 13966, 54592, 26103, 16082, 11813, 6874, 239, 6933, 70230, 70230, 3029, 54592, 63225, 72831, 5415, 42363, 52704, 72967, 34717, 42363, 52704, 72967, 58109, 9650, 63225, 42872, 13966, 44101, 71984, 42872, 3008, 63225, 41969, 7065, 28117, 6107, 24610, 21423], [0, 0, 0, 0, 0, 0, 0, 0, 0, 0, 0, 0, 0, 0, 0, 0, 0, 0, 0, 0, 0, 0, 0, 51021, 36218, 42363, 30871, 21381, 72346, 10491, 62594, 56121, 46354, 72763, 58544, 52704, 67538, 52928, 58162, 72832, 7676, 54592, 32923, 8769, 4617, 49751, 27016, 35993, 18641, 1070, 31521, 22471, 74072, 38934, 34402, 6166, 6107, 63225, 41575, 20658, 8262, 4629, 38934, 52596, 52704, 73984, 63784, 71480, 15589, 43026, 19504, 7676, 70331, 46171, 6377, 3004, 70103, 55955, 63225, 1070, 42363, 55958, 6377, 55412, 71955, 1234, 70230, 70230, 53344, 36341, 63225, 28523, 61290, 41483, 56107, 61935, 63225, 1630, 11574, 42363, 28097, 13984, 63225, 43096, 62545, 30871, 69439, 2362, 34622, 12277, 4840, 10420, 3649, 56450, 65480, 64203, 63225, 6377, 63290, 36510, 3008, 29493, 54592, 63225, 72346, 68572, 4500, 4923, 23276, 13688, 11113, 70230, 70230, 72763, 54592, 64568, 20149, 7811, 26860, 3649, 10506, 54592, 34595, 3008, 63225, 39716, 8657, 53601, 63225, 34078, 51299, 45865, 38934, 29155, 6107, 19504, 54592, 32521, 58544, 63225, 23250, 7676, 72393, 34402, 66192, 58544, 38904, 8667, 42363, 53033, 58544, 63225, 30223, 30314, 6680, 57984, 3008, 32934, 41367, 74072, 54592, 54911, 58544, 63225, 31521, 7676, 17991, 13291, 35701, 63225, 23687, 18982, 38934, 64792, 5113, 37475, 34622, 24015, 2879, 28797], [0, 0, 0, 0, 0, 0, 0, 0, 0, 0, 0, 0, 0, 51299, 14708, 42467, 6107, 17515, 42363, 51299, 22804, 20658, 22123, 36622, 56800, 35458, 42363, 7785, 4923, 3990, 61831, 11489, 34622, 3008, 63225, 17515, 56878, 34622, 18641, 28475, 52704, 36622, 65480, 42784, 8657, 34622, 18641, 46588, 20658, 4288, 63290, 62594, 50117, 13838, 38934, 34402, 52704, 13837, 5036, 6107, 57065, 47129, 39355, 28475, 4193, 62594, 60476, 71984, 54592, 66988, 52704, 33662, 31081, 34622, 54592, 52704, 33282, 70048, 11489, 63225, 60804, 3008, 52704, 67949, 20658, 36973, 42363, 63225, 30347, 8280, 55502, 31190, 33486, 51299, 28954, 24086, 60476, 52704, 34078, 62594, 61563, 35397, 64792, 3861, 13688, 20658, 39771, 61563, 7076, 4840, 36510, 52704, 67949, 20658, 34078, 35695, 33993, 24872, 7065, 61563, 38934, 34402, 6057, 51299, 41629, 7618, 27876, 42784, 63225, 50030, 71984, 3008, 53626, 63638, 69439, 69030, 60476, 19110, 56121, 50923, 22651, 57687, 42363, 35393, 28537, 42363, 62594, 28053, 38934, 63225, 37552, 60178, 4500, 54592, 62594, 34622, 51592, 12277, 4840, 36510, 4153, 20658, 26812, 65897, 38934, 34622, 42698, 63225, 19110, 34622, 32389, 13291, 40652, 52704, 62545, 47480, 65480, 32526, 62594, 5770, 60096, 3008, 63225, 16112, 62594, 63225, 11638, 71984, 5120, 34402, 28276, 42363, 21764, 42363, 34622, 12277, 4840, 51592, 11784, 5958], [0, 0, 0, 0, 0, 0, 0, 0, 0, 0, 0, 0, 0, 0, 63225, 67267, 34515, 63130, 491, 3649, 449, 29117, 8769, 26880, 18626, 3477, 17708, 55360, 25011, 3008, 28158, 42467, 54592, 63225, 27300, 67932, 29590, 46513, 53626, 28200, 55955, 63225, 54941, 63130, 11527, 52704, 63435, 49817, 42363, 2657, 33073, 58544, 60983, 22273, 4617, 4674, 54947, 56231, 7676, 26378, 1484, 20658, 3649, 17727, 18210, 42363, 67453, 64928, 72031, 54929, 38934, 3649, 15851, 14742, 63607, 41483, 63225, 35843, 20658, 52704, 5120, 64568, 57331, 63225, 62127, 45361, 4923, 8268, 39885, 5958, 8769, 54688, 24872, 12529, 41628, 1686, 7676, 16948, 63225, 3570, 64384, 21108, 66814, 37863, 40851, 32941, 20658, 62384, 673, 49054, 63225, 70462, 20212, 4410, 67669, 42363, 14213, 59468, 50856, 64647, 58544, 63225, 3982, 45480, 8726, 10506, 63225, 18204, 44261, 35024, 45092, 62684, 8769, 63225, 17698, 70718, 38666, 55792, 13688, 36457, 25232, 60203, 19219, 55343, 52704, 23595, 71633, 44592, 28053, 52420, 19190, 3008, 63225, 42411, 8769, 52704, 46717, 14688, 64179, 35275, 6072, 58565, 44943, 61745, 46274, 54754, 58160, 25331, 63130, 3206, 37572, 74018, 49796, 50182, 11485, 59761, 42363, 31512, 50851, 42902, 2879, 22737, 42467, 50890, 40366, 66938, 52704, 59344, 28836, 37653, 42363, 14586, 32962, 46553, 9690, 25877, 52704, 57241, 37365, 63982], [0, 0, 0, 0, 0, 0, 0, 0, 0, 0, 0, 0, 0, 0, 0, 0, 0, 0, 0, 0, 0, 0, 4841, 48964, 66354, 18641, 14996, 54592, 52704, 9435, 48878, 66142, 10330, 51009, 60476, 52704, 46588, 20658, 63225, 32921, 30786, 63290, 8657, 9277, 34622, 17991, 38934, 72123, 69439, 63225, 44800, 5120, 50316, 42467, 46588, 43600, 63225, 63290, 70718, 54592, 58544, 62396, 58544, 52704, 19963, 49447, 63824, 70718, 54592, 68303, 23209, 52704, 20149, 70718, 69439, 63225, 36963, 13929, 20658, 2879, 20718, 59220, 212, 56493, 14996, 54592, 54362, 8769, 63225, 32921, 41064, 8438, 1166, 3850, 57078, 63290, 42363, 9639, 27670, 33826, 3008, 34622, 8657, 8223, 6107, 63971, 72393, 32570, 61563, 39771, 61563, 70718, 54592, 47480, 48163, 73358, 70230, 70230, 45036, 5833, 56000, 54592, 52704, 61367, 7078, 8657, 8316, 64474, 28097, 54911, 52704, 14145, 36401, 42467, 34772, 19470, 54592, 70161, 7078, 3008, 46426, 28097, 18641, 63225, 3982, 1946, 58434, 42872, 56000, 56121, 17223, 44136, 3990, 31075, 13101, 59468, 3773, 42363, 14592, 61563, 2879, 44179, 13291, 13966, 25044, 49363, 12277, 4840, 64792, 3649, 70792, 3008, 7811, 46374, 41472, 41393, 21589, 42363, 3199, 69918, 4923, 52097, 70230, 70230, 14996, 54592, 52704, 7394, 34078, 63225, 63290, 54924, 24015, 63225, 2901, 17496, 68486, 61563, 12460, 55641], [0, 0, 0, 0, 0, 0, 0, 0, 0, 0, 0, 0, 0, 0, 0, 0, 0, 0, 0, 0, 0, 0, 0, 0, 0, 0, 0, 0, 0, 0, 0, 0, 0, 0, 0, 0, 0, 0, 0, 0, 0, 0, 0, 0, 0, 0, 0, 0, 0, 0, 0, 0, 0, 0, 0, 0, 42467, 33347, 57308, 6107, 6377, 6053, 27884, 58310, 55343, 63225, 71725, 20658, 63225, 12046, 20658, 43657, 71489, 20658, 52859, 35132, 54592, 38917, 53502, 15851, 55955, 39716, 38934, 34294, 34622, 54592, 14038, 38934, 24861, 20658, 63225, 49447, 71348, 42363, 70626, 53557, 11489, 1686, 62594, 18196, 3008, 4617, 49447, 54833, 12046, 41483, 73903, 63225, 69802, 42363, 63225, 8374, 63225, 49447, 19665, 12046, 14637, 20658, 20726, 42363, 3990, 6107, 34515, 63130, 57954, 52704, 22613, 8997, 20658, 24872, 28498, 27845, 62594, 69600, 63225, 45361, 28097, 56553, 60125, 3008, 63225, 34078, 53031, 24554, 28097, 42363, 63225, 8398, 20658, 63225, 12046, 4923, 29540, 38934, 52704, 41255, 20658, 54282, 18648, 51299, 29550, 4840, 52572, 43385, 7521, 4153, 51862, 7811, 8657, 34622, 54592, 67059, 52704, 70826, 9461, 41483, 39127, 20658, 49447, 19665, 12046, 1664, 70230, 70230, 64110, 34622, 35701, 51149, 20658, 40222, 42363, 58912, 3008, 52704, 3208, 37505, 70230, 70230, 14858, 74043], [0, 0, 0, 0, 0, 0, 0, 0, 0, 0, 0, 0, 0, 0, 0, 0, 0, 0, 0, 0, 0, 0, 0, 0, 0, 0, 0, 0, 0, 0, 0, 0, 0, 0, 0, 0, 0, 0, 0, 0, 0, 0, 0, 0, 0, 0, 0, 0, 0, 0, 0, 0, 0, 0, 0, 0, 0, 0, 0, 0, 0, 0, 0, 0, 0, 0, 0, 0, 0, 0, 0, 0, 0, 0, 0, 0, 0, 0, 0, 63225, 27712, 65480, 51299, 36510, 7618, 56800, 57442, 12107, 27071, 584, 3029, 54592, 64928, 71984, 64928, 41687, 64928, 8223, 63225, 72346, 68572, 36505, 35393, 36401, 52704, 70552, 20658, 15340, 34772, 19470, 48163, 13291, 23399, 49976, 28178, 66779, 70359, 55955, 63225, 50867, 42363, 54515, 52153, 47601, 8657, 4906, 44785, 25715, 70230, 70230, 51299, 37475, 28475, 52572, 52704, 67949, 20658, 10834, 8657, 47366, 42467, 65480, 54592, 4617, 19550, 54099, 4500, 42395, 61563, 57892, 64203, 55073, 34346, 37842, 11027, 70230, 70230, 63225, 55418, 62537, 61563, 5625, 19065, 68260, 47366, 34622, 54592, 4617, 73171, 42872, 3008, 52704, 3022, 70230, 70230, 63225, 58238, 43600, 51299, 37475, 28475, 30706, 52704, 10082, 20658, 54592, 62594, 60492, 20718, 51299, 13458, 51299, 36510, 7618, 63225, 27712, 59691, 33086, 28117, 59382], [0, 0, 0, 0, 0, 0, 0, 0, 0, 0, 0, 0, 0, 0, 0, 0, 0, 0, 0, 0, 0, 0, 0, 0, 0, 0, 0, 0, 0, 0, 0, 0, 0, 0, 0, 0, 0, 0, 0, 0, 0, 0, 0, 0, 0, 0, 0, 0, 0, 0, 0, 0, 0, 0, 0, 0, 0, 0, 0, 0, 0, 0, 0, 0, 0, 0, 0, 0, 0, 0, 0, 0, 0, 0, 0, 0, 0, 0, 0, 0, 0, 0, 0, 0, 0, 0, 0, 0, 0, 0, 0, 0, 0, 0, 56325, 12191, 35812, 33856, 1861, 1686, 3008, 52704, 50577, 3008, 37903, 3008, 63225, 18641, 27981, 28097, 55793, 62594, 28097, 38569, 62783, 54168, 1686, 28097, 46648, 38934, 468, 39960, 33491, 42363, 63341, 28097, 19219, 39336, 6107, 7486, 70230, 70230, 42467, 65480, 54592, 52704, 55181, 62594, 71441, 63225, 73461, 20658, 56325, 69761, 1484, 49122, 35701, 1686, 62594, 55627, 38934, 65037, 2932, 42363, 69761, 24861, 46187, 45245, 8769, 23468, 57308, 6107, 57241, 25754, 70230, 70230, 56325, 12191, 54592, 52704, 44159, 11180, 3990, 42597, 34622, 18641, 28475, 58565, 24015, 2879, 68939, 52704, 21257, 43348, 11489, 8316, 24861, 54140, 29176, 72393, 22916, 52704, 41367, 43385, 52704, 23405, 70230, 70230, 24610, 35374], [5254, 42786, 54592, 7811, 9277, 63225, 10512, 3008, 63225, 19583, 4923, 64824, 38934, 64203, 18641, 63225, 8167, 65480, 20658, 63225, 59929, 53184, 20658, 63225, 27736, 54365, 38934, 39328, 34622, 33518, 3990, 51299, 6090, 66930, 6107, 63225, 48940, 8657, 61563, 64792, 24610, 18618, 42698, 18849, 55955, 18572, 59691, 7521, 36510, 44719, 1884, 58651, 20658, 35081, 35104, 30687, 42363, 55955, 24861, 20658, 63225, 7285, 1302, 51299, 65855, 48878, 38934, 64110, 39336, 7521, 14996, 57984, 19342, 58544, 46588, 20658, 63225, 32921, 35081, 35104, 41483, 8657, 51299, 57984, 53502, 39187, 24015, 63225, 32929, 37202, 53274, 51366, 24015, 63225, 19583, 9277, 51299, 58362, 57055, 24207, 34622, 57984, 52704, 37649, 12046, 8657, 34622, 3814, 4840, 41483, 14996, 70230, 70230, 68260, 47366, 34622, 51299, 39494, 43600, 34622, 57984, 32787, 8657, 34622, 57984, 52274, 12011, 49943, 36401, 34622, 18641, 4655, 47770, 1715, 4500, 69752, 44599, 14996, 54592, 2879, 44599, 8657, 33282, 57734, 28475, 62594, 34622, 12277, 4840, 36510, 63225, 71405, 8247, 42977, 8657, 46187, 46686, 15118, 42363, 24861, 72015, 6107, 52704, 31377, 25232, 69439, 41483, 59691, 37004, 51299, 70826, 24086, 4500, 54592, 53502, 26988, 53184, 62594, 14996, 54592, 25953, 42363, 58510, 8769, 4841, 48964, 66354, 7676, 41036, 43232, 42363, 43232, 20710, 20658, 4500, 51299, 16938, 55927, 70230, 70230], [0, 0, 0, 0, 0, 0, 0, 0, 0, 0, 0, 0, 0, 0, 0, 0, 0, 0, 0, 0, 0, 0, 0, 0, 0, 0, 0, 0, 0, 0, 0, 0, 0, 0, 0, 0, 0, 0, 0, 0, 0, 0, 0, 0, 0, 0, 0, 0, 0, 0, 0, 0, 0, 0, 0, 0, 0, 0, 0, 0, 0, 0, 0, 0, 0, 0, 0, 0, 0, 0, 0, 0, 0, 0, 0, 0, 0, 0, 0, 0, 0, 0, 0, 0, 0, 0, 0, 0, 0, 0, 0, 68260, 65993, 1484, 53557, 20658, 64199, 51299, 38569, 52704, 64568, 56597, 67076, 11489, 2932, 28097, 73956, 7521, 4153, 6107, 63225, 45235, 44655, 20658, 63225, 30347, 35053, 11489, 52704, 18258, 20658, 63225, 65480, 62594, 54592, 43600, 2362, 47628, 20149, 44194, 3649, 53557, 17223, 37960, 63225, 66850, 61416, 2032, 3008, 56325, 28097, 64786, 63225, 50030, 58507, 8657, 51592, 27716, 6107, 63225, 18258, 26586, 3008, 63225, 34294, 20658, 63225, 65480, 20549, 27952, 51299, 48864, 69761, 63225, 56450, 26148, 26292, 2362, 63225, 56450, 26148, 11527, 60338, 27133, 34622, 54592, 51592, 35963, 47721, 63225, 67018, 26148, 54592, 50856, 32521, 42363, 42395, 63225, 44468, 65480, 63225, 17857, 65480, 26218, 22651, 8769, 64199, 70230, 70230, 55359], [67511, 6107, 3850, 57078, 63290, 42363, 1477, 72718, 7676, 20804, 38934, 36510, 69560, 44719, 31197, 9435, 63225, 66462, 42363, 25944, 4458, 5121, 20658, 16279, 3008, 42467, 65852, 20658, 26812, 706, 46614, 28475, 69439, 20537, 61563, 71718, 37004, 51299, 57984, 67445, 24610, 35551, 53601, 63225, 44468, 55360, 2551, 38934, 63614, 35701, 63225, 21356, 45092, 41440, 58507, 62594, 17223, 53502, 40165, 42363, 6107, 63225, 29964, 63985, 51299, 49943, 46686, 73070, 62594, 24610, 50224, 42363, 60476, 40868, 34078, 49505, 72393, 14478, 55641, 70275, 6107, 68939, 72796, 67511, 6107, 63225, 23468, 41483, 42453, 42467, 11180, 42363, 69439, 10248, 6107, 34622, 58544, 24861, 65852, 20658, 11180, 56583, 72393, 1884, 13291, 38934, 13966, 25044, 49363, 62376, 73615, 3008, 70495, 28599, 20658, 34078, 33450, 15488, 1942, 48041, 41483, 63225, 9452, 26403, 42363, 34772, 17991, 13291, 58544, 63225, 26447, 11088, 5833, 54168, 40942, 35701, 52704, 18533, 11426, 41483, 47770, 3649, 28593, 55073, 16283, 3008, 44719, 25331, 42363, 35701, 63225, 48736, 36457, 66409, 3008, 63225, 29964, 62709, 34622, 57984, 1942, 38934, 26310, 52704, 36453, 71921, 7076, 4840, 64329, 49663, 19624, 73227, 38776, 53031, 70495, 1269, 38934, 52572, 9461, 42467, 52572, 9461, 3779, 64062, 35701, 41858, 54855, 67767, 52704, 60859, 65852, 20658, 5772, 34078, 46614, 26218, 17894, 13688, 20658, 73331], [3029, 18641, 3990, 47449, 24018, 38934, 71725, 41483, 3008, 56325, 12191, 67737, 16526, 6460, 66466, 71658, 60148, 63225, 66343, 18641, 28511, 62594, 34622, 18641, 4906, 41055, 38934, 4671, 11489, 34622, 23209, 41962, 49663, 22804, 20658, 6679, 62549, 18641, 49943, 24086, 62594, 42467, 65480, 54592, 36401, 4617, 41, 3008, 51383, 8657, 51592, 51592, 70161, 23217, 60476, 22651, 35701, 72278, 71348, 42363, 70626, 793, 58716, 72331, 49122, 58823, 56325, 12191, 60476, 36401, 52704, 65480, 22651, 52704, 17923, 53031, 47925, 4500, 32921, 45716, 44655, 60572, 6107, 63225, 16925, 62594, 14592, 61563, 42376, 37475, 28097, 51592, 26218, 55117, 63225, 65480, 64786, 63225, 23461, 24872, 20658, 4617, 17437, 17431, 62594, 16592, 3008, 37903, 32731, 3008, 52704, 63247, 50577, 42363, 63341, 9837, 24861, 1686, 4617, 56912, 41483, 4500, 28097, 55627, 37960, 42363, 52859, 37882, 37434, 63225, 65480, 64019, 40951, 24861, 23469, 67515, 55627, 19808, 3008, 42467, 10506, 3990, 56583, 23935, 2932, 10381, 38934, 3649, 52859, 29231, 24861, 35393, 1686, 55627, 34066, 42363, 13137, 52704, 73868, 36060, 20658, 63225, 10506, 63225, 46588, 64377, 4923, 54284, 20658, 63225, 65480, 70230, 70230, 41483, 63225, 11813, 26148, 3008, 63225, 26758, 64377, 4923, 53865, 8769, 52704, 71562, 35963, 25161, 38934, 52572, 72580, 60148, 6108, 28511, 36087, 3008, 59167, 38934, 55744, 43600], [0, 0, 56450, 34657, 62594, 24861, 34078, 49505, 12196, 4288, 45183, 8769, 18572, 13563, 38934, 65037, 49943, 44599, 24554, 28475, 7786, 51299, 14378, 14996, 9277, 492, 5120, 48199, 44599, 67018, 39771, 61563, 4923, 40017, 65983, 6107, 18316, 44599, 62594, 24554, 28475, 44098, 61563, 55955, 47628, 52704, 1708, 71984, 70230, 70230, 14996, 56121, 24861, 71984, 4500, 64474, 36510, 24035, 35701, 24861, 33469, 13929, 8657, 34622, 54592, 28475, 18334, 41483, 73903, 2879, 38406, 13966, 42872, 42363, 34772, 4923, 34198, 24015, 53713, 22390, 3008, 63225, 71984, 8657, 42467, 68860, 54592, 28475, 46790, 38934, 11151, 3029, 64474, 36510, 50923, 52704, 33469, 16612, 42363, 62590, 20658, 44719, 50245, 58254, 68572, 4923, 55955, 63225, 41709, 70230, 70230, 65856, 20658, 63225, 34078, 54592, 40366, 51299, 13458, 56954, 3127, 49943, 14540, 71366, 69761, 42467, 34078, 2946, 51973, 36510, 58906, 13291, 52704, 20149, 6072, 8657, 34622, 24554, 28475, 40211, 38934, 42467, 34078, 43600, 54592, 3029, 52704, 28238, 55299, 60880, 19419, 3008, 14996, 43600, 54592, 63225, 40668, 46754, 55299, 60880, 71489, 5021, 28475, 6107, 5833, 56000, 9277, 28097, 54592, 63225, 46588, 7676, 54592, 47770, 46313, 70230, 70230, 34772, 19470, 54592, 63225, 1946, 58434, 20658, 63225, 34078, 8657, 28097, 54592, 3008, 3649, 38911, 64280, 61563, 29550, 4840, 28511, 7980, 42467, 34078], [0, 0, 0, 0, 0, 0, 0, 0, 0, 0, 0, 0, 0, 0, 0, 0, 0, 0, 0, 0, 0, 0, 0, 0, 0, 0, 0, 0, 0, 0, 0, 0, 0, 0, 0, 0, 0, 0, 0, 0, 0, 0, 0, 0, 0, 0, 0, 0, 0, 0, 42467, 56121, 55627, 38934, 34402, 52704, 46640, 27361, 20658, 6377, 47422, 20658, 26218, 7618, 63225, 11708, 23405, 65480, 33662, 35701, 63225, 73922, 36444, 65480, 33662, 42467, 46640, 26231, 42395, 41483, 52704, 46640, 42363, 21764, 71984, 63225, 21058, 54592, 52578, 2051, 34689, 69964, 7676, 58544, 14714, 58544, 51299, 65037, 17223, 56121, 50923, 3008, 52704, 53626, 65480, 57687, 26218, 63225, 50144, 4923, 57406, 42363, 63225, 16112, 20658, 52704, 11708, 36444, 15803, 35701, 25248, 42361, 54592, 52704, 40668, 46588, 24610, 46588, 42537, 51299, 49943, 102, 64377, 67699, 35393, 20658, 63225, 11708, 36444, 8657, 55619, 63341, 62594, 51299, 13458, 56583, 37475, 52704, 70161, 42930, 63225, 44482, 63225, 30347, 42363, 63225, 71984, 57984, 8332, 63225, 25331, 57984, 14990, 42467, 56121, 55627, 38934, 34402, 63225, 17857, 65480, 38934, 17894, 13688, 20658, 63225, 47209, 39868, 47855, 61563, 62780, 28117, 63225, 17857, 65480, 38934, 17894, 13688, 20658, 63225, 47209, 39868, 47855, 51299, 30706, 63225, 44668, 66034, 13688, 20658], [39771, 42467, 54592, 52704, 10330, 55955, 46588, 20658, 63225, 57949, 8438, 15778, 20658, 66336, 34078, 65519, 3850, 57078, 63341, 51299, 57372, 43323, 34622, 54592, 52704, 4906, 27314, 33557, 41483, 52369, 38934, 28786, 63225, 19190, 37004, 70230, 70230, 39771, 61563, 72393, 52572, 59382, 38934, 42467, 15982, 35701, 68939, 4617, 9055, 8247, 50623, 20658, 5833, 34772, 13966, 42363, 42872, 63341, 65480, 26880, 54592, 19684, 38934, 34402, 28867, 4153, 16742, 8769, 38331, 37943, 35701, 42467, 34078, 63225, 34078, 70224, 3008, 27876, 2879, 14301, 46789, 36457, 42363, 34772, 19470, 28097, 56121, 52704, 72967, 20149, 61471, 38934, 9772, 8657, 62594, 21917, 59220, 13137, 61563, 39953, 52704, 55360, 35701, 2512, 10834, 70230, 70230, 63225, 56450, 63985, 20658, 52704, 29204, 52159, 73358, 43385, 52704, 52184, 55955, 63225, 44909, 56121, 4906, 2275, 62505, 36401, 62594, 20658, 52704, 8733, 34078, 62594, 52836, 57984, 52704, 56597, 53069, 20658, 63225, 13929, 18641, 39933, 60492, 7078, 7676, 69030, 54592, 4617, 13949, 38934, 52704, 65480, 54592, 529, 52097, 5833, 56000, 18641, 17122, 20658, 73544, 20149, 47770, 73899, 23276, 32921, 20658, 63225, 25530, 42363, 13966, 5120, 15183, 4060, 47029, 11027, 43600, 28097, 53, 42467, 65480, 70230, 70230, 3008, 8259, 34622, 18641, 63225, 57949, 64329, 20658, 9660, 68260, 5936, 16791, 5936, 51299, 35397, 24086, 62594], [0, 0, 0, 0, 0, 0, 0, 0, 0, 0, 0, 0, 0, 0, 0, 0, 0, 0, 0, 0, 0, 0, 0, 0, 0, 0, 0, 0, 0, 0, 0, 0, 0, 0, 0, 0, 0, 0, 0, 0, 0, 0, 0, 0, 0, 0, 0, 0, 0, 0, 0, 0, 0, 0, 0, 23209, 52639, 47931, 42467, 15626, 25508, 4840, 36510, 50923, 65586, 20327, 35701, 63225, 61384, 10621, 28863, 42363, 46060, 62594, 54592, 73985, 47931, 51299, 35397, 67059, 23735, 34622, 34622, 44136, 58544, 39771, 63225, 55619, 23468, 55073, 55418, 7075, 38934, 63027, 16228, 33073, 7770, 18641, 26691, 57163, 38934, 69016, 42467, 34078, 57984, 52704, 12504, 55478, 8657, 3649, 72967, 46187, 38826, 4840, 46076, 55955, 40652, 59325, 64391, 24610, 31102, 4923, 35701, 63225, 48127, 42363, 41440, 58507, 63225, 31769, 20658, 46060, 32999, 37475, 52704, 20219, 42930, 20658, 45532, 64203, 68486, 36510, 50923, 52704, 44568, 63225, 33927, 47931, 27490, 42363, 10781, 55073, 872, 42363, 45859, 13101, 57954, 62594, 23573, 58507, 73316, 17237, 42363, 23828, 8657, 17223, 37835, 13101, 54592, 3008, 46426, 63225, 44831, 71272, 13101, 6951, 38934, 34402, 51299, 102, 51299, 38569, 7618, 42467, 6107, 63225, 37552, 43213, 8657, 55169, 51299, 57984, 63887, 38934, 3779, 34622, 57687, 34622, 57984, 69560], [51299, 38569, 24861, 15422, 41483, 63225, 65480, 56800, 34622, 38569, 52704, 26317, 8247, 50623, 42363, 34622, 54592, 63225, 46774, 20658, 63225, 54350, 20658, 34772, 42363, 13966, 30871, 51299, 57984, 31497, 38934, 64110, 63225, 65480, 40951, 42467, 57984, 23217, 8769, 63225, 50030, 41367, 7676, 41036, 63225, 71984, 41483, 43232, 42157, 40951, 51299, 40461, 43232, 8657, 39771, 43232, 54592, 42542, 38934, 14996, 51299, 35397, 24086, 43232, 54592, 4906, 66922, 70230, 70230, 9277, 51299, 67699, 63225, 47804, 24015, 63225, 39716, 51299, 46686, 26317, 40951, 34622, 57984, 58906, 13291, 3008, 52704, 26317, 65659, 30871, 63225, 4906, 56450, 63985, 52836, 71310, 28117, 5958, 63341, 63225, 14277, 40603, 20658, 63225, 65480, 54592, 63225, 72346, 68572, 28117, 42363, 24610, 57438, 55073, 2258, 49301, 59599, 5958, 47366, 42467, 51412, 70986, 34622, 57984, 36401, 34772, 26442, 24861, 57902, 42363, 2879, 42363, 63225, 57902, 69439, 55627, 54635, 64831, 40895, 61563, 55627, 38934, 9461, 42467, 38934, 50398, 8316, 36622, 63225, 72346, 68572, 4923, 70230, 70230, 63225, 55619, 62537, 11489, 63225, 65480, 54592, 63225, 14714, 7521, 46229, 71984, 34622, 12000, 28117, 20658, 24861, 20658, 63225, 60125, 18641, 53557, 70230, 70230, 30871, 63225, 55418, 62537, 63225, 65480, 54592, 20537, 54592, 20658, 73431, 42872, 7676, 44136, 51592, 31075, 3008, 42467, 46588, 42363, 41483, 62594], [51009, 60865, 57984, 52704, 20149, 65480, 63225, 56450, 20718, 61563, 9461, 34622, 8657, 61563, 51592, 68486, 9461, 34622, 52704, 67018, 20718, 42363, 70495, 67076, 20658, 63225, 34078, 5120, 10808, 41685, 63225, 56450, 20718, 61563, 9461, 63225, 65480, 61563, 9461, 63225, 24529, 44101, 71984, 42363, 13458, 46817, 8316, 3338, 63225, 67018, 20718, 42363, 51299, 57372, 28475, 63225, 55418, 46588, 38934, 13458, 42467, 34622, 54592, 49943, 34595, 42363, 61563, 49943, 55554, 3029, 47366, 63225, 65480, 11027, 9277, 54592, 42467, 37147, 59824, 52159, 38934, 19754, 42363, 69439, 42467, 54592, 28475, 58544, 57406, 9277, 61563, 9461, 34622, 1484, 25530, 63225, 25331, 3008, 42467, 34078, 54592, 28475, 36622, 8657, 10808, 28475, 70161, 22932, 57984, 51299, 63383, 22277, 37475, 28475, 54239, 4617, 27898, 41483, 62594, 34078, 51299, 48199, 7676, 24554, 28097, 13458, 28097, 54592, 59286, 31640, 53031, 21098, 17286, 28097, 24554, 65579, 20149, 65480, 42363, 29550, 4840, 212, 52704, 34078, 41483, 72375, 37202, 3004, 42363, 63341, 38331, 54592, 41996, 62594, 3029, 4923, 49737, 49663, 63290, 35701, 2932, 3008, 34622, 8657, 1942, 11489, 3008, 24610, 28872, 63225, 27712, 10506, 20658, 63225, 34078, 19391, 21216, 18641, 33073, 6107, 63225, 55619, 5259, 57984, 14990, 51299, 27981, 46729, 62594, 63225, 13929, 54592, 4906, 12409, 38934, 58906, 52704, 34078, 20658, 68939], [0, 0, 0, 0, 0, 0, 0, 0, 0, 0, 0, 0, 0, 0, 0, 0, 0, 0, 0, 0, 0, 0, 0, 0, 0, 0, 0, 0, 0, 0, 0, 0, 0, 0, 0, 0, 0, 0, 0, 0, 0, 0, 0, 0, 0, 0, 0, 0, 0, 0, 0, 0, 0, 0, 0, 0, 0, 0, 0, 0, 0, 0, 0, 0, 0, 0, 0, 0, 0, 0, 0, 0, 0, 63225, 72346, 3008, 42467, 65480, 40723, 35264, 1779, 3008, 32790, 34772, 19470, 49612, 63225, 41643, 20658, 31657, 3008, 8764, 3008, 50867, 6764, 35701, 23218, 42363, 37906, 34622, 54592, 52010, 46789, 41483, 63225, 52591, 34772, 19470, 42363, 5833, 56000, 28055, 51299, 59220, 9461, 56493, 27309, 3008, 42467, 34078, 63225, 71984, 59468, 36401, 63225, 60217, 45394, 3649, 39225, 49447, 69121, 38934, 28809, 63225, 65480, 54592, 3990, 41240, 62594, 5833, 26663, 27314, 56276, 1253, 35701, 52704, 37282, 54592, 63225, 8272, 32921, 73453, 8769, 63225, 13929, 46789, 41483, 63225, 48589, 14996, 38934, 13137, 42467, 65480, 3029, 54592, 64928, 55619, 14996, 51299, 49667, 6198, 24610, 1269, 6107, 42467, 65480, 42363, 51299, 35397, 28475, 23735, 34622, 38934, 64360, 54592, 63225, 8272, 51299, 72393, 30706, 6107, 11068, 53031, 51299, 35397, 30706, 34622, 52704, 20022], [0, 0, 0, 0, 0, 0, 0, 0, 0, 0, 0, 0, 0, 0, 0, 0, 0, 0, 0, 0, 0, 0, 0, 0, 0, 0, 0, 0, 0, 0, 0, 0, 0, 0, 0, 0, 0, 0, 0, 0, 0, 0, 0, 0, 0, 0, 0, 0, 0, 0, 0, 0, 0, 0, 0, 0, 0, 0, 0, 0, 0, 0, 0, 0, 0, 0, 0, 0, 0, 0, 0, 0, 0, 0, 0, 0, 0, 0, 9277, 51299, 67699, 42467, 65480, 51299, 57984, 10218, 8769, 64203, 52704, 70161, 65480, 34622, 57984, 42467, 54592, 63225, 55418, 65480, 51299, 13458, 51299, 35397, 26218, 30706, 52704, 8247, 10082, 51299, 57372, 51009, 42467, 65480, 5120, 4823, 34402, 3008, 24610, 10420, 70230, 70230, 63225, 25331, 54592, 60347, 352, 22277, 42363, 19391, 59653, 4923, 24015, 44719, 17857, 51299, 7076, 4840, 13458, 18692, 64474, 36510, 52704, 33469, 42930, 37202, 19391, 70230, 70230, 39771, 34622, 54592, 52704, 11177, 52728, 42363, 61563, 72393, 4840, 38495, 64203, 38934, 3779, 30871, 42467, 54592, 63225, 46588, 61563, 5120, 44101, 2879, 63225, 25331, 24754, 50144, 42363, 4153, 4153, 35393, 70230, 70230, 39771, 61563, 36510, 28475, 7618, 42467, 65480, 52572, 3779, 53031, 7789, 34622, 1174, 61563, 29550, 4840, 49667, 34622, 70230, 70230], [51299, 38569, 52704, 67949, 20658, 10834, 55955, 42467, 65480, 42363, 35393, 3990, 56800, 34622, 57984, 52704, 25085, 34078, 70230, 70230, 9549, 55910, 52704, 16800, 68069, 42363, 46588, 52728, 28097, 54592, 72274, 8769, 39684, 59535, 38934, 26776, 63027, 31810, 11599, 59535, 47770, 63225, 6377, 71725, 3008, 44101, 42363, 38495, 38934, 51804, 55641, 8657, 39684, 40020, 9549, 62594, 13101, 72393, 4840, 212, 42467, 58544, 13101, 47415, 52704, 50789, 38934, 11599, 59535, 7676, 54592, 27981, 61758, 58544, 57640, 8657, 56583, 38495, 42363, 13427, 1269, 55955, 2932, 42363, 60476, 55418, 63341, 62594, 9549, 17032, 13688, 62594, 57640, 11599, 59535, 54592, 52704, 7076, 3008, 63225, 28451, 57640, 3709, 52704, 41367, 70717, 62241, 38934, 44364, 73358, 9549, 42363, 39684, 70230, 70230, 73244, 13966, 25044, 49363, 42872, 56000, 5833, 56000, 42363, 14723, 19470, 63225, 65480, 54592, 25953, 8769, 56450, 20718, 13929, 56172, 48964, 66354, 42363, 54592, 54362, 8769, 20710, 1477, 72718, 42363, 3850, 72718, 70230, 70230, 14996, 56121, 38934, 34402, 46588, 20658, 63225, 34189, 63290, 62594, 51299, 36510, 26218, 58362, 25321, 63225, 61575, 54592, 20149, 42363, 42872, 56000, 42363, 63027, 4153, 45237, 55638, 36803, 59468, 20149, 8657, 41440, 54592, 51622, 51567, 6107, 71984, 42363, 24015, 25530, 42395, 64928, 20019, 55955, 46588, 63985, 38934, 63225, 55619, 14586, 43600], [0, 0, 0, 0, 0, 0, 0, 0, 0, 0, 0, 0, 0, 0, 0, 0, 0, 0, 0, 0, 0, 0, 0, 0, 0, 0, 0, 0, 0, 0, 0, 0, 0, 0, 43600, 212, 1686, 14631, 11489, 42467, 65480, 42363, 28475, 11489, 40366, 53557, 36401, 63225, 33622, 60865, 54592, 63225, 36963, 65480, 20658, 63225, 26176, 50715, 35701, 70161, 25331, 1380, 50144, 23516, 42363, 22987, 60096, 42467, 65480, 54592, 4823, 41542, 8769, 2879, 40951, 46588, 52728, 24861, 46588, 53116, 56583, 38826, 4840, 36401, 34622, 49663, 35393, 3990, 32921, 20658, 63225, 62209, 33947, 38934, 37462, 3029, 54592, 8223, 59382, 35701, 42467, 65480, 2879, 51299, 72393, 24086, 54592, 62594, 42467, 65480, 28475, 55418, 40652, 63225, 32921, 66779, 27898, 61923, 65480, 20658, 2879, 20718, 63225, 32921, 1269, 26218, 22651, 26218, 42363, 30072, 46588, 20658, 63225, 32921, 54646, 53557, 51299, 41629, 26218, 7618, 40342, 55955, 62594, 34622, 54592, 34095, 63225, 17857, 65480, 20658, 2879, 20718, 63225, 55418, 53557, 62594, 17894, 32060, 38934, 40652, 36401, 2879, 63225, 8247, 52494, 42363, 63225, 17553, 20658, 63225, 60523, 3212, 53031, 56493, 8769, 63225, 18479, 30482, 53031, 51440, 53031, 16929, 29058, 34346, 4923, 2879, 20149, 53557, 42363, 48589, 8657, 58253, 62590, 13291, 38934, 18624, 6777, 18641, 6217, 60865], [51299, 38569, 64928, 16112, 64203, 63225, 34078, 54592, 11489, 57687, 51299, 67699, 34622, 40951, 14996, 55418, 38569, 50218, 7285, 39355, 34622, 57984, 40652, 17241, 3990, 51299, 53926, 24610, 57438, 39771, 56583, 39494, 56493, 11489, 34622, 42363, 56583, 53116, 62594, 34622, 54592, 63225, 73496, 7756, 20658, 4841, 48964, 66354, 7676, 41036, 63225, 3965, 41483, 43232, 42363, 13966, 25044, 49363, 18641, 69121, 13532, 42395, 3649, 7756, 3008, 63225, 34078, 8769, 7075, 2932, 58544, 52704, 69686, 3008, 3649, 40634, 70230, 70230, 68260, 47366, 34622, 51299, 42310, 62594, 43600, 44719, 3814, 4840, 52704, 71622, 53216, 40951, 3029, 3814, 4840, 56493, 3008, 63225, 34078, 38934, 51712, 63225, 71984, 57984, 51622, 27552, 42363, 69439, 52704, 19963, 49447, 69686, 72393, 17894, 13291, 35701, 52704, 33469, 71984, 58507, 3029, 57984, 49737, 49663, 72346, 42363, 63225, 5611, 72546, 24015, 60492, 31671, 50886, 3029, 54592, 42363, 34622, 18641, 66003, 38934, 68922, 13688, 62594, 7676, 54592, 44533, 7676, 27981, 63225, 72346, 57984, 54499, 64452, 45197, 13795, 41367, 35701, 52704, 38084, 56546, 38934, 468, 11489, 10315, 35701, 54635, 64831, 70230, 70230, 39355, 51299, 57984, 47366, 14996, 34622, 12000, 28117, 20658, 63290, 70230, 70230, 26756, 4722, 9650, 63225, 10185, 47804, 70230, 70230, 62333, 5833, 56000, 18641, 26633, 47770, 36401, 52521, 47092, 3008, 62333], [0, 0, 0, 0, 0, 0, 0, 0, 0, 0, 0, 0, 0, 0, 0, 0, 0, 0, 0, 0, 0, 0, 0, 0, 0, 0, 0, 0, 0, 0, 0, 0, 49943, 6377, 56878, 1861, 66462, 40342, 49737, 69849, 20658, 63225, 34078, 18641, 40734, 58363, 42977, 58544, 56121, 50923, 53893, 63225, 53274, 18747, 35610, 1241, 20658, 12696, 3088, 54592, 52704, 3287, 20465, 3008, 60476, 64824, 36648, 47628, 53116, 62594, 20327, 63225, 62537, 54592, 28475, 23209, 67708, 22932, 58544, 73071, 53031, 58544, 52704, 17708, 42288, 23964, 34666, 70230, 70230, 68993, 63225, 41440, 24015, 60476, 32921, 11638, 54592, 52704, 52699, 67746, 20658, 63225, 54079, 53626, 55418, 23209, 4153, 53626, 35393, 52704, 62354, 20658, 7281, 31431, 5625, 36510, 22651, 52704, 35393, 14382, 21186, 39771, 13101, 38569, 45245, 36716, 11341, 52704, 28463, 20658, 19700, 33532, 18584, 35701, 63225, 12046, 58544, 63225, 11813, 71757, 63225, 70718, 54592, 33469, 37202, 58486, 42363, 63225, 8438, 32526, 20658, 52704, 37396, 9766, 34622, 49943, 57730, 38934, 20796, 63225, 35558, 12196, 24015, 4309, 30989, 70230, 70230, 47628, 73652, 63225, 17515, 13291, 41483, 52704, 27352, 29964, 59929, 24015, 24610, 41915, 48243, 32356, 51299, 59220, 29205, 63225, 67753, 35397, 34402, 4617, 9254, 29240, 41483, 63225, 34078, 49943, 7076, 4840, 16451, 66534], [0, 0, 0, 0, 0, 0, 0, 0, 0, 0, 0, 0, 0, 0, 0, 0, 0, 0, 0, 0, 0, 0, 0, 0, 0, 0, 0, 0, 0, 0, 0, 0, 0, 0, 0, 0, 0, 0, 0, 0, 0, 0, 0, 0, 51299, 7076, 4840, 34433, 38934, 52572, 7521, 14714, 43385, 51862, 40951, 51299, 72393, 4840, 51592, 11039, 6198, 4153, 20718, 6107, 6857, 42467, 34078, 8657, 51299, 38569, 38934, 30706, 4617, 59508, 67076, 38934, 73906, 73018, 1686, 6489, 63225, 65480, 63225, 68834, 54592, 20264, 42363, 63225, 71984, 41270, 73316, 7394, 52458, 38934, 51622, 72886, 63225, 41687, 57984, 62376, 69560, 6107, 63225, 61416, 42363, 25321, 21520, 3008, 63225, 3415, 39127, 42467, 54592, 28475, 4617, 72346, 47209, 39868, 53031, 56493, 36401, 62594, 60476, 4617, 57163, 24015, 27548, 28055, 42363, 63225, 41687, 49943, 37475, 28475, 11180, 68260, 40652, 492, 34622, 57984, 52704, 41424, 61631, 38934, 64110, 42467, 65480, 42363, 517, 65659, 41483, 28117, 38934, 62730, 5958, 63225, 34078, 15260, 26586, 58218, 8316, 1478, 51299, 57984, 42363, 8316, 54323, 51299, 57984, 41483, 56493, 51299, 3814, 4840, 44197, 52704, 21520, 3008, 63225, 3415, 22874, 8657, 51299, 57984, 44197, 3861, 32787, 42363, 34622, 529, 38826, 4840, 32850, 42467, 48437, 3779, 9441, 18641, 20873, 67767], [64203, 18641, 32915, 56006, 63225, 25954, 52280, 42467, 65480, 34622, 6090, 28475, 34402, 63225, 36963, 65480, 20658, 2879, 20718, 8657, 38449, 52704, 51401, 34622, 55627, 23638, 41483, 52704, 58238, 34622, 22651, 46707, 58773, 3004, 70103, 41483, 52704, 58238, 34622, 18641, 52704, 38526, 20149, 65480, 4500, 34733, 38934, 63225, 55619, 32915, 44655, 20658, 34622, 51299, 36510, 64928, 16112, 29227, 43600, 42467, 65480, 55958, 68939, 4617, 21186, 6107, 28117, 9277, 51299, 67699, 34622, 3008, 25943, 51299, 41629, 27172, 34622, 6107, 35695, 42363, 48243, 42363, 34622, 38569, 58253, 20658, 63225, 12127, 34622, 38569, 9277, 51299, 67699, 34622, 6107, 63225, 37552, 43213, 42120, 53031, 68292, 38406, 25530, 38917, 8657, 62594, 5625, 34402, 34622, 63225, 36648, 20658, 34622, 34622, 18641, 52704, 65480, 25321, 44385, 65855, 3029, 34622, 18641, 4617, 4347, 34622, 18641, 52704, 27509, 3008, 63225, 59167, 20658, 72586, 35701, 63225, 381, 53031, 49302, 43782, 1174, 49302, 43782, 42363, 72586, 35701, 63225, 381, 36505, 52673, 59637, 38934, 28117, 35701, 63225, 19055, 25331, 42363, 44852, 64720, 28475, 62594, 60865, 56121, 58253, 20658, 62594, 30871, 63225, 25331, 57984, 38917, 4906, 20149, 63225, 64720, 57984, 53502, 53462, 5451, 24015, 25530, 70230, 70230, 8657, 63225, 58238, 60865, 40719, 54592, 62594, 34622, 18641, 68939, 4617, 59313, 43060, 51299, 30638, 39953], [14996, 63225, 1715, 52836, 12765, 63225, 47129, 20658, 63225, 65480, 70230, 70230, 42467, 35766, 20658, 53557, 4923, 38917, 22651, 41483, 2068, 64203, 52704, 67511, 62594, 3850, 57078, 63290, 69953, 68939, 53557, 4288, 4923, 12349, 37202, 13817, 60512, 53557, 53031, 69439, 24861, 13817, 60512, 53557, 36510, 33469, 42363, 40909, 71984, 37202, 14996, 63225, 4153, 48878, 42363, 9435, 61824, 17241, 14996, 44785, 29745, 24015, 63225, 2901, 17496, 4500, 34622, 38862, 26706, 70230, 70230, 3008, 24610, 55067, 42467, 54592, 63225, 27712, 65480, 26218, 22651, 55955, 63528, 3850, 57078, 63290, 1166, 8316, 17894, 56583, 3610, 68939, 52704, 53462, 15626, 38934, 8262, 4841, 48964, 66354, 7676, 56121, 64928, 27999, 20019, 20658, 26880, 72346, 55360, 28097, 19973, 38934, 62014, 46374, 41618, 18641, 36973, 20658, 26880, 36401, 43232, 8657, 28097, 32685, 24015, 29964, 63225, 72346, 46187, 4923, 35393, 36401, 37202, 63638, 53031, 8733, 53557, 22651, 41483, 45344, 63225, 6589, 70230, 70230, 63225, 71984, 27981, 66408, 3008, 60476, 7310, 42363, 64345, 38934, 20932, 54239, 63225, 6589, 15603, 3008, 32921, 46187, 5833, 56000, 18615, 28117, 20658, 18057, 3748, 8247, 4610, 3008, 3649, 9610, 39075, 42363, 39441, 64335, 51299, 57372, 28475, 52704, 14281, 20658, 28352, 13966, 62183, 34772, 8657, 63225, 12704, 20658, 42872, 68486, 36510, 22586, 72586, 38934, 13966, 18641], [59726, 51299, 41036, 62594, 51299, 7810, 60865, 57620, 24015, 60476, 7224, 47449, 25530, 9435, 42363, 51299, 65855, 52704, 22187, 3008, 3649, 18641, 51299, 27981, 21739, 11489, 43600, 42467, 70161, 65480, 4500, 29550, 3990, 47449, 13807, 42363, 57984, 28874, 8769, 3990, 47449, 44194, 57984, 53184, 55418, 52704, 10082, 8769, 11068, 73766, 55065, 70230, 70230, 30871, 51299, 44136, 24015, 63225, 11166, 20658, 63225, 36903, 422, 39355, 20658, 2879, 11806, 31688, 34622, 52704, 10082, 31688, 34622, 52704, 10082, 34346, 20658, 34346, 47103, 11068, 55065, 3008, 25007, 10611, 63225, 32526, 10082, 73358, 38934, 70230, 70230, 3008, 24610, 8101, 56878, 51299, 69115, 42467, 4906, 64307, 63318, 40431, 52704, 27626, 31217, 3008, 422, 35701, 52704, 37396, 10082, 13412, 55418, 45873, 42363, 63341, 65058, 53108, 38618, 42363, 29420, 24015, 63225, 10082, 64691, 6107, 55418, 46588, 62537, 25954, 41483, 352, 22277, 34684, 28117, 51299, 41629, 7119, 43385, 1942, 38270, 61138, 38934, 9461, 63225, 68097, 8769, 21434, 1686, 21434, 10315, 64391, 7676, 64263, 2932, 55958, 42363, 19190, 56583, 50856, 35201, 63225, 41367, 42363, 56583, 5120, 36510, 64928, 26148, 3008, 41962, 2932, 49663, 43235, 3008, 60865, 38934, 3189, 46588, 55619, 36903, 51299, 57372, 28475, 58162, 11489, 68691, 7676, 49943, 51592, 12277, 4840, 36401, 63225, 65480, 62594, 4153, 42363, 31688, 34622], [51299, 49943, 67699, 63225, 65480, 3008, 5935, 63225, 65480, 56121, 4906, 72967, 20149, 22390, 38934, 4671, 11489, 42872, 18641, 28863, 42363, 52704, 28463, 20658, 14472, 6090, 34402, 46614, 34622, 63225, 65480, 54592, 52704, 43501, 68734, 3008, 2879, 11411, 18692, 37943, 35701, 63225, 65480, 5120, 34402, 73615, 69439, 67294, 72173, 7521, 49943, 1174, 65432, 56121, 22651, 34622, 38934, 71562, 44754, 70230, 70230, 8657, 63225, 27712, 51299, 22123, 11489, 63225, 65480, 54592, 63225, 72346, 46187, 1174, 70515, 59691, 54592, 41704, 38934, 25097, 72346, 46187, 55955, 18572, 8657, 56583, 54765, 62594, 18572, 48589, 26543, 52704, 67949, 25007, 38934, 13137, 34622, 72580, 36401, 57241, 8657, 14972, 59691, 48589, 212, 28475, 36510, 62594, 4153, 20658, 20718, 56583, 47470, 44719, 20718, 6107, 14472, 42363, 61701, 20658, 63225, 65480, 1174, 68939, 7521, 4298, 72346, 46187, 6090, 11180, 3008, 57185, 58544, 63225, 61416, 49943, 11784, 38934, 64110, 44719, 17023, 7078, 44533, 54941, 20658, 1686, 8657, 3008, 59691, 42467, 54592, 38862, 28475, 52159, 38934, 11180, 2879, 63225, 72346, 46187, 51299, 102, 51299, 64474, 36510, 46739, 24015, 63225, 34294, 69439, 24861, 33046, 1686, 63464, 55955, 11258, 38934, 63351, 34772, 19470, 42467, 54592, 47134, 20658, 72796, 61416, 54592, 28475, 55671, 38934, 64110, 68939, 72796, 51299, 13458, 59691, 1174, 68486, 54765, 11489], [0, 0, 0, 0, 0, 0, 0, 0, 0, 0, 0, 0, 0, 0, 0, 0, 0, 0, 0, 0, 0, 0, 0, 0, 0, 0, 0, 0, 0, 0, 0, 0, 0, 0, 0, 0, 0, 0, 0, 0, 0, 0, 0, 0, 0, 0, 0, 0, 0, 0, 0, 0, 0, 0, 0, 0, 0, 0, 0, 0, 0, 0, 0, 0, 0, 0, 0, 0, 0, 0, 0, 0, 0, 0, 0, 0, 0, 0, 0, 0, 0, 0, 0, 0, 0, 0, 0, 0, 0, 0, 0, 0, 0, 0, 0, 0, 0, 0, 0, 0, 0, 0, 0, 0, 0, 0, 0, 0, 0, 0, 0, 0, 0, 0, 0, 0, 0, 0, 0, 0, 0, 0, 0, 0, 0, 0, 0, 0, 0, 0, 0, 0, 0, 0, 0, 0, 0, 0, 0, 0, 0, 0, 0, 0, 51299, 7810, 42467, 65480, 56800, 51299, 57984, 42363, 51299, 67699, 34622, 6107, 63225, 10185, 52728, 34622, 57984, 3990, 11192, 42363, 60859, 51299, 31099, 23735, 65993, 41483, 2879, 34622, 18641, 52704, 65480, 38934, 64110, 35701, 70495, 47075, 8769, 14714, 70230, 70230, 24610, 32524, 10082, 23824, 41483, 12816, 42407, 11199, 46187, 20658, 64443, 44171, 71999, 42363, 24861, 18531], [63225, 4214, 57984, 54911, 34772, 19470, 57984, 20149, 58544, 4823, 42363, 62594, 57984, 63225, 55418, 20149, 62537, 11489, 63225, 65480, 42872, 56000, 44136, 36622, 3029, 57984, 3990, 68417, 42363, 11705, 9435, 63027, 28498, 20022, 8657, 13101, 37475, 28475, 44136, 20149, 56251, 51299, 7076, 4840, 65037, 43600, 63225, 40017, 37475, 5833, 56000, 29921, 68939, 52704, 36622, 14145, 3029, 57984, 8223, 4153, 38934, 212, 41483, 2932, 3008, 63225, 65480, 49943, 40951, 34622, 54592, 52704, 25085, 34078, 24554, 28475, 69752, 62594, 4617, 7078, 68486, 16675, 63225, 14145, 20327, 36622, 34622, 54592, 53116, 25044, 49363, 57984, 2638, 51299, 13458, 62594, 34622, 54592, 37396, 20718, 62594, 66336, 48589, 42363, 54073, 2551, 11027, 20658, 66336, 33248, 58544, 16012, 67949, 64203, 4923, 64377, 53708, 64203, 212, 56583, 13458, 56583, 5120, 51712, 10315, 42453, 6107, 52704, 9546, 44053, 38934, 44226, 42363, 64377, 5120, 34684, 39336, 54592, 63225, 66336, 20212, 3990, 4298, 62594, 56583, 4923, 41704, 38934, 10677, 24861, 36863, 56583, 15228, 4617, 71835, 44053, 20658, 2599, 42363, 64928, 46588, 57984, 3029, 38934, 31594, 63225, 72924, 63225, 72346, 57984, 706, 42363, 51299, 36510, 17223, 7618, 68939, 36622, 72346, 34772, 19470, 57984, 73316, 52704, 49018, 20658, 2599, 2879, 1253, 24015, 2932, 42363, 28097, 1253, 50070, 24015, 39336, 58253, 20658, 63225], [63225, 65480, 60865, 42395, 34622, 4153, 35393, 63341, 49943, 52704, 14637, 38934, 19065, 34622, 52699, 11305, 52704, 8526, 26758, 66836, 62594, 5120, 4823, 34402, 17676, 11489, 42363, 5120, 17223, 50923, 17549, 43600, 3990, 61649, 51299, 36510, 64928, 16112, 64474, 5120, 56583, 26218, 13137, 52704, 65480, 36401, 60865, 62594, 54592, 3990, 45298, 42363, 11192, 60492, 20718, 61563, 64110, 34622, 64474, 56583, 26218, 22259, 68939, 4617, 4347, 6217, 34622, 5120, 34402, 27876, 63932, 70230, 70230, 63225, 13929, 64928, 16925, 38569, 63225, 14277, 12127, 6107, 63225, 34078, 52704, 17052, 44568, 34078, 7394, 38934, 64110, 54627, 38934, 4617, 23184, 23167, 25321, 51299, 65855, 28475, 63225, 23167, 35766, 22932, 8657, 62594, 68486, 28475, 41764, 61563, 40951, 61563, 5120, 17223, 9461, 52704, 23167, 36401, 42467, 34486, 60096, 38934, 63225, 69303, 50144, 38934, 63225, 23516, 38934, 63225, 48176, 25331, 70230, 70230, 63225, 65480, 34855, 4617, 69303, 7504, 42363, 52704, 14990, 48090, 60096, 59468, 4906, 57241, 42363, 17995, 63225, 13730, 44777, 60865, 54592, 1302, 62451, 3008, 2879, 5681, 7521, 59468, 7521, 9154, 63225, 25331, 57984, 63225, 57241, 25007, 22277, 42363, 21216, 4923, 529, 63225, 17857, 24015, 7075, 3029, 48825, 64928, 46588, 64474, 36510, 23217, 33469, 56583, 4923, 14576, 63225, 58238, 43600, 63225, 34078, 54592, 3990, 70161, 70230, 70230], [0, 0, 0, 0, 0, 0, 0, 0, 0, 0, 0, 0, 0, 0, 0, 0, 0, 0, 0, 0, 0, 0, 0, 0, 0, 0, 0, 0, 0, 0, 0, 0, 0, 0, 0, 0, 0, 0, 0, 0, 0, 0, 0, 51299, 57984, 4906, 64901, 35701, 42467, 29994, 60096, 57984, 26633, 55955, 63225, 2551, 63225, 28055, 57984, 22564, 63225, 72346, 45836, 63225, 14472, 20291, 69439, 63225, 4214, 57984, 42262, 55955, 52704, 60217, 7676, 56121, 58510, 41064, 67463, 36401, 41879, 42363, 43232, 51299, 38569, 37396, 10834, 63225, 23468, 32731, 65659, 7521, 41055, 42363, 37475, 28475, 73018, 63225, 34078, 24015, 2879, 20658, 38618, 42872, 40522, 63225, 43213, 3008, 52704, 3022, 8657, 41483, 6377, 73097, 51299, 13458, 5792, 59177, 48589, 68486, 36060, 8316, 72346, 53557, 4923, 23217, 56583, 26998, 38934, 66930, 65659, 7521, 4153, 3008, 33046, 63290, 42467, 44599, 40719, 40951, 62594, 54592, 44719, 35019, 65852, 8657, 5792, 51383, 18641, 35019, 4923, 63225, 14472, 52704, 20149, 72346, 65480, 68486, 29964, 64928, 35393, 37202, 6377, 37104, 42363, 59220, 72580, 64452, 8657, 3008, 63225, 52312, 51299, 65855, 51009, 34346, 72346, 53557, 5120, 64792, 4153, 25860, 27981, 38934, 34402, 45048, 28055, 42363, 72346, 63290, 212, 28475, 16612, 1633, 23217, 11151, 20149, 35999, 20551, 20718], [51299, 38569, 72967, 13223, 35701, 42467, 34078, 42363, 51299, 36510, 62780, 52704, 67949, 20658, 31102, 52941, 34622, 54592, 3483, 42363, 21779, 68993, 34622, 54592, 9435, 38406, 37104, 27314, 8657, 51299, 57984, 7158, 62594, 34622, 52152, 8769, 3990, 46598, 51299, 7076, 4840, 13458, 34622, 54592, 21779, 24015, 2879, 51299, 13458, 63225, 11068, 10082, 54592, 32303, 1708, 63225, 34078, 59468, 57587, 35701, 25853, 15218, 42363, 11113, 50144, 42363, 63225, 45092, 55955, 18624, 6777, 43880, 37510, 55955, 28949, 352, 22277, 11527, 46588, 20658, 3649, 17857, 45036, 58544, 44444, 42363, 19391, 21216, 54592, 28080, 58544, 47114, 22471, 55121, 52704, 70161, 7078, 258, 60492, 63985, 28097, 18641, 3008, 63225, 71984, 54592, 4906, 71156, 3008, 51862, 42363, 54592, 31075, 6107, 10506, 45246, 18599, 35701, 63225, 44101, 71984, 4500, 54592, 4906, 45298, 9277, 34622, 10356, 38934, 34402, 2362, 3008, 63225, 56450, 12504, 20658, 63225, 65480, 34622, 54592, 52704, 33282, 35963, 63225, 29964, 73843, 54592, 51622, 56171, 42363, 51299, 5120, 61823, 62594, 51299, 57984, 6107, 63225, 50635, 20658, 24610, 21131, 9277, 63225, 60865, 37492, 51299, 5120, 27981, 24086, 62594, 63225, 29964, 45845, 62709, 55073, 4906, 45298, 63225, 23516, 6072, 8769, 18624, 23673, 57984, 28080, 2362, 51299, 17223, 57984, 52704, 2512, 14281, 20658, 63225, 55299, 24610, 9786, 5120, 52572], [39771, 3029, 54592, 46588, 34078, 4500, 54592, 63225, 27712, 20658, 42467, 19963, 34622, 18641, 14996, 63225, 56450, 62362, 31688, 4617, 44898, 62594, 63225, 34078, 5120, 34402, 52704, 7394, 43232, 44599, 34078, 42363, 30871, 51299, 39494, 56450, 55418, 34622, 35397, 34402, 52704, 36622, 34078, 1333, 34622, 68292, 40951, 20658, 34622, 40652, 52704, 25085, 34078, 53031, 68292, 65993, 63225, 74018, 62362, 8657, 42467, 34078, 31688, 28117, 52704, 49173, 34622, 57984, 69439, 27712, 63341, 43232, 42363, 64203, 51299, 17139, 56450, 13966, 18641, 66224, 4500, 54592, 7394, 63341, 13966, 42872, 18196, 42872, 54592, 3990, 7150, 42363, 63341, 5833, 56000, 10885, 60030, 64203, 28097, 54592, 15651, 3008, 68939, 52704, 47986, 34078, 64203, 52673, 14145, 34622, 54592, 64203, 25331, 54592, 28097, 15651, 3649, 56450, 63985, 54592, 2638, 8657, 63341, 3649, 56912, 28053, 73513, 42363, 28097, 37208, 63341, 46108, 34772, 7676, 58873, 24861, 26317, 46187, 8657, 63341, 63225, 34078, 44303, 35393, 7394, 42363, 35701, 2879, 63225, 18417, 18849, 54140, 23167, 69171, 20658, 48157, 4610, 44599, 72346, 46187, 42363, 2879, 7394, 46187, 63225, 7224, 54592, 54168, 14987, 70230, 70230, 4841, 48964, 66354, 35397, 36510, 55627, 63290, 35393, 38934, 18108, 39771, 42467, 34078, 38569, 32731, 46614, 63225, 34562, 20658, 25085, 55418, 1269, 8223, 16973, 3990, 4841, 54592, 54168, 68769], [51299, 13458, 18624, 6777, 5625, 34402, 23, 24610, 17023, 13929, 40951, 42467, 54592, 24610, 67018, 14975, 20658, 3649, 53557, 51013, 38331, 60074, 63225, 5577, 60865, 34622, 57984, 37552, 52928, 42363, 31093, 40297, 70950, 34622, 57984, 2879, 9435, 63225, 13283, 42363, 46588, 20658, 63225, 57949, 7434, 26218, 30871, 18624, 6777, 33947, 38934, 13137, 52704, 65480, 13688, 20658, 34622, 8657, 8247, 6377, 14020, 30347, 38934, 34402, 3008, 63225, 64945, 67767, 20658, 63225, 59824, 30871, 59205, 63225, 11813, 14975, 8657, 62549, 28117, 59191, 61563, 62594, 42467, 54592, 2879, 67076, 42363, 20022, 46426, 42363, 63225, 55418, 46426, 62594, 5120, 34402, 21214, 54592, 4617, 66836, 55955, 63225, 34078, 70230, 70230, 3990, 49301, 6377, 11813, 30347, 4923, 44444, 352, 22277, 42363, 47114, 19391, 21216, 56583, 52699, 28475, 34595, 7521, 4153, 8657, 64110, 42467, 42363, 61563, 41181, 52596, 13688, 43600, 56583, 64474, 21671, 34595, 4767, 68198, 73766, 52519, 63225, 11813, 67136, 51299, 14378, 54592, 36622, 35999, 71634, 5259, 20658, 60030, 64928, 50170, 49144, 53031, 49943, 22694, 6362, 19933, 49645, 37773, 63168, 2879, 20658, 63225, 71611, 42363, 64203, 212, 61563, 64792, 10885, 25321, 64377, 64792, 52704, 44101, 71984, 6107, 52704, 70661, 64028, 63225, 18272, 30347, 4923, 63225, 71209, 24610, 45235, 17023, 64052, 64686, 67907, 29576, 14435, 28097, 57984], [0, 0, 0, 0, 0, 0, 0, 0, 0, 0, 0, 0, 0, 0, 0, 0, 0, 0, 0, 0, 0, 0, 0, 0, 0, 0, 0, 0, 0, 0, 0, 0, 0, 0, 0, 0, 0, 0, 0, 0, 0, 0, 0, 0, 0, 0, 0, 0, 0, 0, 0, 0, 0, 0, 0, 0, 0, 0, 0, 0, 0, 0, 0, 0, 0, 0, 0, 0, 0, 0, 0, 0, 0, 0, 0, 0, 0, 0, 0, 0, 0, 0, 50856, 40366, 65480, 13498, 64329, 20658, 20718, 70230, 70230, 28682, 23516, 54592, 3990, 72138, 62594, 61563, 59220, 50398, 61340, 30871, 39771, 61563, 51592, 54157, 43293, 1333, 56583, 52267, 54592, 38917, 9790, 70230, 70230, 5611, 11180, 54592, 36622, 72295, 54592, 28475, 21214, 28682, 6072, 11527, 52704, 7744, 72346, 54592, 54605, 5352, 4923, 9790, 25331, 54592, 2516, 42363, 30871, 42872, 46648, 38934, 72580, 36401, 52704, 4682, 1174, 13101, 59468, 36401, 52704, 65170, 4682, 40017, 61563, 72393, 2575, 73358, 8657, 61563, 59220, 4206, 58434, 70230, 70230, 68260, 44026, 38406, 37104, 47366, 52704, 65480, 51299, 34433, 38934, 36401, 34622, 8657, 42467, 65480, 35397, 28475, 69439, 19353, 28117, 62594, 12072, 70230, 70230, 44428, 39771, 61563, 34433, 38934, 68311, 44615, 52572, 33557, 64110, 42467], [60865, 54592, 52704, 27314, 8657, 30871, 22651, 8526, 6732, 44101, 71984, 62594, 26543, 3570, 9650, 63225, 976, 61066, 44357, 6107, 63225, 31093, 59824, 60217, 13929, 18624, 6777, 56121, 23217, 52704, 70161, 42930, 20658, 26880, 42467, 65480, 11489, 52704, 14020, 44101, 71984, 73316, 6377, 4906, 53713, 1686, 42363, 57775, 62594, 35701, 63225, 57241, 66836, 20658, 63225, 60865, 62594, 41760, 68260, 27334, 4617, 38010, 6107, 70950, 40593, 2785, 20658, 18976, 7676, 40483, 3008, 63225, 71695, 67023, 17690, 20658, 63225, 51167, 72216, 63225, 6377, 19839, 3008, 63225, 34078, 4923, 70161, 3008, 44719, 48825, 2051, 352, 22277, 42363, 19391, 21216, 56583, 13137, 41483, 52704, 20149, 6107, 43213, 28463, 12791, 42363, 21216, 27981, 38569, 1177, 6248, 28178, 4500, 22651, 63225, 23167, 62594, 52394, 61346, 73316, 39336, 62594, 4153, 35393, 45859, 56583, 20710, 46516, 57241, 46060, 9277, 42467, 46588, 46108, 13688, 42363, 20710, 20658, 39336, 36510, 49211, 38934, 51712, 49943, 62594, 3008, 44719, 32921, 30061, 63290, 58544, 30871, 63225, 12689, 20658, 63225, 18272, 50623, 2051, 49645, 37773, 7788, 45508, 48802, 31481, 47312, 22573, 42363, 27285, 73939, 3008, 52704, 63234, 14145, 4923, 9303, 57406, 58544, 44719, 30347, 7676, 73018, 48712, 39336, 38934, 24872, 3008, 42467, 34078, 63225, 44101, 71984, 63225, 72346, 16454, 42363, 63225, 24754, 50144, 4923], [0, 0, 0, 0, 43625, 51299, 60209, 38934, 50398, 64203, 212, 63225, 48589, 13458, 9277, 56583, 13137, 52704, 65480, 51299, 38569, 38569, 52704, 29176, 68260, 47366, 73264, 42363, 4630, 62594, 56583, 30360, 212, 34622, 6933, 8657, 68260, 71454, 20658, 69303, 61040, 14996, 22586, 491, 58544, 9786, 1232, 70230, 70230, 68939, 69303, 14472, 3008, 62362, 60880, 19419, 4535, 42363, 14996, 18017, 42363, 64203, 35993, 64792, 3008, 63225, 65480, 20022, 71984, 46229, 41440, 51149, 20658, 34772, 19470, 20689, 42363, 8223, 67897, 40342, 55955, 47366, 42872, 68260, 63027, 14277, 55638, 36803, 70230, 70230, 23516, 5626, 54168, 14277, 44568, 3008, 63225, 23516, 38791, 56583, 36510, 56817, 20718, 6107, 41962, 35293, 63234, 5352, 20658, 34346, 8575, 42363, 56583, 21972, 4840, 4630, 20658, 41962, 63225, 28682, 55299, 20658, 63225, 46187, 9277, 34772, 19470, 54592, 15651, 20689, 62594, 55299, 54592, 68939, 26317, 53502, 37031, 38934, 14996, 18017, 42363, 62594, 54592, 28475, 52061, 3008, 63225, 23516, 38791, 39771, 61563, 18982, 38934, 64110, 42467, 65480, 51299, 35397, 24086, 64110, 34622, 38934, 54157, 38934, 62594, 28682, 55299, 4500, 52152, 3861, 36401, 70717, 70717, 62241, 70230, 70230, 32526, 4906, 73615, 69439, 35701, 63225, 65659, 57640, 56121, 22651, 57163, 38934, 52267, 36622, 47770, 70230, 70230, 52572, 55641, 41367, 51299, 13563, 38934, 63752], [0, 0, 0, 0, 0, 0, 0, 0, 0, 0, 0, 0, 0, 0, 0, 0, 0, 0, 0, 0, 0, 0, 0, 0, 0, 0, 0, 0, 0, 0, 0, 0, 0, 63225, 59824, 6090, 36510, 41760, 8657, 63225, 65480, 38826, 4840, 13929, 18624, 6777, 55955, 63225, 36961, 37475, 34622, 6933, 35701, 42467, 69303, 19996, 46588, 20658, 24610, 17023, 46187, 54592, 63225, 31311, 35484, 63985, 3008, 4500, 47114, 18641, 47075, 42363, 57438, 18196, 44444, 68260, 28097, 55158, 63027, 47114, 56121, 52704, 72580, 6107, 63027, 42411, 62594, 60492, 34572, 68486, 36510, 9277, 61563, 18196, 63225, 46588, 51299, 53722, 51299, 36510, 62594, 72580, 9277, 51299, 57372, 3008, 63225, 37505, 35701, 24610, 52312, 32454, 70230, 70230, 44444, 42363, 47114, 36510, 52704, 71169, 62594, 54592, 65480, 18849, 8657, 34622, 18641, 20149, 65480, 18849, 64377, 36510, 63225, 18210, 58416, 42363, 2879, 63027, 27099, 71057, 13291, 30578, 7676, 17995, 5958, 20658, 44719, 30499, 61573, 47114, 27876, 20098, 68082, 8657, 63225, 45270, 54901, 8247, 71094, 63027, 51299, 51592, 39415, 63225, 30198, 9435, 63225, 64028, 63985, 34622, 57984, 52704, 20149, 9106, 70230, 70230, 63225, 65480, 54592, 27314, 8657, 34622, 18641, 26913, 20149, 71984, 20149, 27713, 20149, 23468, 52572, 9461, 34622, 42120, 39771, 61563, 34433, 60476, 20537, 34622], [0, 0, 0, 0, 0, 0, 0, 0, 0, 0, 0, 0, 0, 0, 0, 0, 0, 0, 0, 0, 0, 0, 0, 0, 0, 0, 0, 0, 0, 0, 0, 0, 0, 0, 0, 0, 0, 0, 0, 0, 0, 0, 0, 0, 0, 0, 0, 0, 0, 0, 0, 0, 0, 0, 0, 0, 0, 0, 0, 0, 0, 0, 0, 0, 0, 0, 0, 0, 0, 0, 0, 0, 0, 0, 0, 0, 0, 0, 0, 0, 0, 0, 51299, 38569, 17223, 4630, 63225, 9766, 20658, 25085, 63290, 35397, 26218, 54586, 38934, 68939, 4617, 59021, 63225, 34078, 56121, 52704, 17545, 4214, 4500, 27038, 64928, 65897, 70230, 70230, 13966, 56121, 9435, 22779, 42872, 56121, 27716, 63027, 68922, 8657, 54592, 28475, 52704, 20149, 29499, 51013, 34772, 54592, 20149, 5833, 54592, 27981, 20149, 6090, 51299, 24086, 63225, 14145, 3814, 4840, 20149, 70230, 70230, 70161, 58675, 20658, 53762, 54592, 15803, 3008, 21739, 39771, 62594, 57984, 20861, 38934, 34402, 63225, 28055, 26148, 20658, 63225, 65480, 49943, 40951, 29964, 72967, 53557, 55073, 11429, 24554, 62594, 48199, 25085, 63290, 68486, 13137, 42467, 22804, 20658, 66839, 34622, 56121, 52704, 26758, 20658, 3990, 47449, 20149, 63290, 70230, 70230, 32526, 51299, 57984, 29213, 73615, 35701, 63225, 65480], [60865, 56121, 38934, 34402, 46588, 20658, 24610, 2879, 20718, 17023, 53557, 34622, 56121, 60476, 13223, 64203, 53557, 7076, 4840, 8657, 19684, 34622, 18641, 34408, 70230, 70230, 9277, 51299, 47508, 48639, 68691, 7676, 48625, 28117, 43600, 51299, 36401, 60865, 51299, 17590, 24610, 56450, 7795, 54592, 26473, 52704, 20557, 61563, 7076, 4840, 51299, 65037, 3990, 47449, 1686, 7676, 7076, 4840, 36401, 42467, 65480, 42363, 51299, 65855, 28475, 52941, 51299, 7076, 4840, 9461, 43600, 63225, 44101, 71984, 54592, 7521, 74018, 30871, 25321, 8657, 68212, 4840, 34622, 34408, 42363, 45298, 2879, 19190, 63225, 44101, 71984, 73316, 44444, 42363, 47114, 54592, 4906, 64452, 38331, 13023, 62594, 44101, 36401, 42467, 12277, 4840, 38917, 44761, 8657, 42467, 54592, 52704, 65480, 12277, 4840, 38331, 39953, 47366, 52704, 60859, 71984, 62594, 46699, 52369, 31623, 52351, 43385, 22678, 41483, 52704, 39355, 63225, 20551, 42537, 22277, 42363, 21216, 4923, 26633, 23468, 30871, 33518, 3008, 42467, 65480, 51299, 37462, 62594, 56583, 212, 28475, 3278, 38934, 44719, 37649, 7772, 20327, 51299, 13458, 34622, 18641, 21201, 38934, 24086, 62594, 56583, 4923, 26633, 23468, 51299, 13028, 13458, 56583, 4923, 20710, 4906, 12409, 23468, 7676, 14972, 4923, 4906, 44351, 41483, 52704, 65480, 62594, 56583, 4923, 28475, 69303, 3008, 8657, 63225, 48825, 56583, 4923, 53184, 4923, 17052], [0, 0, 0, 0, 0, 0, 0, 0, 0, 0, 0, 0, 0, 0, 0, 0, 0, 0, 0, 0, 0, 0, 0, 0, 0, 0, 0, 0, 0, 0, 0, 0, 0, 0, 0, 0, 0, 0, 0, 0, 0, 0, 0, 0, 0, 0, 0, 0, 0, 0, 0, 0, 0, 0, 0, 0, 0, 0, 0, 0, 0, 0, 0, 0, 0, 0, 0, 0, 0, 0, 0, 0, 0, 0, 0, 0, 0, 0, 0, 0, 0, 0, 0, 63225, 34078, 70224, 44599, 51299, 48199, 28718, 44599, 60096, 59468, 61318, 2051, 72346, 56450, 752, 3008, 63225, 65480, 14472, 44482, 27490, 23930, 23930, 25321, 3029, 63225, 2316, 3971, 55073, 28718, 36401, 3008, 63225, 39716, 52704, 29204, 54592, 1302, 35701, 41255, 13291, 41255, 42363, 72967, 73097, 23461, 34622, 64019, 45985, 73358, 52704, 25524, 35701, 41255, 15382, 62594, 57984, 46588, 3008, 47449, 2316, 3971, 20658, 63225, 65480, 56493, 20149, 3008, 63225, 65480, 25321, 41483, 42872, 39127, 39771, 3029, 4923, 49663, 42872, 3008, 3022, 41483, 34772, 39127, 3649, 5352, 42363, 72346, 20689, 46614, 34622, 8223, 16973, 3990, 64110, 34622, 6107, 70495, 1884, 9106, 42363, 7076, 4840, 39136, 63225, 13929, 53031, 23468, 13929, 54592, 25847, 46239, 42363, 23468, 51299, 23939, 39336], [60865, 54592, 52704, 44107, 51299, 57984, 51592, 39187, 62594, 42467, 65480, 38826, 4840, 36510, 52704, 5244, 50674, 32526, 3008, 63225, 11068, 36903, 29629, 68292, 34622, 18641, 49943, 40668, 38934, 28475, 30706, 60865, 43235, 29231, 8657, 9277, 34622, 57984, 56450, 22651, 34622, 57984, 51592, 3861, 9277, 63225, 65480, 46108, 13688, 1686, 36124, 38934, 63225, 25943, 9277, 34622, 46108, 13688, 6107, 48243, 24610, 37249, 42363, 51299, 35397, 64110, 34622, 42120, 52704, 52728, 41483, 52704, 62347, 34622, 57984, 64380, 38934, 24086, 64377, 55073, 42304, 42363, 41483, 20149, 58238, 24861, 20658, 63225, 44568, 46187, 55073, 41055, 38934, 33831, 36401, 63225, 55680, 63824, 53031, 63225, 22187, 7676, 53653, 68082, 68260, 44533, 68691, 3008, 63225, 29438, 65608, 47449, 1686, 67484, 6107, 62594, 59824, 42363, 38934, 57879, 62594, 6107, 34078, 35701, 63225, 18091, 42363, 34076, 34622, 43839, 54592, 52704, 41055, 22575, 62594, 18624, 6777, 27955, 13291, 38934, 42363, 62549, 18641, 28475, 54765, 63225, 69303, 23167, 73316, 44444, 42363, 47114, 45461, 53031, 28475, 44719, 32465, 57984, 52704, 24534, 20658, 68691, 18641, 17016, 34622, 57984, 28080, 56583, 68801, 39494, 57758, 55619, 8657, 56583, 35397, 32665, 41483, 57758, 55619, 56583, 8379, 57758, 55619, 56583, 51009, 58544, 40017, 4923, 41962, 4946, 42363, 64888, 52704, 51804, 41483, 44719, 1269, 51299, 41181, 17223], [42467, 65480, 54592, 517, 63225, 25331, 54592, 52704, 64329, 71976, 64928, 66388, 64928, 72346, 20879, 14472, 2362, 63225, 61575, 54592, 70161, 51299, 36510, 4823, 17336, 38934, 52572, 38934, 67411, 70230, 70230, 51013, 58544, 41483, 13966, 61563, 28954, 16451, 52704, 70161, 33073, 8657, 69439, 28097, 62549, 73358, 63225, 1686, 70230, 70230, 34772, 19470, 30248, 58544, 63225, 12108, 20658, 59691, 42363, 63225, 64803, 20658, 35754, 28097, 57984, 67213, 3008, 42467, 65480, 41483, 55418, 42467, 33073, 10919, 68486, 753, 54168, 12704, 63225, 69904, 12704, 41483, 63225, 27712, 33073, 8769, 63225, 65659, 63225, 73556, 68486, 34402, 52704, 17219, 21131, 70230, 70230, 42872, 56000, 13101, 56450, 20658, 2879, 54592, 28475, 37031, 38934, 63027, 37249, 50622, 3008, 25331, 3008, 59468, 53031, 3008, 9610, 13101, 1174, 13838, 38934, 59656, 38934, 44777, 62594, 13101, 13585, 63027, 13101, 17991, 43385, 42467, 65480, 14451, 3022, 18641, 42363, 45527, 50820, 42363, 8259, 60327, 51299, 51592, 57892, 43600, 13966, 25044, 49363, 54592, 47787, 3649, 62380, 38934, 34402, 60477, 36401, 62594, 8657, 13101, 70826, 41629, 34156, 24861, 1686, 47050, 36401, 62594, 42363, 39771, 61563, 56061, 8316, 63341, 43437, 60492, 41367, 54592, 47628, 4617, 2620, 47366, 42467, 65480, 56583, 4923, 27767, 20658, 47628, 42872, 56000, 3008, 1547, 26914, 35701, 52704, 52785, 2051, 28117, 13028], [0, 0, 0, 0, 0, 0, 0, 0, 0, 0, 0, 0, 0, 0, 0, 0, 0, 0, 0, 0, 0, 0, 0, 0, 0, 0, 0, 0, 0, 0, 0, 0, 0, 0, 0, 0, 0, 0, 0, 0, 0, 0, 0, 0, 0, 0, 0, 0, 0, 0, 0, 0, 0, 0, 0, 0, 0, 0, 0, 0, 0, 0, 0, 0, 0, 0, 0, 0, 0, 0, 0, 0, 0, 0, 0, 0, 0, 0, 0, 0, 0, 0, 0, 0, 0, 0, 0, 0, 0, 54168, 48003, 6217, 42467, 30598, 43385, 63225, 62209, 20658, 63225, 71610, 42363, 63225, 52583, 42363, 34622, 24554, 4906, 30871, 34622, 12277, 4840, 49649, 38934, 63225, 37552, 24754, 50144, 56651, 36401, 46347, 29264, 34622, 73189, 35393, 6107, 59313, 12127, 52704, 37893, 17052, 41440, 62594, 52856, 31431, 36507, 48712, 38934, 24872, 34622, 64786, 63225, 71984, 20658, 52704, 28463, 7676, 7789, 4617, 49447, 12046, 62594, 57984, 7270, 40303, 38934, 52704, 4906, 49447, 34572, 7676, 17223, 26761, 17846, 42363, 34454, 32454, 1294, 3008, 66346, 31376, 52704, 50715, 58999, 34387, 24018, 28123, 38934, 67561, 3008, 63225, 12046, 42363, 38904, 73566, 70766, 38934, 22916, 43385, 63225, 41367, 7676, 1294, 7676, 57984, 38917, 52704, 68385, 51364, 35081, 55359], [33518, 51299, 57372, 28475, 27120, 51299, 212, 65037, 52704, 33282, 11489, 27120, 72623, 42363, 52704, 33282, 72375, 11489, 27120, 26310, 72623, 55619, 37202, 62594, 51299, 57372, 42417, 51299, 18359, 11832, 42363, 51299, 36401, 71348, 41687, 70230, 70230, 20149, 35701, 62594, 19110, 19219, 51299, 72393, 5036, 6107, 63225, 65480, 51299, 36510, 64928, 16112, 6107, 8316, 34622, 54592, 34408, 38934, 63225, 27120, 6589, 37628, 6035, 54592, 53502, 52704, 20149, 13929, 59668, 63225, 49751, 61844, 35795, 18849, 3008, 63225, 44599, 20658, 58162, 9507, 42363, 69439, 62594, 57984, 32695, 42363, 56105, 67897, 42363, 51299, 57372, 39187, 28097, 46108, 13291, 35701, 42467, 34622, 6090, 49943, 34402, 46588, 20658, 4288, 69560, 3008, 47430, 45402, 51299, 57372, 43323, 34622, 54592, 8657, 58544, 52704, 24585, 35558, 47366, 63225, 34078, 35701, 53605, 44289, 47770, 19799, 51299, 49943, 4630, 34622, 57984, 517, 63225, 5191, 3370, 36622, 63225, 70718, 57984, 33726, 51299, 48199, 30706, 63225, 61416, 52704, 51401, 42363, 61728, 13291, 52704, 33282, 61563, 38526, 23187, 38934, 63225, 19110, 20658, 27876, 26880, 24610, 9507, 73330, 9435, 4617, 56651, 20658, 52928, 21381, 27952, 42363, 17449, 72346, 70230, 70230, 20327, 51299, 4630, 63225, 68834, 57984, 51592, 40668, 63225, 16112, 54592, 70161, 42363, 34622, 54592, 30871, 3416, 3008, 4288, 67688, 46187, 20327, 63225, 61295], [41483, 28117, 13028, 42467, 34078, 52152, 73358, 3008, 24610, 10420, 18626, 20658, 2879, 20718, 64928, 43479, 18624, 6777, 56121, 42950, 47029, 20718, 42363, 20718, 6933, 62594, 28097, 54592, 52704, 25389, 55274, 69761, 63290, 68939, 58544, 24292, 63225, 46115, 42363, 20710, 66837, 34622, 54592, 56597, 62594, 28097, 57984, 52704, 57386, 42363, 34853, 13929, 58544, 14714, 58544, 72346, 42363, 7293, 55961, 52152, 28097, 5834, 52704, 71984, 42363, 47924, 52704, 34387, 22501, 38934, 63225, 34078, 8657, 60865, 54592, 3990, 4153, 53713, 38934, 3649, 55619, 33583, 20658, 17102, 63225, 34078, 54592, 67984, 45298, 42363, 62864, 37505, 41483, 21630, 41440, 45246, 42363, 67897, 10506, 60308, 3008, 52704, 71984, 62594, 38331, 13023, 63225, 71984, 20658, 63225, 6157, 23112, 70661, 6107, 63027, 36061, 44357, 54592, 13730, 3990, 63225, 22575, 57984, 41483, 6777, 38934, 13137, 52704, 70817, 67897, 42363, 32787, 34078, 11489, 34622, 63225, 25331, 54592, 14990, 58544, 352, 22277, 7676, 57954, 44444, 42363, 19391, 21216, 7676, 57954, 47114, 44303, 8087, 51326, 35701, 63225, 73466, 20658, 42467, 34078, 42363, 3008, 32921, 63290, 51299, 64792, 67380, 9277, 63225, 18272, 30347, 3819, 4840, 53184, 52704, 67949, 38934, 212, 8657, 3008, 42467, 34078, 34622, 54592, 35393, 15276, 40951, 58544, 4617, 4674, 47114, 48593, 61725, 40020, 63027, 71984, 34622, 54592, 46598, 14387], [41483, 42467, 65480, 8137, 52704, 8262, 53274, 3008, 59691, 42363, 56121, 19219, 63225, 9766, 26442, 4500, 2879, 44161, 70826, 1174, 34402, 42542, 70230, 70230, 56450, 5958, 63225, 39716, 37475, 36510, 42407, 20658, 44599, 42363, 39771, 3610, 30871, 64474, 36510, 21671, 52704, 21051, 44107, 52704, 16526, 5698, 55961, 53031, 52704, 41457, 39665, 8657, 63225, 41440, 57984, 3029, 46588, 70766, 38934, 39767, 42363, 24015, 46588, 19110, 62376, 66408, 34622, 70230, 70230, 14478, 3008, 52704, 62255, 7076, 35701, 4617, 65314, 41483, 47770, 52704, 16800, 47945, 13607, 31574, 52704, 42479, 36940, 33347, 7676, 72393, 7076, 52704, 3022, 42363, 52704, 35501, 35701, 63225, 50030, 44062, 52704, 1486, 14560, 27918, 4060, 41367, 42363, 52704, 48898, 35701, 52704, 58773, 53031, 57984, 34622, 52704, 60331, 71348, 69802, 73641, 6107, 44719, 41184, 20149, 28338, 3008, 4085, 36906, 8657, 42467, 54592, 72898, 51299, 35397, 36401, 38934, 56061, 63225, 13929, 11073, 64203, 55073, 61563, 61436, 70230, 70230, 13570, 51009, 42467, 65480, 35397, 34402, 14514, 3008, 63225, 71868, 20658, 59691, 34078, 26880, 41483, 64203, 70826, 17223, 34402, 23217, 55911, 63225, 31197, 20658, 63225, 32921, 19624, 1234, 20658, 65480, 23983, 70230, 70230, 39925, 63225, 55418, 29494, 61290, 3008, 42467, 41457, 50867, 31081, 39665, 31081, 28992, 24154, 54592, 63225, 23516, 64110, 63225, 28538, 56469], [50070, 3008, 212, 51299, 19065, 62594, 19963, 38493, 52606, 18864, 36060, 63225, 10649, 52859, 20658, 59034, 2670, 63225, 10222, 29550, 63225, 62209, 70552, 42363, 52704, 34572, 31688, 38494, 38934, 40372, 42467, 57984, 27981, 63225, 37552, 19963, 3008, 63225, 73466, 20658, 60865, 46588, 20658, 63225, 57949, 63290, 20658, 2879, 20718, 52704, 33347, 11489, 63225, 59824, 20658, 67972, 11489, 52704, 70142, 42363, 52704, 39364, 7676, 71725, 3008, 44101, 8657, 4923, 67814, 40342, 8769, 44719, 60213, 48074, 42363, 24015, 63225, 47134, 20658, 44719, 59313, 34879, 63225, 59824, 29752, 35701, 44568, 51299, 7076, 4840, 13458, 64360, 64474, 36510, 17139, 60865, 38934, 34402, 58544, 2512, 58544, 34622, 57984, 63225, 65480, 57984, 51307, 37202, 24872, 42363, 38569, 56904, 20658, 39127, 20658, 39336, 40652, 51792, 38796, 51299, 57984, 66462, 49447, 24015, 63225, 20718, 42363, 20658, 38618, 67699, 63225, 65480, 18095, 25530, 34622, 57984, 63225, 34078, 62594, 22651, 28117, 34684, 62594, 63225, 44101, 62594, 44444, 42363, 47114, 25767, 57984, 3990, 57241, 42363, 60859, 24015, 63225, 20718, 51299, 46686, 62594, 60865, 64474, 212, 64928, 59382, 20658, 38618, 51299, 63177, 13291, 42363, 38826, 4840, 64110, 63225, 34078, 56800, 51299, 57984, 52704, 28463, 66462, 58999, 51299, 67699, 63225, 34078, 6107, 17515, 41483, 42363, 27698, 62594, 34622, 57984, 52704, 20149, 29240, 42363], [63225, 3509, 20658, 42872, 56000, 3008, 52704, 6377, 65852, 3022, 54592, 11489, 63225, 55418, 62537, 62594, 69687, 61563, 13291, 55955, 70495, 14540, 39355, 47366, 14996, 63225, 9639, 55478, 28511, 61638, 8262, 34078, 24015, 63225, 19583, 42467, 48246, 36622, 63290, 4923, 36622, 63290, 42363, 64377, 9461, 24861, 60492, 59929, 8657, 14996, 54592, 28475, 49943, 52704, 36622, 34078, 34622, 18641, 52704, 26633, 34078, 26633, 40951, 34622, 26543, 60476, 61416, 41483, 47570, 26633, 27981, 40951, 63225, 5160, 16451, 38934, 64792, 55641, 23209, 52704, 41440, 53031, 49663, 29493, 20019, 55418, 40951, 56583, 41629, 55627, 37552, 65480, 27670, 1, 58510, 42363, 25953, 8769, 4841, 48964, 66354, 14996, 54592, 64203, 61563, 28954, 18211, 58544, 52704, 41802, 65480, 8657, 46588, 62594, 18641, 52159, 3008, 2879, 63225, 59382, 52727, 13966, 25044, 49363, 27670, 58544, 9549, 68316, 52704, 16800, 68069, 65247, 7676, 18641, 66092, 38934, 26776, 47770, 38934, 57640, 62594, 18641, 5833, 56000, 7075, 4617, 42409, 13291, 14566, 42163, 38934, 52572, 40668, 9549, 18641, 55627, 3649, 61295, 6107, 39684, 63225, 14566, 18641, 64568, 21434, 52319, 45245, 8769, 42872, 56000, 7676, 13969, 9549, 38934, 73165, 63027, 31810, 20658, 40363, 53647, 25837, 38934, 48906, 3649, 1269, 42363, 27981, 38934, 10551, 20710, 9549, 42363, 39684, 57640, 28162, 3649, 32921, 8379, 1983, 38934], [18624, 6777, 18641, 60865, 54592, 51448, 52704, 3338, 6732, 35701, 7504, 53121, 42363, 46143, 52704, 48631, 8526, 44101, 71984, 19219, 26442, 63225, 28682, 20658, 42467, 14277, 21151, 66836, 34622, 18641, 4617, 44816, 65480, 62594, 70154, 53722, 44101, 42363, 18786, 70230, 70230, 352, 22277, 54592, 43901, 6107, 43213, 35701, 37552, 15850, 68042, 6405, 2410, 39628, 42363, 26097, 28097, 18641, 52704, 1130, 60427, 34918, 35701, 59814, 29137, 42363, 52704, 68562, 41483, 24872, 70230, 70230, 19391, 21216, 54592, 50856, 28080, 58544, 63225, 12943, 43896, 48074, 15136, 35796, 38934, 52704, 47033, 71156, 22187, 7676, 17032, 44777, 46588, 14637, 59716, 38934, 63225, 1308, 20658, 65575, 70230, 70230, 49645, 37773, 54592, 4617, 11307, 9446, 48590, 42363, 54211, 71156, 7676, 35397, 25823, 29773, 13427, 489, 35701, 1269, 53031, 69439, 14799, 4617, 25186, 21434, 69686, 38934, 59803, 22784, 28097, 47693, 52704, 70881, 1230, 8172, 6896, 8769, 34074, 57607, 70230, 70230, 7788, 45508, 54592, 63225, 67267, 31093, 68823, 695, 63225, 72524, 34572, 3008, 15719, 7676, 54592, 52704, 67949, 72375, 52507, 37202, 63225, 55619, 71156, 30065, 6107, 63225, 59824, 70230, 70230, 48802, 18562, 54592, 63225, 42238, 20209, 23891, 39655, 7676, 47142, 43323, 20658, 52899, 63027, 60213, 57560, 41500, 63027, 30450, 38934, 21671, 35796, 38934, 14533, 52704, 71156, 20764, 31414, 70230], [68939, 52704, 27314, 52971, 65480, 8657, 34622, 56121, 73615, 28117, 42363, 24610, 57438, 7676, 38569, 72586, 38934, 9461, 63225, 65480, 6107, 63225, 56450, 52728, 55955, 63225, 7285, 34622, 44136, 36401, 52704, 72346, 65480, 8657, 34622, 16338, 13688, 38934, 34402, 52704, 13688, 13688, 28055, 52704, 36622, 28055, 8657, 46588, 62537, 62594, 52648, 37818, 54592, 63225, 25331, 8769, 34346, 44324, 23468, 56583, 41629, 23217, 44719, 26148, 20658, 63225, 65480, 4906, 30871, 20149, 25331, 8657, 51299, 7076, 4840, 13458, 62594, 72393, 32570, 63225, 65480, 73331, 56121, 50923, 71955, 32647, 65335, 35764, 57369, 55073, 2879, 6839, 35701, 72331, 2638, 47721, 63225, 65659, 63225, 31424, 28863, 20658, 34346, 32231, 57984, 71955, 22651, 28117, 34433, 38934, 52596, 13688, 42784, 72898, 4288, 32231, 55073, 42363, 9277, 51299, 64474, 52572, 3029, 70230, 70230, 72346, 68572, 55073, 71955, 4906, 65678, 64928, 46588, 64474, 13137, 13688, 9507, 30244, 20658, 63225, 20689, 56583, 41629, 46648, 36717, 34772, 19470, 4906, 30871, 8657, 64474, 41629, 50923, 23217, 4153, 4153, 33469, 70230, 70230, 68834, 54592, 63225, 27712, 51299, 41629, 7618, 3008, 52213, 53557, 18641, 53557, 38569, 33469, 68834, 46187, 51299, 14378, 12746, 63985, 72898, 63225, 29204, 54592, 45985, 5958, 33635, 68486, 34402, 33469, 27717, 63225, 41802, 43385, 49406, 70230, 70230, 42363, 63225, 53557, 30078], [0, 0, 0, 0, 0, 0, 0, 0, 0, 0, 0, 0, 0, 0, 0, 0, 0, 0, 0, 0, 0, 0, 0, 0, 0, 0, 0, 0, 0, 0, 0, 0, 0, 0, 0, 0, 0, 0, 0, 0, 0, 0, 0, 0, 0, 0, 0, 0, 0, 0, 0, 0, 0, 0, 0, 0, 0, 0, 0, 0, 0, 0, 0, 0, 0, 0, 0, 0, 0, 0, 0, 0, 0, 0, 0, 0, 0, 0, 0, 0, 0, 0, 0, 0, 0, 0, 0, 0, 0, 0, 0, 0, 0, 0, 0, 0, 0, 0, 0, 0, 0, 0, 0, 0, 0, 0, 0, 0, 0, 0, 0, 42467, 65480, 52699, 41036, 34078, 26758, 3008, 60492, 65659, 64928, 46588, 46937, 64203, 18692, 41952, 11489, 42467, 65480, 40951, 34622, 52326, 63175, 60492, 22968, 3008, 63225, 65480, 54592, 49477, 60258, 8769, 63225, 47449, 69303, 24018, 63225, 65480, 56121, 52159, 41483, 34622, 34622, 54592, 4617, 51622, 60859, 65480, 42363, 51299, 16925, 47449, 20658, 52369, 5120, 9461, 56493, 36401, 34622, 6933, 51299, 41629, 7618, 34622, 35393, 25530, 37202, 51299, 31759, 38934, 72031, 42363, 51299, 19684, 21671, 42783, 60492, 20718, 35701, 52704, 48090, 4500, 54592, 41055, 38934, 18211, 46588, 41483, 63225, 69208], [51299, 35397, 36510, 39415, 38934, 28809, 11489, 63225, 71984, 8657, 3029, 3814, 4840, 49663, 51299, 35397, 36510, 39415, 38934, 52491, 52704, 28463, 20658, 41055, 27334, 5352, 55955, 63225, 65480, 8657, 46754, 54592, 55418, 36218, 41483, 36401, 62709, 68260, 62594, 60476, 56651, 51299, 35397, 36510, 39415, 38934, 43099, 9435, 63225, 12460, 35993, 15877, 16454, 8657, 34622, 57984, 58544, 46229, 58544, 22625, 1194, 52704, 3850, 57078, 65480, 51299, 35397, 36510, 39415, 38934, 4671, 20658, 63225, 50635, 20658, 63225, 21131, 72346, 8657, 51299, 7076, 4840, 36401, 37926, 4153, 70230, 70230, 23249, 70230, 70230, 2879, 3008, 2879, 42467, 65480, 54592, 8332, 41483, 1686, 73544, 68082, 51299, 29038, 34622, 41181, 43658, 61563, 9435, 63225, 50635, 68287, 59776, 42467, 65480, 54592, 65659, 35393, 5656, 37202, 63225, 10930, 36724, 62594, 28612, 22187, 3008, 63225, 14869, 30476, 39068, 24594, 1686, 11602, 30338, 36973, 38934, 46221, 7192, 51299, 33395, 63225, 61416, 73041, 63225, 11925, 3370, 38934, 34402, 3008, 52704, 28791, 38934, 468, 68691, 65480, 37959, 35393, 42977, 38934, 39336, 39771, 49663, 53557, 52648, 38934, 28475, 36510, 63225, 61416, 44026, 1269, 38934, 64110, 42467, 54592, 34622, 68999, 32921, 64219, 20658, 54244, 54245, 61311, 40951, 27876, 2879, 55619, 73922, 24018, 35397, 55818, 4617, 66377, 20465, 51021, 10336, 37202, 64203, 63225, 65480], [60865, 25953, 8769, 18624, 6777, 10153, 52704, 14020, 44101, 71984, 6107, 63225, 21151, 50732, 20658, 63225, 60865, 63225, 41440, 54592, 17052, 34161, 53031, 28475, 41483, 4288, 7676, 44101, 16136, 62594, 34758, 42363, 22916, 42363, 12460, 61563, 3008, 16454, 63225, 34294, 20658, 63225, 65480, 72393, 34402, 27698, 13688, 49830, 62709, 20658, 63225, 2551, 20658, 63225, 34078, 8657, 63225, 44101, 71984, 54592, 4617, 67897, 46588, 20327, 19391, 59653, 54592, 14990, 58544, 47114, 4617, 27577, 21434, 18798, 72063, 8769, 45266, 49645, 37773, 60125, 6107, 63225, 44357, 47114, 29752, 44444, 352, 22277, 52704, 32929, 48074, 39759, 6107, 3649, 65659, 38934, 73812, 68260, 14594, 3649, 17272, 54195, 60865, 3008, 52704, 135, 27347, 39771, 28097, 13838, 3861, 28097, 52152, 42363, 28053, 34622, 16331, 63225, 43896, 48074, 7676, 4923, 3990, 1183, 35701, 44719, 60213, 37261, 63225, 6377, 71725, 3008, 44101, 42363, 63225, 61416, 5834, 63225, 70661, 20658, 63225, 60865, 55709, 69761, 44719, 28872, 70230, 70230, 63225, 65480, 70766, 3008, 68883, 25530, 35701, 63225, 59186, 20658, 63225, 62044, 8769, 52704, 31769, 17080, 41483, 38909, 62594, 41760, 35701, 63225, 60865, 4500, 56121, 30061, 46039, 46588, 20658, 63225, 4133, 20658, 63225, 60865, 47114, 6055, 36049, 7676, 38569, 62780, 20658, 63225, 59186, 20658, 63225, 62044, 6107, 35532, 42363, 54592, 16964, 38934], [0, 0, 0, 0, 0, 0, 0, 0, 0, 0, 0, 0, 0, 0, 0, 0, 0, 0, 0, 0, 0, 0, 0, 0, 0, 0, 0, 0, 0, 0, 0, 0, 0, 0, 0, 0, 0, 0, 0, 0, 0, 0, 0, 0, 0, 0, 0, 0, 0, 0, 0, 0, 0, 0, 0, 0, 0, 0, 0, 0, 0, 0, 0, 0, 0, 0, 0, 0, 0, 0, 0, 0, 0, 0, 0, 0, 0, 0, 0, 0, 0, 0, 0, 0, 42467, 54592, 63225, 57949, 2068, 20658, 51299, 7076, 65037, 64203, 13929, 56121, 54592, 3649, 28511, 20658, 9165, 68939, 52704, 37552, 44568, 63225, 14472, 36510, 50923, 38746, 23209, 26606, 63225, 71984, 36510, 50923, 34886, 38934, 12464, 63225, 6538, 22146, 42363, 32921, 12532, 4923, 63225, 72346, 20689, 4241, 8769, 63225, 23468, 34622, 18641, 36401, 38331, 4923, 47628, 41643, 56583, 72393, 51804, 3008, 73316, 63225, 60416, 4923, 7486, 42363, 8223, 13926, 38934, 39336, 42363, 46588, 61549, 58409, 35701, 1686, 55418, 63225, 17857, 33073, 57984, 8769, 5833, 56000, 41367, 28097, 54592, 2879, 20718, 24015, 3649, 17857, 7075, 63225, 14145, 20658, 67136, 35701, 52704, 29863, 56912, 27952, 46754, 36717, 54592, 27981, 23217, 52704, 20149, 42930, 8657, 63225, 5658, 49943, 54765, 34622]]\n"
     ]
    }
   ],
   "source": [
    "print(features[:100])"
   ]
  },
  {
   "cell_type": "markdown",
   "metadata": {
    "deletable": true,
    "editable": true
   },
   "source": [
    "## Training, Validation, Test\n",
    "\n"
   ]
  },
  {
   "cell_type": "markdown",
   "metadata": {
    "deletable": true,
    "editable": true
   },
   "source": [
    "With our data in nice shape, we'll split it into training, validation, and test sets.\n",
    "\n",
    "> **Exercise:** Create the training, validation, and test sets here. You'll need to create sets for the features and the labels, `train_x` and `train_y` for example. Define a split fraction, `split_frac` as the fraction of data to keep in the training set. Usually this is set to 0.8 or 0.9. The rest of the data will be split in half to create the validation and testing data."
   ]
  },
  {
   "cell_type": "code",
   "execution_count": null,
   "metadata": {
    "collapsed": false,
    "deletable": true,
    "editable": true
   },
   "outputs": [],
   "source": [
    "split_frac = 0.8\n",
    "\n",
    "train_x, val_x = \n",
    "train_y, val_y = \n",
    "\n",
    "val_x, test_x = \n",
    "val_y, test_y = \n",
    "\n",
    "print(\"\\t\\t\\tFeature Shapes:\")\n",
    "print(\"Train set: \\t\\t{}\".format(train_x.shape), \n",
    "      \"\\nValidation set: \\t{}\".format(val_x.shape),\n",
    "      \"\\nTest set: \\t\\t{}\".format(test_x.shape))"
   ]
  },
  {
   "cell_type": "markdown",
   "metadata": {
    "deletable": true,
    "editable": true
   },
   "source": [
    "With train, validation, and text fractions of 0.8, 0.1, 0.1, the final shapes should look like:\n",
    "```\n",
    "                    Feature Shapes:\n",
    "Train set: \t\t (20000, 200) \n",
    "Validation set: \t(2500, 200) \n",
    "Test set: \t\t  (2501, 200)\n",
    "```"
   ]
  },
  {
   "cell_type": "markdown",
   "metadata": {
    "deletable": true,
    "editable": true
   },
   "source": [
    "## Build the graph\n",
    "\n",
    "Here, we'll build the graph. First up, defining the hyperparameters.\n",
    "\n",
    "* `lstm_size`: Number of units in the hidden layers in the LSTM cells. Usually larger is better performance wise. Common values are 128, 256, 512, etc.\n",
    "* `lstm_layers`: Number of LSTM layers in the network. I'd start with 1, then add more if I'm underfitting.\n",
    "* `batch_size`: The number of reviews to feed the network in one training pass. Typically this should be set as high as you can go without running out of memory.\n",
    "* `learning_rate`: Learning rate"
   ]
  },
  {
   "cell_type": "code",
   "execution_count": 31,
   "metadata": {
    "collapsed": true,
    "deletable": true,
    "editable": true
   },
   "outputs": [],
   "source": [
    "lstm_size = 256\n",
    "lstm_layers = 1\n",
    "batch_size = 500\n",
    "learning_rate = 0.001"
   ]
  },
  {
   "cell_type": "markdown",
   "metadata": {
    "deletable": true,
    "editable": true
   },
   "source": [
    "For the network itself, we'll be passing in our 200 element long review vectors. Each batch will be `batch_size` vectors. We'll also be using dropout on the LSTM layer, so we'll make a placeholder for the keep probability."
   ]
  },
  {
   "cell_type": "markdown",
   "metadata": {
    "deletable": true,
    "editable": true
   },
   "source": [
    "> **Exercise:** Create the `inputs_`, `labels_`, and drop out `keep_prob` placeholders using `tf.placeholder`. `labels_` needs to be two-dimensional to work with some functions later.  Since `keep_prob` is a scalar (a 0-dimensional tensor), you shouldn't provide a size to `tf.placeholder`."
   ]
  },
  {
   "cell_type": "code",
   "execution_count": 32,
   "metadata": {
    "collapsed": false,
    "deletable": true,
    "editable": true
   },
   "outputs": [],
   "source": [
    "n_words = len(vocab)\n",
    "\n",
    "# Create the graph object\n",
    "graph = tf.Graph()\n",
    "# Add nodes to the graph\n",
    "with graph.as_default():\n",
    "    inputs_ = \n",
    "    labels_ = \n",
    "    keep_prob = "
   ]
  },
  {
   "cell_type": "markdown",
   "metadata": {
    "deletable": true,
    "editable": true
   },
   "source": [
    "### Embedding\n",
    "\n",
    "Now we'll add an embedding layer. We need to do this because there are 74000 words in our vocabulary. It is massively inefficient to one-hot encode our classes here. You should remember dealing with this problem from the word2vec lesson. Instead of one-hot encoding, we can have an embedding layer and use that layer as a lookup table. You could train an embedding layer using word2vec, then load it here. But, it's fine to just make a new layer and let the network learn the weights.\n",
    "\n",
    "> **Exercise:** Create the embedding lookup matrix as a `tf.Variable`. Use that embedding matrix to get the embedded vectors to pass to the LSTM cell with [`tf.nn.embedding_lookup`](https://www.tensorflow.org/api_docs/python/tf/nn/embedding_lookup). This function takes the embedding matrix and an input tensor, such as the review vectors. Then, it'll return another tensor with the embedded vectors. So, if the embedding layer has 200 units, the function will return a tensor with size [batch_size, 200].\n",
    "\n"
   ]
  },
  {
   "cell_type": "code",
   "execution_count": 33,
   "metadata": {
    "collapsed": false,
    "deletable": true,
    "editable": true
   },
   "outputs": [],
   "source": [
    "# Size of the embedding vectors (number of units in the embedding layer)\n",
    "embed_size = 300 \n",
    "\n",
    "with graph.as_default():\n",
    "    embedding = \n",
    "    embed = "
   ]
  },
  {
   "cell_type": "markdown",
   "metadata": {
    "deletable": true,
    "editable": true
   },
   "source": [
    "### LSTM cell\n",
    "\n",
    "<img src=\"assets/network_diagram.png\" width=400px>\n",
    "\n",
    "Next, we'll create our LSTM cells to use in the recurrent network ([TensorFlow documentation](https://www.tensorflow.org/api_docs/python/tf/contrib/rnn)). Here we are just defining what the cells look like. This isn't actually building the graph, just defining the type of cells we want in our graph.\n",
    "\n",
    "To create a basic LSTM cell for the graph, you'll want to use `tf.contrib.rnn.BasicLSTMCell`. Looking at the function documentation:\n",
    "\n",
    "```\n",
    "tf.contrib.rnn.BasicLSTMCell(num_units, forget_bias=1.0, input_size=None, state_is_tuple=True, activation=<function tanh at 0x109f1ef28>)\n",
    "```\n",
    "\n",
    "you can see it takes a parameter called `num_units`, the number of units in the cell, called `lstm_size` in this code. So then, you can write something like \n",
    "\n",
    "```\n",
    "lstm = tf.contrib.rnn.BasicLSTMCell(num_units)\n",
    "```\n",
    "\n",
    "to create an LSTM cell with `num_units`. Next, you can add dropout to the cell with `tf.contrib.rnn.DropoutWrapper`. This just wraps the cell in another cell, but with dropout added to the inputs and/or outputs. It's a really convenient way to make your network better with almost no effort! So you'd do something like\n",
    "\n",
    "```\n",
    "drop = tf.contrib.rnn.DropoutWrapper(cell, output_keep_prob=keep_prob)\n",
    "```\n",
    "\n",
    "Most of the time, your network will have better performance with more layers. That's sort of the magic of deep learning, adding more layers allows the network to learn really complex relationships. Again, there is a simple way to create multiple layers of LSTM cells with `tf.contrib.rnn.MultiRNNCell`:\n",
    "\n",
    "```\n",
    "cell = tf.contrib.rnn.MultiRNNCell([drop] * lstm_layers)\n",
    "```\n",
    "\n",
    "Here, `[drop] * lstm_layers` creates a list of cells (`drop`) that is `lstm_layers` long. The `MultiRNNCell` wrapper builds this into multiple layers of RNN cells, one for each cell in the list.\n",
    "\n",
    "So the final cell you're using in the network is actually multiple (or just one) LSTM cells with dropout. But it all works the same from an achitectural viewpoint, just a more complicated graph in the cell.\n",
    "\n",
    "> **Exercise:** Below, use `tf.contrib.rnn.BasicLSTMCell` to create an LSTM cell. Then, add drop out to it with `tf.contrib.rnn.DropoutWrapper`. Finally, create multiple LSTM layers with `tf.contrib.rnn.MultiRNNCell`.\n",
    "\n",
    "Here is [a tutorial on building RNNs](https://www.tensorflow.org/tutorials/recurrent) that will help you out.\n"
   ]
  },
  {
   "cell_type": "code",
   "execution_count": 34,
   "metadata": {
    "collapsed": false,
    "deletable": true,
    "editable": true
   },
   "outputs": [],
   "source": [
    "with graph.as_default():\n",
    "    # Your basic LSTM cell\n",
    "    lstm = \n",
    "    \n",
    "    # Add dropout to the cell\n",
    "    drop = \n",
    "    \n",
    "    # Stack up multiple LSTM layers, for deep learning\n",
    "    cell = \n",
    "    \n",
    "    # Getting an initial state of all zeros\n",
    "    initial_state = cell.zero_state(batch_size, tf.float32)"
   ]
  },
  {
   "cell_type": "markdown",
   "metadata": {
    "deletable": true,
    "editable": true
   },
   "source": [
    "### RNN forward pass\n",
    "\n",
    "<img src=\"assets/network_diagram.png\" width=400px>\n",
    "\n",
    "Now we need to actually run the data through the RNN nodes. You can use [`tf.nn.dynamic_rnn`](https://www.tensorflow.org/api_docs/python/tf/nn/dynamic_rnn) to do this. You'd pass in the RNN cell you created (our multiple layered LSTM `cell` for instance), and the inputs to the network.\n",
    "\n",
    "```\n",
    "outputs, final_state = tf.nn.dynamic_rnn(cell, inputs, initial_state=initial_state)\n",
    "```\n",
    "\n",
    "Above I created an initial state, `initial_state`, to pass to the RNN. This is the cell state that is passed between the hidden layers in successive time steps. `tf.nn.dynamic_rnn` takes care of most of the work for us. We pass in our cell and the input to the cell, then it does the unrolling and everything else for us. It returns outputs for each time step and the final_state of the hidden layer.\n",
    "\n",
    "> **Exercise:** Use `tf.nn.dynamic_rnn` to add the forward pass through the RNN. Remember that we're actually passing in vectors from the embedding layer, `embed`.\n",
    "\n"
   ]
  },
  {
   "cell_type": "code",
   "execution_count": 35,
   "metadata": {
    "collapsed": false,
    "deletable": true,
    "editable": true
   },
   "outputs": [],
   "source": [
    "with graph.as_default():\n",
    "    outputs, final_state = "
   ]
  },
  {
   "cell_type": "markdown",
   "metadata": {
    "deletable": true,
    "editable": true
   },
   "source": [
    "### Output\n",
    "\n",
    "We only care about the final output, we'll be using that as our sentiment prediction. So we need to grab the last output with `outputs[:, -1]`, the calculate the cost from that and `labels_`."
   ]
  },
  {
   "cell_type": "code",
   "execution_count": 36,
   "metadata": {
    "collapsed": false,
    "deletable": true,
    "editable": true
   },
   "outputs": [],
   "source": [
    "with graph.as_default():\n",
    "    predictions = tf.contrib.layers.fully_connected(outputs[:, -1], 1, activation_fn=tf.sigmoid)\n",
    "    cost = tf.losses.mean_squared_error(labels_, predictions)\n",
    "    \n",
    "    optimizer = tf.train.AdamOptimizer(learning_rate).minimize(cost)"
   ]
  },
  {
   "cell_type": "markdown",
   "metadata": {
    "deletable": true,
    "editable": true
   },
   "source": [
    "### Validation accuracy\n",
    "\n",
    "Here we can add a few nodes to calculate the accuracy which we'll use in the validation pass."
   ]
  },
  {
   "cell_type": "code",
   "execution_count": 37,
   "metadata": {
    "collapsed": false,
    "deletable": true,
    "editable": true
   },
   "outputs": [],
   "source": [
    "with graph.as_default():\n",
    "    correct_pred = tf.equal(tf.cast(tf.round(predictions), tf.int32), labels_)\n",
    "    accuracy = tf.reduce_mean(tf.cast(correct_pred, tf.float32))"
   ]
  },
  {
   "cell_type": "markdown",
   "metadata": {
    "deletable": true,
    "editable": true
   },
   "source": [
    "### Batching\n",
    "\n",
    "This is a simple function for returning batches from our data. First it removes data such that we only have full batches. Then it iterates through the `x` and `y` arrays and returns slices out of those arrays with size `[batch_size]`."
   ]
  },
  {
   "cell_type": "code",
   "execution_count": 38,
   "metadata": {
    "collapsed": true,
    "deletable": true,
    "editable": true
   },
   "outputs": [],
   "source": [
    "def get_batches(x, y, batch_size=100):\n",
    "    \n",
    "    n_batches = len(x)//batch_size\n",
    "    x, y = x[:n_batches*batch_size], y[:n_batches*batch_size]\n",
    "    for ii in range(0, len(x), batch_size):\n",
    "        yield x[ii:ii+batch_size], y[ii:ii+batch_size]"
   ]
  },
  {
   "cell_type": "markdown",
   "metadata": {
    "deletable": true,
    "editable": true
   },
   "source": [
    "## Training\n",
    "\n",
    "Below is the typical training code. If you want to do this yourself, feel free to delete all this code and implement it yourself. Before you run this, make sure the `checkpoints` directory exists."
   ]
  },
  {
   "cell_type": "code",
   "execution_count": null,
   "metadata": {
    "collapsed": false,
    "deletable": true,
    "editable": true
   },
   "outputs": [],
   "source": [
    "epochs = 10\n",
    "\n",
    "with graph.as_default():\n",
    "    saver = tf.train.Saver()\n",
    "\n",
    "with tf.Session(graph=graph) as sess:\n",
    "    sess.run(tf.global_variables_initializer())\n",
    "    iteration = 1\n",
    "    for e in range(epochs):\n",
    "        state = sess.run(initial_state)\n",
    "        \n",
    "        for ii, (x, y) in enumerate(get_batches(train_x, train_y, batch_size), 1):\n",
    "            feed = {inputs_: x,\n",
    "                    labels_: y[:, None],\n",
    "                    keep_prob: 0.5,\n",
    "                    initial_state: state}\n",
    "            loss, state, _ = sess.run([cost, final_state, optimizer], feed_dict=feed)\n",
    "            \n",
    "            if iteration%5==0:\n",
    "                print(\"Epoch: {}/{}\".format(e, epochs),\n",
    "                      \"Iteration: {}\".format(iteration),\n",
    "                      \"Train loss: {:.3f}\".format(loss))\n",
    "\n",
    "            if iteration%25==0:\n",
    "                val_acc = []\n",
    "                val_state = sess.run(cell.zero_state(batch_size, tf.float32))\n",
    "                for x, y in get_batches(val_x, val_y, batch_size):\n",
    "                    feed = {inputs_: x,\n",
    "                            labels_: y[:, None],\n",
    "                            keep_prob: 1,\n",
    "                            initial_state: val_state}\n",
    "                    batch_acc, val_state = sess.run([accuracy, final_state], feed_dict=feed)\n",
    "                    val_acc.append(batch_acc)\n",
    "                print(\"Val acc: {:.3f}\".format(np.mean(val_acc)))\n",
    "            iteration +=1\n",
    "    saver.save(sess, \"checkpoints/sentiment.ckpt\")"
   ]
  },
  {
   "cell_type": "markdown",
   "metadata": {
    "deletable": true,
    "editable": true
   },
   "source": [
    "## Testing"
   ]
  },
  {
   "cell_type": "code",
   "execution_count": null,
   "metadata": {
    "collapsed": false,
    "deletable": true,
    "editable": true
   },
   "outputs": [],
   "source": [
    "test_acc = []\n",
    "with tf.Session(graph=graph) as sess:\n",
    "    saver.restore(sess, tf.train.latest_checkpoint('/output/checkpoints'))\n",
    "    test_state = sess.run(cell.zero_state(batch_size, tf.float32))\n",
    "    for ii, (x, y) in enumerate(get_batches(test_x, test_y, batch_size), 1):\n",
    "        feed = {inputs_: x,\n",
    "                labels_: y[:, None],\n",
    "                keep_prob: 1,\n",
    "                initial_state: test_state}\n",
    "        batch_acc, test_state = sess.run([accuracy, final_state], feed_dict=feed)\n",
    "        test_acc.append(batch_acc)\n",
    "    print(\"Test accuracy: {:.3f}\".format(np.mean(test_acc)))"
   ]
  }
 ],
 "metadata": {
  "kernelspec": {
   "display_name": "Python [default]",
   "language": "python",
   "name": "python3"
  },
  "language_info": {
   "codemirror_mode": {
    "name": "ipython",
    "version": 3
   },
   "file_extension": ".py",
   "mimetype": "text/x-python",
   "name": "python",
   "nbconvert_exporter": "python",
   "pygments_lexer": "ipython3",
   "version": "3.5.2"
  }
 },
 "nbformat": 4,
 "nbformat_minor": 2
}
